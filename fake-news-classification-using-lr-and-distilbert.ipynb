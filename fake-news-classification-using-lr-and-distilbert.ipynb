{
 "cells": [
  {
   "cell_type": "code",
   "execution_count": 1,
   "id": "baebfb0a",
   "metadata": {
    "execution": {
     "iopub.execute_input": "2023-01-09T18:41:31.097717Z",
     "iopub.status.busy": "2023-01-09T18:41:31.096505Z",
     "iopub.status.idle": "2023-01-09T18:42:37.985616Z",
     "shell.execute_reply": "2023-01-09T18:42:37.986196Z",
     "shell.execute_reply.started": "2023-01-09T18:31:51.684890Z"
    },
    "papermill": {
     "duration": 66.954446,
     "end_time": "2023-01-09T18:42:37.986535",
     "exception": false,
     "start_time": "2023-01-09T18:41:31.032089",
     "status": "completed"
    },
    "tags": []
   },
   "outputs": [
    {
     "name": "stdout",
     "output_type": "stream",
     "text": [
      "Requirement already satisfied: pandas in /opt/conda/lib/python3.7/site-packages (1.3.2)\r\n",
      "Requirement already satisfied: numpy>=1.17.3 in /opt/conda/lib/python3.7/site-packages (from pandas) (1.19.5)\r\n",
      "Requirement already satisfied: python-dateutil>=2.7.3 in /opt/conda/lib/python3.7/site-packages (from pandas) (2.8.0)\r\n",
      "Requirement already satisfied: pytz>=2017.3 in /opt/conda/lib/python3.7/site-packages (from pandas) (2021.1)\r\n",
      "Requirement already satisfied: six>=1.5 in /opt/conda/lib/python3.7/site-packages (from python-dateutil>=2.7.3->pandas) (1.15.0)\r\n",
      "\u001b[33mWARNING: Running pip as the 'root' user can result in broken permissions and conflicting behaviour with the system package manager. It is recommended to use a virtual environment instead: https://pip.pypa.io/warnings/venv\u001b[0m\r\n",
      "Requirement already satisfied: spacy in /opt/conda/lib/python3.7/site-packages (2.3.7)\r\n",
      "Requirement already satisfied: blis<0.8.0,>=0.4.0 in /opt/conda/lib/python3.7/site-packages (from spacy) (0.7.4)\r\n",
      "Requirement already satisfied: srsly<1.1.0,>=1.0.2 in /opt/conda/lib/python3.7/site-packages (from spacy) (1.0.5)\r\n",
      "Requirement already satisfied: cymem<2.1.0,>=2.0.2 in /opt/conda/lib/python3.7/site-packages (from spacy) (2.0.5)\r\n",
      "Requirement already satisfied: wasabi<1.1.0,>=0.4.0 in /opt/conda/lib/python3.7/site-packages (from spacy) (0.8.2)\r\n",
      "Requirement already satisfied: tqdm<5.0.0,>=4.38.0 in /opt/conda/lib/python3.7/site-packages (from spacy) (4.62.1)\r\n",
      "Requirement already satisfied: setuptools in /opt/conda/lib/python3.7/site-packages (from spacy) (57.4.0)\r\n",
      "Requirement already satisfied: numpy>=1.15.0 in /opt/conda/lib/python3.7/site-packages (from spacy) (1.19.5)\r\n",
      "Requirement already satisfied: plac<1.2.0,>=0.9.6 in /opt/conda/lib/python3.7/site-packages (from spacy) (1.1.3)\r\n",
      "Requirement already satisfied: catalogue<1.1.0,>=0.0.7 in /opt/conda/lib/python3.7/site-packages (from spacy) (1.0.0)\r\n",
      "Requirement already satisfied: preshed<3.1.0,>=3.0.2 in /opt/conda/lib/python3.7/site-packages (from spacy) (3.0.5)\r\n",
      "Requirement already satisfied: murmurhash<1.1.0,>=0.28.0 in /opt/conda/lib/python3.7/site-packages (from spacy) (1.0.5)\r\n",
      "Requirement already satisfied: thinc<7.5.0,>=7.4.1 in /opt/conda/lib/python3.7/site-packages (from spacy) (7.4.5)\r\n",
      "Requirement already satisfied: requests<3.0.0,>=2.13.0 in /opt/conda/lib/python3.7/site-packages (from spacy) (2.25.1)\r\n",
      "Requirement already satisfied: importlib-metadata>=0.20 in /opt/conda/lib/python3.7/site-packages (from catalogue<1.1.0,>=0.0.7->spacy) (3.4.0)\r\n",
      "Requirement already satisfied: zipp>=0.5 in /opt/conda/lib/python3.7/site-packages (from importlib-metadata>=0.20->catalogue<1.1.0,>=0.0.7->spacy) (3.5.0)\r\n",
      "Requirement already satisfied: typing-extensions>=3.6.4 in /opt/conda/lib/python3.7/site-packages (from importlib-metadata>=0.20->catalogue<1.1.0,>=0.0.7->spacy) (3.7.4.3)\r\n",
      "Requirement already satisfied: idna<3,>=2.5 in /opt/conda/lib/python3.7/site-packages (from requests<3.0.0,>=2.13.0->spacy) (2.10)\r\n",
      "Requirement already satisfied: chardet<5,>=3.0.2 in /opt/conda/lib/python3.7/site-packages (from requests<3.0.0,>=2.13.0->spacy) (4.0.0)\r\n",
      "Requirement already satisfied: urllib3<1.27,>=1.21.1 in /opt/conda/lib/python3.7/site-packages (from requests<3.0.0,>=2.13.0->spacy) (1.26.6)\r\n",
      "Requirement already satisfied: certifi>=2017.4.17 in /opt/conda/lib/python3.7/site-packages (from requests<3.0.0,>=2.13.0->spacy) (2021.5.30)\r\n",
      "\u001b[33mWARNING: Running pip as the 'root' user can result in broken permissions and conflicting behaviour with the system package manager. It is recommended to use a virtual environment instead: https://pip.pypa.io/warnings/venv\u001b[0m\r\n",
      "Requirement already satisfied: numpy in /opt/conda/lib/python3.7/site-packages (1.19.5)\r\n",
      "\u001b[33mWARNING: Running pip as the 'root' user can result in broken permissions and conflicting behaviour with the system package manager. It is recommended to use a virtual environment instead: https://pip.pypa.io/warnings/venv\u001b[0m\r\n",
      "Requirement already satisfied: scikit-learn in /opt/conda/lib/python3.7/site-packages (0.23.2)\r\n",
      "Requirement already satisfied: joblib>=0.11 in /opt/conda/lib/python3.7/site-packages (from scikit-learn) (1.0.1)\r\n",
      "Requirement already satisfied: scipy>=0.19.1 in /opt/conda/lib/python3.7/site-packages (from scikit-learn) (1.7.1)\r\n",
      "Requirement already satisfied: numpy>=1.13.3 in /opt/conda/lib/python3.7/site-packages (from scikit-learn) (1.19.5)\r\n",
      "Requirement already satisfied: threadpoolctl>=2.0.0 in /opt/conda/lib/python3.7/site-packages (from scikit-learn) (2.2.0)\r\n",
      "\u001b[33mWARNING: Running pip as the 'root' user can result in broken permissions and conflicting behaviour with the system package manager. It is recommended to use a virtual environment instead: https://pip.pypa.io/warnings/venv\u001b[0m\r\n",
      "Requirement already satisfied: tensorflow in /opt/conda/lib/python3.7/site-packages (2.4.1)\r\n",
      "Requirement already satisfied: astunparse~=1.6.3 in /opt/conda/lib/python3.7/site-packages (from tensorflow) (1.6.3)\r\n",
      "Requirement already satisfied: termcolor~=1.1.0 in /opt/conda/lib/python3.7/site-packages (from tensorflow) (1.1.0)\r\n",
      "Requirement already satisfied: wheel~=0.35 in /opt/conda/lib/python3.7/site-packages (from tensorflow) (0.37.0)\r\n",
      "Requirement already satisfied: wrapt~=1.12.1 in /opt/conda/lib/python3.7/site-packages (from tensorflow) (1.12.1)\r\n",
      "Requirement already satisfied: tensorboard~=2.4 in /opt/conda/lib/python3.7/site-packages (from tensorflow) (2.6.0)\r\n",
      "Requirement already satisfied: absl-py~=0.10 in /opt/conda/lib/python3.7/site-packages (from tensorflow) (0.12.0)\r\n",
      "Requirement already satisfied: google-pasta~=0.2 in /opt/conda/lib/python3.7/site-packages (from tensorflow) (0.2.0)\r\n",
      "Requirement already satisfied: opt-einsum~=3.3.0 in /opt/conda/lib/python3.7/site-packages (from tensorflow) (3.3.0)\r\n",
      "Requirement already satisfied: gast==0.3.3 in /opt/conda/lib/python3.7/site-packages (from tensorflow) (0.3.3)\r\n",
      "Requirement already satisfied: numpy~=1.19.2 in /opt/conda/lib/python3.7/site-packages (from tensorflow) (1.19.5)\r\n",
      "Requirement already satisfied: flatbuffers~=1.12.0 in /opt/conda/lib/python3.7/site-packages (from tensorflow) (1.12)\r\n",
      "Requirement already satisfied: tensorflow-estimator<2.5.0,>=2.4.0 in /opt/conda/lib/python3.7/site-packages (from tensorflow) (2.4.0)\r\n",
      "Requirement already satisfied: grpcio~=1.32.0 in /opt/conda/lib/python3.7/site-packages (from tensorflow) (1.32.0)\r\n",
      "Requirement already satisfied: keras-preprocessing~=1.1.2 in /opt/conda/lib/python3.7/site-packages (from tensorflow) (1.1.2)\r\n",
      "Requirement already satisfied: typing-extensions~=3.7.4 in /opt/conda/lib/python3.7/site-packages (from tensorflow) (3.7.4.3)\r\n",
      "Requirement already satisfied: h5py~=2.10.0 in /opt/conda/lib/python3.7/site-packages (from tensorflow) (2.10.0)\r\n",
      "Requirement already satisfied: six~=1.15.0 in /opt/conda/lib/python3.7/site-packages (from tensorflow) (1.15.0)\r\n",
      "Requirement already satisfied: protobuf>=3.9.2 in /opt/conda/lib/python3.7/site-packages (from tensorflow) (3.18.0)\r\n",
      "Requirement already satisfied: requests<3,>=2.21.0 in /opt/conda/lib/python3.7/site-packages (from tensorboard~=2.4->tensorflow) (2.25.1)\r\n",
      "Requirement already satisfied: werkzeug>=0.11.15 in /opt/conda/lib/python3.7/site-packages (from tensorboard~=2.4->tensorflow) (2.0.1)\r\n",
      "Requirement already satisfied: tensorboard-plugin-wit>=1.6.0 in /opt/conda/lib/python3.7/site-packages (from tensorboard~=2.4->tensorflow) (1.8.0)\r\n",
      "Requirement already satisfied: google-auth<2,>=1.6.3 in /opt/conda/lib/python3.7/site-packages (from tensorboard~=2.4->tensorflow) (1.34.0)\r\n",
      "Requirement already satisfied: google-auth-oauthlib<0.5,>=0.4.1 in /opt/conda/lib/python3.7/site-packages (from tensorboard~=2.4->tensorflow) (0.4.5)\r\n",
      "Requirement already satisfied: setuptools>=41.0.0 in /opt/conda/lib/python3.7/site-packages (from tensorboard~=2.4->tensorflow) (57.4.0)\r\n",
      "Requirement already satisfied: markdown>=2.6.8 in /opt/conda/lib/python3.7/site-packages (from tensorboard~=2.4->tensorflow) (3.3.4)\r\n",
      "Requirement already satisfied: tensorboard-data-server<0.7.0,>=0.6.0 in /opt/conda/lib/python3.7/site-packages (from tensorboard~=2.4->tensorflow) (0.6.1)\r\n",
      "Requirement already satisfied: cachetools<5.0,>=2.0.0 in /opt/conda/lib/python3.7/site-packages (from google-auth<2,>=1.6.3->tensorboard~=2.4->tensorflow) (4.2.2)\r\n",
      "Requirement already satisfied: rsa<5,>=3.1.4 in /opt/conda/lib/python3.7/site-packages (from google-auth<2,>=1.6.3->tensorboard~=2.4->tensorflow) (4.7.2)\r\n",
      "Requirement already satisfied: pyasn1-modules>=0.2.1 in /opt/conda/lib/python3.7/site-packages (from google-auth<2,>=1.6.3->tensorboard~=2.4->tensorflow) (0.2.7)\r\n",
      "Requirement already satisfied: requests-oauthlib>=0.7.0 in /opt/conda/lib/python3.7/site-packages (from google-auth-oauthlib<0.5,>=0.4.1->tensorboard~=2.4->tensorflow) (1.3.0)\r\n",
      "Requirement already satisfied: importlib-metadata in /opt/conda/lib/python3.7/site-packages (from markdown>=2.6.8->tensorboard~=2.4->tensorflow) (3.4.0)\r\n",
      "Requirement already satisfied: pyasn1<0.5.0,>=0.4.6 in /opt/conda/lib/python3.7/site-packages (from pyasn1-modules>=0.2.1->google-auth<2,>=1.6.3->tensorboard~=2.4->tensorflow) (0.4.8)\r\n",
      "Requirement already satisfied: chardet<5,>=3.0.2 in /opt/conda/lib/python3.7/site-packages (from requests<3,>=2.21.0->tensorboard~=2.4->tensorflow) (4.0.0)\r\n",
      "Requirement already satisfied: certifi>=2017.4.17 in /opt/conda/lib/python3.7/site-packages (from requests<3,>=2.21.0->tensorboard~=2.4->tensorflow) (2021.5.30)\r\n",
      "Requirement already satisfied: urllib3<1.27,>=1.21.1 in /opt/conda/lib/python3.7/site-packages (from requests<3,>=2.21.0->tensorboard~=2.4->tensorflow) (1.26.6)\r\n",
      "Requirement already satisfied: idna<3,>=2.5 in /opt/conda/lib/python3.7/site-packages (from requests<3,>=2.21.0->tensorboard~=2.4->tensorflow) (2.10)\r\n",
      "Requirement already satisfied: oauthlib>=3.0.0 in /opt/conda/lib/python3.7/site-packages (from requests-oauthlib>=0.7.0->google-auth-oauthlib<0.5,>=0.4.1->tensorboard~=2.4->tensorflow) (3.1.1)\r\n",
      "Requirement already satisfied: zipp>=0.5 in /opt/conda/lib/python3.7/site-packages (from importlib-metadata->markdown>=2.6.8->tensorboard~=2.4->tensorflow) (3.5.0)\r\n",
      "\u001b[33mWARNING: Running pip as the 'root' user can result in broken permissions and conflicting behaviour with the system package manager. It is recommended to use a virtual environment instead: https://pip.pypa.io/warnings/venv\u001b[0m\r\n",
      "Requirement already satisfied: sklearn in /opt/conda/lib/python3.7/site-packages (0.0)\r\n",
      "Requirement already satisfied: scikit-learn in /opt/conda/lib/python3.7/site-packages (from sklearn) (0.23.2)\r\n",
      "Requirement already satisfied: joblib>=0.11 in /opt/conda/lib/python3.7/site-packages (from scikit-learn->sklearn) (1.0.1)\r\n",
      "Requirement already satisfied: scipy>=0.19.1 in /opt/conda/lib/python3.7/site-packages (from scikit-learn->sklearn) (1.7.1)\r\n",
      "Requirement already satisfied: threadpoolctl>=2.0.0 in /opt/conda/lib/python3.7/site-packages (from scikit-learn->sklearn) (2.2.0)\r\n",
      "Requirement already satisfied: numpy>=1.13.3 in /opt/conda/lib/python3.7/site-packages (from scikit-learn->sklearn) (1.19.5)\r\n",
      "\u001b[33mWARNING: Running pip as the 'root' user can result in broken permissions and conflicting behaviour with the system package manager. It is recommended to use a virtual environment instead: https://pip.pypa.io/warnings/venv\u001b[0m\r\n",
      "Requirement already satisfied: transformers in /opt/conda/lib/python3.7/site-packages (4.5.1)\r\n",
      "Requirement already satisfied: importlib-metadata in /opt/conda/lib/python3.7/site-packages (from transformers) (3.4.0)\r\n",
      "Requirement already satisfied: numpy>=1.17 in /opt/conda/lib/python3.7/site-packages (from transformers) (1.19.5)\r\n",
      "Requirement already satisfied: filelock in /opt/conda/lib/python3.7/site-packages (from transformers) (3.0.12)\r\n",
      "Requirement already satisfied: requests in /opt/conda/lib/python3.7/site-packages (from transformers) (2.25.1)\r\n",
      "Requirement already satisfied: regex!=2019.12.17 in /opt/conda/lib/python3.7/site-packages (from transformers) (2021.8.3)\r\n",
      "Requirement already satisfied: tqdm>=4.27 in /opt/conda/lib/python3.7/site-packages (from transformers) (4.62.1)\r\n",
      "Requirement already satisfied: packaging in /opt/conda/lib/python3.7/site-packages (from transformers) (21.0)\r\n",
      "Requirement already satisfied: tokenizers<0.11,>=0.10.1 in /opt/conda/lib/python3.7/site-packages (from transformers) (0.10.3)\r\n",
      "Requirement already satisfied: sacremoses in /opt/conda/lib/python3.7/site-packages (from transformers) (0.0.45)\r\n",
      "Requirement already satisfied: zipp>=0.5 in /opt/conda/lib/python3.7/site-packages (from importlib-metadata->transformers) (3.5.0)\r\n",
      "Requirement already satisfied: typing-extensions>=3.6.4 in /opt/conda/lib/python3.7/site-packages (from importlib-metadata->transformers) (3.7.4.3)\r\n",
      "Requirement already satisfied: pyparsing>=2.0.2 in /opt/conda/lib/python3.7/site-packages (from packaging->transformers) (2.4.7)\r\n",
      "Requirement already satisfied: urllib3<1.27,>=1.21.1 in /opt/conda/lib/python3.7/site-packages (from requests->transformers) (1.26.6)\r\n",
      "Requirement already satisfied: certifi>=2017.4.17 in /opt/conda/lib/python3.7/site-packages (from requests->transformers) (2021.5.30)\r\n",
      "Requirement already satisfied: chardet<5,>=3.0.2 in /opt/conda/lib/python3.7/site-packages (from requests->transformers) (4.0.0)\r\n",
      "Requirement already satisfied: idna<3,>=2.5 in /opt/conda/lib/python3.7/site-packages (from requests->transformers) (2.10)\r\n",
      "Requirement already satisfied: six in /opt/conda/lib/python3.7/site-packages (from sacremoses->transformers) (1.15.0)\r\n",
      "Requirement already satisfied: click in /opt/conda/lib/python3.7/site-packages (from sacremoses->transformers) (8.0.1)\r\n",
      "Requirement already satisfied: joblib in /opt/conda/lib/python3.7/site-packages (from sacremoses->transformers) (1.0.1)\r\n",
      "\u001b[33mWARNING: Running pip as the 'root' user can result in broken permissions and conflicting behaviour with the system package manager. It is recommended to use a virtual environment instead: https://pip.pypa.io/warnings/venv\u001b[0m\r\n",
      "Requirement already satisfied: wordcloud in /opt/conda/lib/python3.7/site-packages (1.8.1)\r\n",
      "Requirement already satisfied: pillow in /opt/conda/lib/python3.7/site-packages (from wordcloud) (8.2.0)\r\n",
      "Requirement already satisfied: matplotlib in /opt/conda/lib/python3.7/site-packages (from wordcloud) (3.4.3)\r\n",
      "Requirement already satisfied: numpy>=1.6.1 in /opt/conda/lib/python3.7/site-packages (from wordcloud) (1.19.5)\r\n",
      "Requirement already satisfied: python-dateutil>=2.7 in /opt/conda/lib/python3.7/site-packages (from matplotlib->wordcloud) (2.8.0)\r\n",
      "Requirement already satisfied: cycler>=0.10 in /opt/conda/lib/python3.7/site-packages (from matplotlib->wordcloud) (0.10.0)\r\n",
      "Requirement already satisfied: pyparsing>=2.2.1 in /opt/conda/lib/python3.7/site-packages (from matplotlib->wordcloud) (2.4.7)\r\n",
      "Requirement already satisfied: kiwisolver>=1.0.1 in /opt/conda/lib/python3.7/site-packages (from matplotlib->wordcloud) (1.3.1)\r\n",
      "Requirement already satisfied: six in /opt/conda/lib/python3.7/site-packages (from cycler>=0.10->matplotlib->wordcloud) (1.15.0)\r\n",
      "\u001b[33mWARNING: Running pip as the 'root' user can result in broken permissions and conflicting behaviour with the system package manager. It is recommended to use a virtual environment instead: https://pip.pypa.io/warnings/venv\u001b[0m\r\n"
     ]
    }
   ],
   "source": [
    "!pip3 install pandas\n",
    "!pip3 install spacy\n",
    "!pip3 install numpy\n",
    "!pip3 install scikit-learn\n",
    "!pip3 install tensorflow\n",
    "!pip3 install sklearn\n",
    "!pip3 install transformers\n",
    "!pip3 install wordcloud\n"
   ]
  },
  {
   "cell_type": "code",
   "execution_count": 2,
   "id": "af060898",
   "metadata": {
    "execution": {
     "iopub.execute_input": "2023-01-09T18:42:38.126189Z",
     "iopub.status.busy": "2023-01-09T18:42:38.121138Z",
     "iopub.status.idle": "2023-01-09T18:42:46.005077Z",
     "shell.execute_reply": "2023-01-09T18:42:46.004439Z",
     "shell.execute_reply.started": "2023-01-09T18:33:00.585476Z"
    },
    "papermill": {
     "duration": 7.95273,
     "end_time": "2023-01-09T18:42:46.005269",
     "exception": false,
     "start_time": "2023-01-09T18:42:38.052539",
     "status": "completed"
    },
    "tags": []
   },
   "outputs": [
    {
     "name": "stderr",
     "output_type": "stream",
     "text": [
      "2023-01-09 18:42:40.302907: W tensorflow/stream_executor/platform/default/dso_loader.cc:60] Could not load dynamic library 'libcudart.so.11.0'; dlerror: libcudart.so.11.0: cannot open shared object file: No such file or directory; LD_LIBRARY_PATH: /opt/conda/lib\n",
      "2023-01-09 18:42:40.303032: I tensorflow/stream_executor/cuda/cudart_stub.cc:29] Ignore above cudart dlerror if you do not have a GPU set up on your machine.\n"
     ]
    }
   ],
   "source": [
    "\n",
    "import pandas as pd\n",
    "import json\n",
    "import numpy as np\n",
    "\n",
    "import matplotlib.pyplot as plt\n",
    "\n",
    "from wordcloud import WordCloud, STOPWORDS, ImageColorGenerator\n",
    "\n",
    "from sklearn.metrics import classification_report\n",
    "from sklearn.model_selection import train_test_split\n",
    "from sklearn.linear_model import LogisticRegression\n",
    "from sklearn.feature_extraction.text import CountVectorizer\n",
    "from sklearn.pipeline import Pipeline\n",
    "from sklearn.metrics import plot_confusion_matrix, accuracy_score, confusion_matrix, ConfusionMatrixDisplay\n",
    "from sklearn import metrics\n",
    "import seaborn as sns\n",
    "from sklearn.model_selection import GridSearchCV\n",
    "\n",
    "\n",
    "#BERT\n",
    "import transformers\n",
    "import tensorflow as tf\n",
    "import tensorflow_hub as hub\n",
    "from sklearn import preprocessing"
   ]
  },
  {
   "attachments": {},
   "cell_type": "markdown",
   "id": "896c0674",
   "metadata": {
    "papermill": {
     "duration": 0.064482,
     "end_time": "2023-01-09T18:42:46.136906",
     "exception": false,
     "start_time": "2023-01-09T18:42:46.072424",
     "status": "completed"
    },
    "tags": []
   },
   "source": [
    "## Read and Pre-process the data\n",
    "We read in the csv file."
   ]
  },
  {
   "cell_type": "code",
   "execution_count": 3,
   "id": "e912efbe",
   "metadata": {
    "execution": {
     "iopub.execute_input": "2023-01-09T18:42:46.277428Z",
     "iopub.status.busy": "2023-01-09T18:42:46.276698Z",
     "iopub.status.idle": "2023-01-09T18:42:52.824021Z",
     "shell.execute_reply": "2023-01-09T18:42:52.823410Z",
     "shell.execute_reply.started": "2023-01-09T18:33:00.594986Z"
    },
    "papermill": {
     "duration": 6.621291,
     "end_time": "2023-01-09T18:42:52.824164",
     "exception": false,
     "start_time": "2023-01-09T18:42:46.202873",
     "status": "completed"
    },
    "tags": []
   },
   "outputs": [
    {
     "data": {
      "text/html": [
       "<div>\n",
       "<style scoped>\n",
       "    .dataframe tbody tr th:only-of-type {\n",
       "        vertical-align: middle;\n",
       "    }\n",
       "\n",
       "    .dataframe tbody tr th {\n",
       "        vertical-align: top;\n",
       "    }\n",
       "\n",
       "    .dataframe thead th {\n",
       "        text-align: right;\n",
       "    }\n",
       "</style>\n",
       "<table border=\"1\" class=\"dataframe\">\n",
       "  <thead>\n",
       "    <tr style=\"text-align: right;\">\n",
       "      <th></th>\n",
       "      <th>title</th>\n",
       "      <th>text</th>\n",
       "      <th>label</th>\n",
       "    </tr>\n",
       "  </thead>\n",
       "  <tbody>\n",
       "    <tr>\n",
       "      <th>0</th>\n",
       "      <td>LAW ENFORCEMENT ON HIGH ALERT Following Threat...</td>\n",
       "      <td>No comment is expected from Barack Obama Membe...</td>\n",
       "      <td>1</td>\n",
       "    </tr>\n",
       "    <tr>\n",
       "      <th>1</th>\n",
       "      <td>NaN</td>\n",
       "      <td>Did they post their votes for Hillary already?</td>\n",
       "      <td>1</td>\n",
       "    </tr>\n",
       "    <tr>\n",
       "      <th>2</th>\n",
       "      <td>UNBELIEVABLE! OBAMA’S ATTORNEY GENERAL SAYS MO...</td>\n",
       "      <td>Now, most of the demonstrators gathered last ...</td>\n",
       "      <td>1</td>\n",
       "    </tr>\n",
       "    <tr>\n",
       "      <th>3</th>\n",
       "      <td>Bobby Jindal, raised Hindu, uses story of Chri...</td>\n",
       "      <td>A dozen politically active pastors came here f...</td>\n",
       "      <td>0</td>\n",
       "    </tr>\n",
       "    <tr>\n",
       "      <th>4</th>\n",
       "      <td>SATAN 2: Russia unvelis an image of its terrif...</td>\n",
       "      <td>The RS-28 Sarmat missile, dubbed Satan 2, will...</td>\n",
       "      <td>1</td>\n",
       "    </tr>\n",
       "    <tr>\n",
       "      <th>...</th>\n",
       "      <td>...</td>\n",
       "      <td>...</td>\n",
       "      <td>...</td>\n",
       "    </tr>\n",
       "    <tr>\n",
       "      <th>72129</th>\n",
       "      <td>Russians steal research on Trump in hack of U....</td>\n",
       "      <td>WASHINGTON (Reuters) - Hackers believed to be ...</td>\n",
       "      <td>0</td>\n",
       "    </tr>\n",
       "    <tr>\n",
       "      <th>72130</th>\n",
       "      <td>WATCH: Giuliani Demands That Democrats Apolog...</td>\n",
       "      <td>You know, because in fantasyland Republicans n...</td>\n",
       "      <td>1</td>\n",
       "    </tr>\n",
       "    <tr>\n",
       "      <th>72131</th>\n",
       "      <td>Migrants Refuse To Leave Train At Refugee Camp...</td>\n",
       "      <td>Migrants Refuse To Leave Train At Refugee Camp...</td>\n",
       "      <td>0</td>\n",
       "    </tr>\n",
       "    <tr>\n",
       "      <th>72132</th>\n",
       "      <td>Trump tussle gives unpopular Mexican leader mu...</td>\n",
       "      <td>MEXICO CITY (Reuters) - Donald Trump’s combati...</td>\n",
       "      <td>0</td>\n",
       "    </tr>\n",
       "    <tr>\n",
       "      <th>72133</th>\n",
       "      <td>Goldman Sachs Endorses Hillary Clinton For Pre...</td>\n",
       "      <td>Goldman Sachs Endorses Hillary Clinton For Pre...</td>\n",
       "      <td>1</td>\n",
       "    </tr>\n",
       "  </tbody>\n",
       "</table>\n",
       "<p>72134 rows × 3 columns</p>\n",
       "</div>"
      ],
      "text/plain": [
       "                                                   title  \\\n",
       "0      LAW ENFORCEMENT ON HIGH ALERT Following Threat...   \n",
       "1                                                    NaN   \n",
       "2      UNBELIEVABLE! OBAMA’S ATTORNEY GENERAL SAYS MO...   \n",
       "3      Bobby Jindal, raised Hindu, uses story of Chri...   \n",
       "4      SATAN 2: Russia unvelis an image of its terrif...   \n",
       "...                                                  ...   \n",
       "72129  Russians steal research on Trump in hack of U....   \n",
       "72130   WATCH: Giuliani Demands That Democrats Apolog...   \n",
       "72131  Migrants Refuse To Leave Train At Refugee Camp...   \n",
       "72132  Trump tussle gives unpopular Mexican leader mu...   \n",
       "72133  Goldman Sachs Endorses Hillary Clinton For Pre...   \n",
       "\n",
       "                                                    text  label  \n",
       "0      No comment is expected from Barack Obama Membe...      1  \n",
       "1         Did they post their votes for Hillary already?      1  \n",
       "2       Now, most of the demonstrators gathered last ...      1  \n",
       "3      A dozen politically active pastors came here f...      0  \n",
       "4      The RS-28 Sarmat missile, dubbed Satan 2, will...      1  \n",
       "...                                                  ...    ...  \n",
       "72129  WASHINGTON (Reuters) - Hackers believed to be ...      0  \n",
       "72130  You know, because in fantasyland Republicans n...      1  \n",
       "72131  Migrants Refuse To Leave Train At Refugee Camp...      0  \n",
       "72132  MEXICO CITY (Reuters) - Donald Trump’s combati...      0  \n",
       "72133  Goldman Sachs Endorses Hillary Clinton For Pre...      1  \n",
       "\n",
       "[72134 rows x 3 columns]"
      ]
     },
     "execution_count": 3,
     "metadata": {},
     "output_type": "execute_result"
    }
   ],
   "source": [
    "df = pd.read_csv('/kaggle/input/fake-news-classification/WELFake_Dataset.csv')\n",
    "df = df.drop(df.columns[[0]], axis=1) \n",
    "df"
   ]
  },
  {
   "attachments": {},
   "cell_type": "markdown",
   "id": "1782eb2a",
   "metadata": {},
   "source": [
    "We drop rows without text and NaN"
   ]
  },
  {
   "cell_type": "code",
   "execution_count": 4,
   "id": "8f53ede0",
   "metadata": {
    "execution": {
     "iopub.execute_input": "2023-01-09T18:42:52.961851Z",
     "iopub.status.busy": "2023-01-09T18:42:52.961077Z",
     "iopub.status.idle": "2023-01-09T18:42:53.023204Z",
     "shell.execute_reply": "2023-01-09T18:42:53.023728Z",
     "shell.execute_reply.started": "2023-01-09T18:33:04.155883Z"
    },
    "papermill": {
     "duration": 0.134064,
     "end_time": "2023-01-09T18:42:53.023901",
     "exception": false,
     "start_time": "2023-01-09T18:42:52.889837",
     "status": "completed"
    },
    "tags": []
   },
   "outputs": [
    {
     "data": {
      "text/html": [
       "<div>\n",
       "<style scoped>\n",
       "    .dataframe tbody tr th:only-of-type {\n",
       "        vertical-align: middle;\n",
       "    }\n",
       "\n",
       "    .dataframe tbody tr th {\n",
       "        vertical-align: top;\n",
       "    }\n",
       "\n",
       "    .dataframe thead th {\n",
       "        text-align: right;\n",
       "    }\n",
       "</style>\n",
       "<table border=\"1\" class=\"dataframe\">\n",
       "  <thead>\n",
       "    <tr style=\"text-align: right;\">\n",
       "      <th></th>\n",
       "      <th>title</th>\n",
       "      <th>text</th>\n",
       "      <th>label</th>\n",
       "    </tr>\n",
       "  </thead>\n",
       "  <tbody>\n",
       "    <tr>\n",
       "      <th>0</th>\n",
       "      <td>LAW ENFORCEMENT ON HIGH ALERT Following Threat...</td>\n",
       "      <td>No comment is expected from Barack Obama Membe...</td>\n",
       "      <td>1</td>\n",
       "    </tr>\n",
       "    <tr>\n",
       "      <th>2</th>\n",
       "      <td>UNBELIEVABLE! OBAMA’S ATTORNEY GENERAL SAYS MO...</td>\n",
       "      <td>Now, most of the demonstrators gathered last ...</td>\n",
       "      <td>1</td>\n",
       "    </tr>\n",
       "    <tr>\n",
       "      <th>3</th>\n",
       "      <td>Bobby Jindal, raised Hindu, uses story of Chri...</td>\n",
       "      <td>A dozen politically active pastors came here f...</td>\n",
       "      <td>0</td>\n",
       "    </tr>\n",
       "    <tr>\n",
       "      <th>4</th>\n",
       "      <td>SATAN 2: Russia unvelis an image of its terrif...</td>\n",
       "      <td>The RS-28 Sarmat missile, dubbed Satan 2, will...</td>\n",
       "      <td>1</td>\n",
       "    </tr>\n",
       "    <tr>\n",
       "      <th>5</th>\n",
       "      <td>About Time! Christian Group Sues Amazon and SP...</td>\n",
       "      <td>All we can say on this one is it s about time ...</td>\n",
       "      <td>1</td>\n",
       "    </tr>\n",
       "    <tr>\n",
       "      <th>6</th>\n",
       "      <td>DR BEN CARSON TARGETED BY THE IRS: “I never ha...</td>\n",
       "      <td>DR. BEN CARSON TELLS THE STORY OF WHAT HAPPENE...</td>\n",
       "      <td>1</td>\n",
       "    </tr>\n",
       "    <tr>\n",
       "      <th>8</th>\n",
       "      <td>Sports Bar Owner Bans NFL Games…Will Show Only...</td>\n",
       "      <td>The owner of the Ringling Bar, located south o...</td>\n",
       "      <td>1</td>\n",
       "    </tr>\n",
       "    <tr>\n",
       "      <th>9</th>\n",
       "      <td>Latest Pipeline Leak Underscores Dangers Of Da...</td>\n",
       "      <td>FILE – In this Sept. 15, 2005 file photo, the ...</td>\n",
       "      <td>1</td>\n",
       "    </tr>\n",
       "    <tr>\n",
       "      <th>10</th>\n",
       "      <td>GOP Senator Just Smacked Down The Most Puncha...</td>\n",
       "      <td>The most punchable Alt-Right Nazi on the inter...</td>\n",
       "      <td>1</td>\n",
       "    </tr>\n",
       "    <tr>\n",
       "      <th>11</th>\n",
       "      <td>May Brexit offer would hurt, cost EU citizens ...</td>\n",
       "      <td>BRUSSELS (Reuters) - British Prime Minister Th...</td>\n",
       "      <td>0</td>\n",
       "    </tr>\n",
       "  </tbody>\n",
       "</table>\n",
       "</div>"
      ],
      "text/plain": [
       "                                                title  \\\n",
       "0   LAW ENFORCEMENT ON HIGH ALERT Following Threat...   \n",
       "2   UNBELIEVABLE! OBAMA’S ATTORNEY GENERAL SAYS MO...   \n",
       "3   Bobby Jindal, raised Hindu, uses story of Chri...   \n",
       "4   SATAN 2: Russia unvelis an image of its terrif...   \n",
       "5   About Time! Christian Group Sues Amazon and SP...   \n",
       "6   DR BEN CARSON TARGETED BY THE IRS: “I never ha...   \n",
       "8   Sports Bar Owner Bans NFL Games…Will Show Only...   \n",
       "9   Latest Pipeline Leak Underscores Dangers Of Da...   \n",
       "10   GOP Senator Just Smacked Down The Most Puncha...   \n",
       "11  May Brexit offer would hurt, cost EU citizens ...   \n",
       "\n",
       "                                                 text  label  \n",
       "0   No comment is expected from Barack Obama Membe...      1  \n",
       "2    Now, most of the demonstrators gathered last ...      1  \n",
       "3   A dozen politically active pastors came here f...      0  \n",
       "4   The RS-28 Sarmat missile, dubbed Satan 2, will...      1  \n",
       "5   All we can say on this one is it s about time ...      1  \n",
       "6   DR. BEN CARSON TELLS THE STORY OF WHAT HAPPENE...      1  \n",
       "8   The owner of the Ringling Bar, located south o...      1  \n",
       "9   FILE – In this Sept. 15, 2005 file photo, the ...      1  \n",
       "10  The most punchable Alt-Right Nazi on the inter...      1  \n",
       "11  BRUSSELS (Reuters) - British Prime Minister Th...      0  "
      ]
     },
     "execution_count": 4,
     "metadata": {},
     "output_type": "execute_result"
    }
   ],
   "source": [
    "\n",
    "#Drop columns with NaN and empty string\n",
    "df.dropna(subset=['title'], inplace=True)\n",
    "df['text'].replace(' ', np.nan, inplace=True)\n",
    "df.dropna(subset=['text'], inplace=True)\n",
    "df.head(10)\n"
   ]
  },
  {
   "cell_type": "markdown",
   "id": "adab6ee0",
   "metadata": {
    "papermill": {
     "duration": 0.065995,
     "end_time": "2023-01-09T18:42:53.158074",
     "exception": false,
     "start_time": "2023-01-09T18:42:53.092079",
     "status": "completed"
    },
    "tags": []
   },
   "source": [
    "We use a bar chart to see how many fake and true news there are in the dataset"
   ]
  },
  {
   "cell_type": "code",
   "execution_count": 5,
   "id": "d2e56be7",
   "metadata": {
    "execution": {
     "iopub.execute_input": "2023-01-09T18:42:53.302388Z",
     "iopub.status.busy": "2023-01-09T18:42:53.301663Z",
     "iopub.status.idle": "2023-01-09T18:42:53.727786Z",
     "shell.execute_reply": "2023-01-09T18:42:53.728330Z",
     "shell.execute_reply.started": "2023-01-09T18:33:04.238729Z"
    },
    "papermill": {
     "duration": 0.502679,
     "end_time": "2023-01-09T18:42:53.728527",
     "exception": false,
     "start_time": "2023-01-09T18:42:53.225848",
     "status": "completed"
    },
    "tags": []
   },
   "outputs": [
    {
     "data": {
      "text/plain": [
       "<AxesSubplot:>"
      ]
     },
     "execution_count": 5,
     "metadata": {},
     "output_type": "execute_result"
    },
    {
     "data": {
      "image/png": "[encoded data removed]",
      "text/plain": [
       "<Figure size 432x288 with 1 Axes>"
      ]
     },
     "metadata": {
      "needs_background": "light"
     },
     "output_type": "display_data"
    }
   ],
   "source": [
    "df.label.value_counts()\n",
    "df.label.value_counts()[:2].plot(kind='bar')"
   ]
  },
  {
   "cell_type": "markdown",
   "id": "e9ca2503",
   "metadata": {
    "papermill": {
     "duration": 0.067296,
     "end_time": "2023-01-09T18:42:53.865050",
     "exception": false,
     "start_time": "2023-01-09T18:42:53.797754",
     "status": "completed"
    },
    "tags": []
   },
   "source": [
    "Great! A pretty even distributed dataset"
   ]
  },
  {
   "cell_type": "markdown",
   "id": "faf4cb92",
   "metadata": {
    "papermill": {
     "duration": 0.067049,
     "end_time": "2023-01-09T18:42:53.998982",
     "exception": false,
     "start_time": "2023-01-09T18:42:53.931933",
     "status": "completed"
    },
    "tags": []
   },
   "source": [
    "### lowercase and concat title and text"
   ]
  },
  {
   "cell_type": "code",
   "execution_count": 6,
   "id": "a8c4001a",
   "metadata": {
    "execution": {
     "iopub.execute_input": "2023-01-09T18:42:54.166405Z",
     "iopub.status.busy": "2023-01-09T18:42:54.161108Z",
     "iopub.status.idle": "2023-01-09T18:42:56.008187Z",
     "shell.execute_reply": "2023-01-09T18:42:56.007625Z",
     "shell.execute_reply.started": "2023-01-09T18:33:04.471633Z"
    },
    "papermill": {
     "duration": 1.942196,
     "end_time": "2023-01-09T18:42:56.008370",
     "exception": false,
     "start_time": "2023-01-09T18:42:54.066174",
     "status": "completed"
    },
    "tags": []
   },
   "outputs": [
    {
     "name": "stdout",
     "output_type": "stream",
     "text": [
      "5180\n",
      "law enforcement on high alert following threats against cops and whites on 9-11by #blacklivesmatter and #fyf911 terrorists [video] no comment is expected from barack obama members of the #fyf911 or #fukyoflag and #blacklivesmatter movements called for the lynching and hanging of white people and cops. they encouraged others on a radio show tuesday night to  turn the tide  and kill white people and cops to send a message about the killing of black people in america.one of the f***yoflag organizers is called  sunshine.  she has a radio blog show hosted from texas called,  sunshine s f***ing opinion radio show. a snapshot of her #fyf911 @lolatwhitefear twitter page at 9:53 p.m. shows that she was urging supporters to  call now!! #fyf911 tonight we continue to dismantle the illusion of white below is a snapshot twitter radio call invite   #fyf911the radio show aired at 10:00 p.m. eastern standard time.during the show, callers clearly call for  lynching  and  killing  of white people.a 2:39 minute clip from the radio show can be heard here. it was provided to breitbart texas by someone who would like to be referred to as  hannibal.  he has already received death threats as a result of interrupting #fyf911 conference calls.an unidentified black man said  when those mother f**kers are by themselves, that s when when we should start f***ing them up. like they do us, when a bunch of them ni**ers takin  one of us out, that s how we should roll up.  he said,  cause we already roll up in gangs anyway. there should be six or seven black mother f**ckers, see that white person, and then lynch their ass. let s turn the tables. they conspired that if  cops started losing people,  then  there will be a state of emergency. he speculated that one of two things would happen,  a big-ass [r s?????] war,  or  ni**ers, they are going to start backin  up. we are already getting killed out here so what the f**k we got to lose? sunshine could be heard saying,  yep, that s true. that s so f**king true. he said,  we need to turn the tables on them. our kids are getting shot out here. somebody needs to become a sacrifice on their side.he said,  everybody ain t down for that s**t, or whatever, but like i say, everybody has a different position of war.  he continued,  because they don t give a f**k anyway.  he said again,  we might as well utilized them for that s**t and turn the tables on these n**ers. he said, that way  we can start lookin  like we ain t havin  that many casualties, and there can be more causalities on their side instead of ours. they are out their killing black people, black lives don t matter, that s what those mother f**kers   so we got to make it matter to them. find a mother f**ker that is alone. snap his ass, and then f***in hang him from a damn tree. take a picture of it and then send it to the mother f**kers. we  just need one example,  and  then people will start watchin .  this will turn the tables on s**t, he said. he said this will start  a trickle-down effect.  he said that when one white person is hung and then they are just  flat-hanging,  that will start the  trickle-down effect.  he continued,  black people are good at starting trends. he said that was how  to get the upper-hand. another black man spoke up saying they needed to kill  cops that are killing us. the first black male said,  that will be the best method right there. breitbart texas previously reported how sunshine was upset when  racist white people  infiltrated and disrupted one of her conference calls. she subsequently released the phone number of one of the infiltrators. the veteran immediately started receiving threatening calls.one of the #f***yoflag movement supporters allegedly told a veteran who infiltrated their publicly posted conference call,  we are going to rape and gut your pregnant wife, and your f***ing piece of sh*t unborn creature will be hung from a tree. breitbart texas previously encountered sunshine at a sandra bland protest at the waller county jail in texas, where she said all white people should be killed. she told journalists and photographers,  you see this nappy-ass hair on my head?   that means i am one of those more militant negroes.  she said she was at the protest because  these redneck mother-f**kers murdered sandra bland because she had nappy hair like me. #fyf911 black radicals say they will be holding the  imperial powers  that are actually responsible for the terrorist attacks on september 11th accountable on that day, as reported by breitbart texas. there are several websites and twitter handles for the movement. palmetto star  describes himself as one of the head organizers. he said in a youtube video that supporters will be burning their symbols of  the illusion of their superiority,  their  false white supremacy,  like the american flag, the british flag, police uniforms, and ku klux klan hoods.sierra mcgrone or  nocturnus libertus  posted,  you too can help a young afrikan clean their a** with the rag of oppression.  she posted two photos, one that appears to be herself, and a photo of a black man, wiping their naked butts with the american flag.for entire story: breitbart news\n"
     ]
    }
   ],
   "source": [
    "df['title'] = df['title'].apply(lambda title: str(title).lower())\n",
    "df['text'] = df['text'].apply(lambda text: str(text).lower())\n",
    "\n",
    "df['title_and_text'] = df[[\"title\", \"text\"]].apply(\" \".join, axis=1)\n",
    "#print(df.head().title[0])\n",
    "#print(df.head().text[0])\n",
    "print(len(df.head().title_and_text[0]))\n",
    "print(df.head().title_and_text[0])"
   ]
  },
  {
   "cell_type": "markdown",
   "id": "6a460921",
   "metadata": {
    "papermill": {
     "duration": 0.067369,
     "end_time": "2023-01-09T18:42:56.143118",
     "exception": false,
     "start_time": "2023-01-09T18:42:56.075749",
     "status": "completed"
    },
    "tags": []
   },
   "source": [
    "We can already see here that there will be some words that the models will be confused about, such as censored curse words, [] tags and # within the text."
   ]
  },
  {
   "cell_type": "markdown",
   "id": "e2604140",
   "metadata": {
    "papermill": {
     "duration": 0.0674,
     "end_time": "2023-01-09T18:42:56.277579",
     "exception": false,
     "start_time": "2023-01-09T18:42:56.210179",
     "status": "completed"
    },
    "tags": []
   },
   "source": [
    "## A smaller set to test\n",
    "I created a smaller set to test the data on, in the end, the big dataset should be run to evaluate performance"
   ]
  },
  {
   "cell_type": "code",
   "execution_count": 7,
   "id": "823239e1",
   "metadata": {
    "execution": {
     "iopub.execute_input": "2023-01-09T18:42:56.418110Z",
     "iopub.status.busy": "2023-01-09T18:42:56.417437Z",
     "iopub.status.idle": "2023-01-09T18:42:56.420340Z",
     "shell.execute_reply": "2023-01-09T18:42:56.419763Z",
     "shell.execute_reply.started": "2023-01-09T18:33:06.416778Z"
    },
    "papermill": {
     "duration": 0.075886,
     "end_time": "2023-01-09T18:42:56.420518",
     "exception": false,
     "start_time": "2023-01-09T18:42:56.344632",
     "status": "completed"
    },
    "tags": []
   },
   "outputs": [],
   "source": [
    "#data = df.head(1000)"
   ]
  },
  {
   "cell_type": "markdown",
   "id": "467beca5",
   "metadata": {
    "papermill": {
     "duration": 0.071642,
     "end_time": "2023-01-09T18:42:56.560628",
     "exception": false,
     "start_time": "2023-01-09T18:42:56.488986",
     "status": "completed"
    },
    "tags": []
   },
   "source": [
    "## Tokenize the dataset\n",
    "To tokenize the dataset, huggingface DistilBertTokenizer will be used.\n",
    "We only need to tokenize the text and not the labels because they are already binary\n"
   ]
  },
  {
   "cell_type": "code",
   "execution_count": 8,
   "id": "82a05e7e",
   "metadata": {
    "execution": {
     "iopub.execute_input": "2023-01-09T18:42:56.704693Z",
     "iopub.status.busy": "2023-01-09T18:42:56.703767Z",
     "iopub.status.idle": "2023-01-09T18:42:58.701457Z",
     "shell.execute_reply": "2023-01-09T18:42:58.700671Z",
     "shell.execute_reply.started": "2023-01-09T18:33:06.423988Z"
    },
    "papermill": {
     "duration": 2.07096,
     "end_time": "2023-01-09T18:42:58.701703",
     "exception": false,
     "start_time": "2023-01-09T18:42:56.630743",
     "status": "completed"
    },
    "tags": []
   },
   "outputs": [
    {
     "data": {
      "application/vnd.jupyter.widget-view+json": {
       "model_id": "2803912076af4fc79d8c8904acd56a80",
       "version_major": 2,
       "version_minor": 0
      },
      "text/plain": [
       "Downloading:   0%|          | 0.00/232k [00:00<?, ?B/s]"
      ]
     },
     "metadata": {},
     "output_type": "display_data"
    },
    {
     "data": {
      "application/vnd.jupyter.widget-view+json": {
       "model_id": "3b07ef2c01f548ec981265ddac50079a",
       "version_major": 2,
       "version_minor": 0
      },
      "text/plain": [
       "Downloading:   0%|          | 0.00/28.0 [00:00<?, ?B/s]"
      ]
     },
     "metadata": {},
     "output_type": "display_data"
    },
    {
     "data": {
      "application/vnd.jupyter.widget-view+json": {
       "model_id": "b975c8bb2cdb4d04bfacbb747d3f7d40",
       "version_major": 2,
       "version_minor": 0
      },
      "text/plain": [
       "Downloading:   0%|          | 0.00/466k [00:00<?, ?B/s]"
      ]
     },
     "metadata": {},
     "output_type": "display_data"
    }
   ],
   "source": [
    "from transformers import DistilBertTokenizer\n",
    "tokenizer = DistilBertTokenizer.from_pretrained('distilbert-base-uncased')"
   ]
  },
  {
   "cell_type": "markdown",
   "id": "c9fb8591",
   "metadata": {
    "papermill": {
     "duration": 0.075758,
     "end_time": "2023-01-09T18:42:58.860245",
     "exception": false,
     "start_time": "2023-01-09T18:42:58.784487",
     "status": "completed"
    },
    "tags": []
   },
   "source": [
    "Split the dataset into train and test. 20% should be test"
   ]
  },
  {
   "cell_type": "code",
   "execution_count": 9,
   "id": "9ad5cf2b",
   "metadata": {
    "execution": {
     "iopub.execute_input": "2023-01-09T18:42:59.040548Z",
     "iopub.status.busy": "2023-01-09T18:42:59.039588Z",
     "iopub.status.idle": "2023-01-09T18:42:59.087295Z",
     "shell.execute_reply": "2023-01-09T18:42:59.087895Z",
     "shell.execute_reply.started": "2023-01-09T18:33:07.328691Z"
    },
    "papermill": {
     "duration": 0.141536,
     "end_time": "2023-01-09T18:42:59.088082",
     "exception": false,
     "start_time": "2023-01-09T18:42:58.946546",
     "status": "completed"
    },
    "tags": []
   },
   "outputs": [],
   "source": [
    "X_train,X_test ,y_train,y_test = train_test_split(df['title_and_text'], df['label'], stratify=df['label'], test_size = 0.2)"
   ]
  },
  {
   "cell_type": "code",
   "execution_count": 10,
   "id": "24d03a7f",
   "metadata": {
    "execution": {
     "iopub.execute_input": "2023-01-09T18:42:59.241444Z",
     "iopub.status.busy": "2023-01-09T18:42:59.240457Z",
     "iopub.status.idle": "2023-01-09T18:42:59.244381Z",
     "shell.execute_reply": "2023-01-09T18:42:59.244883Z",
     "shell.execute_reply.started": "2023-01-09T18:33:07.341572Z"
    },
    "papermill": {
     "duration": 0.084877,
     "end_time": "2023-01-09T18:42:59.245071",
     "exception": false,
     "start_time": "2023-01-09T18:42:59.160194",
     "status": "completed"
    },
    "tags": []
   },
   "outputs": [
    {
     "data": {
      "text/plain": [
       "68346    obama: u.s., southeast asia can advance 'share...\n",
       "12168    meme magic: donald trump is the internet’s rev...\n",
       "39785    юнисеф: в результате атаки на школу в идлибе п...\n",
       "5369     real disclosure! secret alien base found in mo...\n",
       "64723    a new paradigm for diagnosis and treatment of ...\n",
       "                               ...                        \n",
       "32227     trump’s buddy putin once said he could destro...\n",
       "51764    syrian rebels resist jordan pressure to hand o...\n",
       "44356     busted: trump supporter used poll watcher cre...\n",
       "56658    irs identifies more cyberattacks to access tax...\n",
       "26791    russia media group that angered kremlin is sol...\n",
       "Name: title_and_text, Length: 56639, dtype: object"
      ]
     },
     "execution_count": 10,
     "metadata": {},
     "output_type": "execute_result"
    }
   ],
   "source": [
    "X_train"
   ]
  },
  {
   "cell_type": "code",
   "execution_count": 11,
   "id": "b996088a",
   "metadata": {
    "execution": {
     "iopub.execute_input": "2023-01-09T18:42:59.415136Z",
     "iopub.status.busy": "2023-01-09T18:42:59.397639Z",
     "iopub.status.idle": "2023-01-09T18:43:02.065375Z",
     "shell.execute_reply": "2023-01-09T18:43:02.065927Z",
     "shell.execute_reply.started": "2023-01-09T18:33:07.357170Z"
    },
    "papermill": {
     "duration": 2.746926,
     "end_time": "2023-01-09T18:43:02.066131",
     "exception": false,
     "start_time": "2023-01-09T18:42:59.319205",
     "status": "completed"
    },
    "tags": []
   },
   "outputs": [],
   "source": [
    "df['num_words'] = df['text'].apply(lambda x: len(x.split()))"
   ]
  },
  {
   "cell_type": "markdown",
   "id": "804bfbdb",
   "metadata": {
    "papermill": {
     "duration": 0.073721,
     "end_time": "2023-01-09T18:43:02.214887",
     "exception": false,
     "start_time": "2023-01-09T18:43:02.141166",
     "status": "completed"
    },
    "tags": []
   },
   "source": [
    "To evaluate how many words there are in each row we plot is using sns. Code from https://www.kaggle.com/code/tmishinev/fake-news-keras-bert"
   ]
  },
  {
   "cell_type": "code",
   "execution_count": 12,
   "id": "9eeba225",
   "metadata": {
    "execution": {
     "iopub.execute_input": "2023-01-09T18:43:02.383775Z",
     "iopub.status.busy": "2023-01-09T18:43:02.358743Z",
     "iopub.status.idle": "2023-01-09T18:43:02.816016Z",
     "shell.execute_reply": "2023-01-09T18:43:02.816525Z",
     "shell.execute_reply.started": "2023-01-09T18:33:09.933359Z"
    },
    "papermill": {
     "duration": 0.531187,
     "end_time": "2023-01-09T18:43:02.816724",
     "exception": false,
     "start_time": "2023-01-09T18:43:02.285537",
     "status": "completed"
    },
    "tags": []
   },
   "outputs": [
    {
     "data": {
      "text/plain": [
       "Text(0.5, 1.0, 'Distribution of the News Words count')"
      ]
     },
     "execution_count": 12,
     "metadata": {},
     "output_type": "execute_result"
    },
    {
     "data": {
      "image/png": "[encoded data removed]",
      "text/plain": [
       "<Figure size 1008x360 with 1 Axes>"
      ]
     },
     "metadata": {
      "needs_background": "light"
     },
     "output_type": "display_data"
    }
   ],
   "source": [
    "plt.figure(figsize = (14,5))\n",
    "sns.histplot(df['num_words'], bins = range(1, 3000, 50), palette = 'Set1', alpha = 0.8)\n",
    "plt.title('Distribution of the News Words count')"
   ]
  },
  {
   "cell_type": "markdown",
   "id": "3f8e4ca6",
   "metadata": {
    "papermill": {
     "duration": 0.073254,
     "end_time": "2023-01-09T18:43:02.963003",
     "exception": false,
     "start_time": "2023-01-09T18:43:02.889749",
     "status": "completed"
    },
    "tags": []
   },
   "source": [
    "Using the DistilBERT tokenizer we batch_encode the text, we also convert it as a tensorflow list so it can be parsed into the model later.\n",
    "\n",
    "\n",
    "The labels are also converted into small one-hot vectors to represent the truth and false values"
   ]
  },
  {
   "cell_type": "code",
   "execution_count": 13,
   "id": "74a806bb",
   "metadata": {
    "execution": {
     "iopub.execute_input": "2023-01-09T18:43:03.174055Z",
     "iopub.status.busy": "2023-01-09T18:43:03.148234Z",
     "iopub.status.idle": "2023-01-09T19:08:12.469866Z",
     "shell.execute_reply": "2023-01-09T19:08:12.469204Z",
     "shell.execute_reply.started": "2023-01-09T18:33:10.391583Z"
    },
    "papermill": {
     "duration": 1509.432357,
     "end_time": "2023-01-09T19:08:12.470029",
     "exception": false,
     "start_time": "2023-01-09T18:43:03.037672",
     "status": "completed"
    },
    "tags": []
   },
   "outputs": [
    {
     "name": "stderr",
     "output_type": "stream",
     "text": [
      "2023-01-09 19:03:29.102478: I tensorflow/compiler/jit/xla_cpu_device.cc:41] Not creating XLA devices, tf_xla_enable_xla_devices not set\n",
      "2023-01-09 19:03:29.106742: W tensorflow/stream_executor/platform/default/dso_loader.cc:60] Could not load dynamic library 'libcuda.so.1'; dlerror: libcuda.so.1: cannot open shared object file: No such file or directory; LD_LIBRARY_PATH: /opt/conda/lib\n",
      "2023-01-09 19:03:29.106805: W tensorflow/stream_executor/cuda/cuda_driver.cc:326] failed call to cuInit: UNKNOWN ERROR (303)\n",
      "2023-01-09 19:03:29.106834: I tensorflow/stream_executor/cuda/cuda_diagnostics.cc:156] kernel driver does not appear to be running on this host (a1ebb181115a): /proc/driver/nvidia/version does not exist\n",
      "2023-01-09 19:03:29.110931: I tensorflow/core/platform/cpu_feature_guard.cc:142] This TensorFlow binary is optimized with oneAPI Deep Neural Network Library (oneDNN) to use the following CPU instructions in performance-critical operations:  AVX2 FMA\n",
      "To enable them in other operations, rebuild TensorFlow with the appropriate compiler flags.\n",
      "2023-01-09 19:03:29.113185: I tensorflow/compiler/jit/xla_gpu_device.cc:99] Not creating XLA devices, tf_xla_enable_xla_devices not set\n"
     ]
    }
   ],
   "source": [
    "X_train_encoded = tokenizer.batch_encode_plus(X_train, return_token_type_ids=False, return_attention_mask=False,\n",
    "        max_length=450, return_tensors = 'tf', padding=True, truncation=True)\n",
    "\n",
    "X_test_encoded = tokenizer.batch_encode_plus(X_test, return_token_type_ids=False, return_attention_mask=False,\n",
    "        max_length=450, return_tensors = 'tf', padding=True, truncation=True)\n",
    "\n",
    "y_train_encoded = tf.keras.utils.to_categorical(y_train, num_classes=2,dtype = 'int32')\n",
    "y_test_encoded = tf.keras.utils.to_categorical(y_test, num_classes=2,dtype = 'int32')"
   ]
  },
  {
   "cell_type": "code",
   "execution_count": 14,
   "id": "42f18528",
   "metadata": {
    "execution": {
     "iopub.execute_input": "2023-01-09T19:08:12.618195Z",
     "iopub.status.busy": "2023-01-09T19:08:12.617057Z",
     "iopub.status.idle": "2023-01-09T19:08:12.678946Z",
     "shell.execute_reply": "2023-01-09T19:08:12.679442Z",
     "shell.execute_reply.started": "2023-01-09T18:33:36.165241Z"
    },
    "papermill": {
     "duration": 0.137646,
     "end_time": "2023-01-09T19:08:12.679653",
     "exception": false,
     "start_time": "2023-01-09T19:08:12.542007",
     "status": "completed"
    },
    "tags": []
   },
   "outputs": [],
   "source": [
    "X_train_encoded = np.array(X_train_encoded['input_ids'])\n",
    "X_test_encoded = np.array(X_test_encoded['input_ids'])"
   ]
  },
  {
   "cell_type": "code",
   "execution_count": 15,
   "id": "6b1b901b",
   "metadata": {
    "execution": {
     "iopub.execute_input": "2023-01-09T19:08:12.825852Z",
     "iopub.status.busy": "2023-01-09T19:08:12.824835Z",
     "iopub.status.idle": "2023-01-09T19:08:12.834229Z",
     "shell.execute_reply": "2023-01-09T19:08:12.833713Z",
     "shell.execute_reply.started": "2023-01-09T18:33:36.183417Z"
    },
    "papermill": {
     "duration": 0.08383,
     "end_time": "2023-01-09T19:08:12.834377",
     "exception": false,
     "start_time": "2023-01-09T19:08:12.750547",
     "status": "completed"
    },
    "tags": []
   },
   "outputs": [
    {
     "data": {
      "text/plain": [
       "array([  101,  8112,  1024,  1057,  1012,  1055,  1012,  1010,  4643,\n",
       "        4021,  2064,  5083,  1005,  4207,  4432,  1005,  2006,  7803,\n",
       "       11936, 18123, 21483,  1010, 10250, 10128,  1012,  1006, 26665,\n",
       "        1007,  1011,  2343, 13857,  8112,  2056,  2006,  6928,  2008,\n",
       "        1996,  2142,  2163,  1998,  4643,  4004,  3741,  2064,  5083,\n",
       "        1037,  4207,  4432,  1997,  3513,  1998, 17606,  2005, 29304,\n",
       "        7803, 11936, 21614,  1012,  8112,  2081,  1996,  4431,  2000,\n",
       "        1996,  2148,  2859,  2712,  1010,  2073,  2859,  1998,  2195,\n",
       "        4643,  4004,  2163,  2031, 19326,  1998, 20567,  4447,  1010,\n",
       "        2012,  1996,  2927,  1997,  1037,  6465,  2007,  4177,  1997,\n",
       "        1996,  2523,  1997,  4643,  4004,  3741,  1006, 27974,  1007,\n",
       "        1012,   102,     0,     0,     0,     0,     0,     0,     0,\n",
       "           0,     0,     0,     0,     0,     0,     0,     0,     0,\n",
       "           0,     0,     0,     0,     0,     0,     0,     0,     0,\n",
       "           0,     0,     0,     0,     0,     0,     0,     0,     0,\n",
       "           0,     0,     0,     0,     0,     0,     0,     0,     0,\n",
       "           0,     0,     0,     0,     0,     0,     0,     0,     0,\n",
       "           0,     0,     0,     0,     0,     0,     0,     0,     0,\n",
       "           0,     0,     0,     0,     0,     0,     0,     0,     0,\n",
       "           0,     0,     0,     0,     0,     0,     0,     0,     0,\n",
       "           0,     0,     0,     0,     0,     0,     0,     0,     0,\n",
       "           0,     0,     0,     0,     0,     0,     0,     0,     0,\n",
       "           0,     0,     0,     0,     0,     0,     0,     0,     0,\n",
       "           0,     0,     0,     0,     0,     0,     0,     0,     0,\n",
       "           0,     0,     0,     0,     0,     0,     0,     0,     0,\n",
       "           0,     0,     0,     0,     0,     0,     0,     0,     0,\n",
       "           0,     0,     0,     0,     0,     0,     0,     0,     0,\n",
       "           0,     0,     0,     0,     0,     0,     0,     0,     0,\n",
       "           0,     0,     0,     0,     0,     0,     0,     0,     0,\n",
       "           0,     0,     0,     0,     0,     0,     0,     0,     0,\n",
       "           0,     0,     0,     0,     0,     0,     0,     0,     0,\n",
       "           0,     0,     0,     0,     0,     0,     0,     0,     0,\n",
       "           0,     0,     0,     0,     0,     0,     0,     0,     0,\n",
       "           0,     0,     0,     0,     0,     0,     0,     0,     0,\n",
       "           0,     0,     0,     0,     0,     0,     0,     0,     0,\n",
       "           0,     0,     0,     0,     0,     0,     0,     0,     0,\n",
       "           0,     0,     0,     0,     0,     0,     0,     0,     0,\n",
       "           0,     0,     0,     0,     0,     0,     0,     0,     0,\n",
       "           0,     0,     0,     0,     0,     0,     0,     0,     0,\n",
       "           0,     0,     0,     0,     0,     0,     0,     0,     0,\n",
       "           0,     0,     0,     0,     0,     0,     0,     0,     0,\n",
       "           0,     0,     0,     0,     0,     0,     0,     0,     0,\n",
       "           0,     0,     0,     0,     0,     0,     0,     0,     0,\n",
       "           0,     0,     0,     0,     0,     0,     0,     0,     0,\n",
       "           0,     0,     0,     0,     0,     0,     0,     0,     0,\n",
       "           0,     0,     0,     0,     0,     0,     0,     0,     0,\n",
       "           0,     0,     0,     0,     0,     0,     0,     0,     0,\n",
       "           0,     0,     0,     0,     0,     0,     0,     0,     0,\n",
       "           0,     0,     0,     0,     0,     0,     0,     0,     0,\n",
       "           0,     0,     0,     0,     0,     0,     0,     0,     0],\n",
       "      dtype=int32)"
      ]
     },
     "execution_count": 15,
     "metadata": {},
     "output_type": "execute_result"
    }
   ],
   "source": [
    "X_train_encoded[0]"
   ]
  },
  {
   "cell_type": "code",
   "execution_count": 16,
   "id": "e1753923",
   "metadata": {
    "execution": {
     "iopub.execute_input": "2023-01-09T19:08:12.984877Z",
     "iopub.status.busy": "2023-01-09T19:08:12.983959Z",
     "iopub.status.idle": "2023-01-09T19:08:12.988057Z",
     "shell.execute_reply": "2023-01-09T19:08:12.987493Z",
     "shell.execute_reply.started": "2023-01-09T18:33:36.194591Z"
    },
    "papermill": {
     "duration": 0.0824,
     "end_time": "2023-01-09T19:08:12.988222",
     "exception": false,
     "start_time": "2023-01-09T19:08:12.905822",
     "status": "completed"
    },
    "tags": []
   },
   "outputs": [
    {
     "data": {
      "text/plain": [
       "array([[1, 0],\n",
       "       [1, 0],\n",
       "       [0, 1],\n",
       "       ...,\n",
       "       [0, 1],\n",
       "       [1, 0],\n",
       "       [1, 0]], dtype=int32)"
      ]
     },
     "execution_count": 16,
     "metadata": {},
     "output_type": "execute_result"
    }
   ],
   "source": [
    "y_train_encoded"
   ]
  },
  {
   "cell_type": "markdown",
   "id": "0498d979",
   "metadata": {
    "papermill": {
     "duration": 0.071901,
     "end_time": "2023-01-09T19:08:13.133193",
     "exception": false,
     "start_time": "2023-01-09T19:08:13.061292",
     "status": "completed"
    },
    "tags": []
   },
   "source": [
    "## Using a dummy classifer as basline\n",
    "To know how good the other models are, a stratified dummy classifer is used to evaluate the performance"
   ]
  },
  {
   "cell_type": "code",
   "execution_count": 17,
   "id": "c569231a",
   "metadata": {
    "execution": {
     "iopub.execute_input": "2023-01-09T19:08:13.286221Z",
     "iopub.status.busy": "2023-01-09T19:08:13.285513Z",
     "iopub.status.idle": "2023-01-09T19:08:13.397413Z",
     "shell.execute_reply": "2023-01-09T19:08:13.397934Z",
     "shell.execute_reply.started": "2023-01-09T18:33:36.207656Z"
    },
    "papermill": {
     "duration": 0.192268,
     "end_time": "2023-01-09T19:08:13.398124",
     "exception": false,
     "start_time": "2023-01-09T19:08:13.205856",
     "status": "completed"
    },
    "tags": []
   },
   "outputs": [
    {
     "name": "stdout",
     "output_type": "stream",
     "text": [
      "              precision    recall  f1-score   support\n",
      "\n",
      "           0       0.49      0.49      0.49     28022\n",
      "           1       0.50      0.50      0.50     28617\n",
      "\n",
      "    accuracy                           0.50     56639\n",
      "   macro avg       0.50      0.50      0.50     56639\n",
      "weighted avg       0.50      0.50      0.50     56639\n",
      "\n"
     ]
    }
   ],
   "source": [
    "from sklearn.dummy import DummyClassifier\n",
    "dummy_clf = DummyClassifier(strategy=\"stratified\")\n",
    "dummy_clf.fit(X_train, y_train)\n",
    "dummy_prediction = dummy_clf.predict(X_train)\n",
    "\n",
    "print(classification_report(y_train ,dummy_prediction))"
   ]
  },
  {
   "cell_type": "markdown",
   "id": "18e527b9",
   "metadata": {
    "papermill": {
     "duration": 0.073537,
     "end_time": "2023-01-09T19:08:13.545371",
     "exception": false,
     "start_time": "2023-01-09T19:08:13.471834",
     "status": "completed"
    },
    "tags": []
   },
   "source": [
    "Becuase we only have true or false. This accuracy is to be expected"
   ]
  },
  {
   "cell_type": "code",
   "execution_count": 18,
   "id": "ed1d56f2",
   "metadata": {
    "execution": {
     "iopub.execute_input": "2023-01-09T19:08:13.764323Z",
     "iopub.status.busy": "2023-01-09T19:08:13.763201Z",
     "iopub.status.idle": "2023-01-09T19:08:13.767483Z",
     "shell.execute_reply": "2023-01-09T19:08:13.766886Z",
     "shell.execute_reply.started": "2023-01-09T18:33:36.226354Z"
    },
    "papermill": {
     "duration": 0.149844,
     "end_time": "2023-01-09T19:08:13.767630",
     "exception": false,
     "start_time": "2023-01-09T19:08:13.617786",
     "status": "completed"
    },
    "tags": []
   },
   "outputs": [
    {
     "data": {
      "text/plain": [
       "array([[  101,  8112,  1024, ...,     0,     0,     0],\n",
       "       [  101,  2033,  4168, ...,  1010,  2040,   102],\n",
       "       [  101,  1209, 18947, ..., 14150, 29741,   102],\n",
       "       ...,\n",
       "       [  101, 23142,  1024, ...,  2005,  8398,   102],\n",
       "       [  101, 25760, 14847, ...,     0,     0,     0],\n",
       "       [  101,  3607,  2865, ...,  7615,  2006,   102]], dtype=int32)"
      ]
     },
     "execution_count": 18,
     "metadata": {},
     "output_type": "execute_result"
    }
   ],
   "source": [
    "X_train_encoded"
   ]
  },
  {
   "cell_type": "markdown",
   "id": "413246f5",
   "metadata": {
    "papermill": {
     "duration": 0.072065,
     "end_time": "2023-01-09T19:08:13.913424",
     "exception": false,
     "start_time": "2023-01-09T19:08:13.841359",
     "status": "completed"
    },
    "tags": []
   },
   "source": [
    "## Logistic regression"
   ]
  },
  {
   "cell_type": "code",
   "execution_count": 19,
   "id": "b8d8d511",
   "metadata": {
    "execution": {
     "iopub.execute_input": "2023-01-09T19:08:14.070773Z",
     "iopub.status.busy": "2023-01-09T19:08:14.070053Z",
     "iopub.status.idle": "2023-01-09T19:09:57.279154Z",
     "shell.execute_reply": "2023-01-09T19:09:57.279727Z",
     "shell.execute_reply.started": "2023-01-09T18:33:36.237377Z"
    },
    "papermill": {
     "duration": 103.291122,
     "end_time": "2023-01-09T19:09:57.279932",
     "exception": false,
     "start_time": "2023-01-09T19:08:13.988810",
     "status": "completed"
    },
    "tags": []
   },
   "outputs": [
    {
     "name": "stdout",
     "output_type": "stream",
     "text": [
      "              precision    recall  f1-score   support\n",
      "\n",
      "           0       0.98      0.96      0.97      7005\n",
      "           1       0.96      0.98      0.97      7155\n",
      "\n",
      "    accuracy                           0.97     14160\n",
      "   macro avg       0.97      0.97      0.97     14160\n",
      "weighted avg       0.97      0.97      0.97     14160\n",
      "\n"
     ]
    }
   ],
   "source": [
    "pipe = Pipeline([('countVec', CountVectorizer(binary = True, ngram_range=(1,1))), ('logisticReg', LogisticRegression(max_iter=800, penalty='l2'))])\n",
    "pipe.fit(X_train, y_train)\n",
    "prediction_LR = pipe.predict(X_test)\n",
    "print(classification_report(y_test ,prediction_LR))"
   ]
  },
  {
   "cell_type": "markdown",
   "id": "5e572458",
   "metadata": {
    "papermill": {
     "duration": 0.072373,
     "end_time": "2023-01-09T19:09:57.425064",
     "exception": false,
     "start_time": "2023-01-09T19:09:57.352691",
     "status": "completed"
    },
    "tags": []
   },
   "source": [
    "### Fine-tuning logistic regression the model using GirdSearchCV\n",
    "This was used beforehand to validate the best performance of logistic regression. Best fit was {'countVec__binary': True, 'countVec__ngram_range': (1, 1), 'logisticReg__penalty': 'l2'}.\n",
    "You can run it yourself to validate the best performance\n"
   ]
  },
  {
   "cell_type": "code",
   "execution_count": 20,
   "id": "e0aa1c5f",
   "metadata": {
    "execution": {
     "iopub.execute_input": "2023-01-09T19:09:57.576561Z",
     "iopub.status.busy": "2023-01-09T19:09:57.575584Z",
     "iopub.status.idle": "2023-01-09T19:09:57.581334Z",
     "shell.execute_reply": "2023-01-09T19:09:57.581903Z",
     "shell.execute_reply.started": "2023-01-09T18:33:37.424856Z"
    },
    "papermill": {
     "duration": 0.082084,
     "end_time": "2023-01-09T19:09:57.582079",
     "exception": false,
     "start_time": "2023-01-09T19:09:57.499995",
     "status": "completed"
    },
    "tags": []
   },
   "outputs": [
    {
     "data": {
      "text/plain": [
       "\"\\nparameters = {\\n    'countVec__binary':[True, False], \\n    'countVec__ngram_range':[(1,1), (1,2)], \\n    'logisticReg__penalty': ('l1', 'l2', 'elasticnet'),\\n    'logisticReg__l1_ratio': (0.5,0.1,0.01)\\n    }\\n\\nclf  = GridSearchCV(pipe, parameters, cv=5)\\nclf.fit(X_train, y_train) \\nprint(clf.best_params_) \\n\""
      ]
     },
     "execution_count": 20,
     "metadata": {},
     "output_type": "execute_result"
    }
   ],
   "source": [
    "\"\"\"\n",
    "parameters = {\n",
    "    'countVec__binary':[True, False], \n",
    "    'countVec__ngram_range':[(1,1), (1,2)], \n",
    "    'logisticReg__penalty': ('l1', 'l2', 'elasticnet'),\n",
    "    'logisticReg__l1_ratio': (0.5,0.1,0.01)\n",
    "    }\n",
    "\n",
    "clf  = GridSearchCV(pipe, parameters, cv=5)\n",
    "clf.fit(X_train, y_train) \n",
    "print(clf.best_params_) \n",
    "\"\"\""
   ]
  },
  {
   "cell_type": "markdown",
   "id": "d4f5a9a7",
   "metadata": {
    "papermill": {
     "duration": 0.07318,
     "end_time": "2023-01-09T19:09:57.728981",
     "exception": false,
     "start_time": "2023-01-09T19:09:57.655801",
     "status": "completed"
    },
    "tags": []
   },
   "source": [
    "Lets see the false negatives and false positives"
   ]
  },
  {
   "cell_type": "code",
   "execution_count": 21,
   "id": "778390cc",
   "metadata": {
    "execution": {
     "iopub.execute_input": "2023-01-09T19:09:57.879969Z",
     "iopub.status.busy": "2023-01-09T19:09:57.878989Z",
     "iopub.status.idle": "2023-01-09T19:09:57.885251Z",
     "shell.execute_reply": "2023-01-09T19:09:57.885885Z",
     "shell.execute_reply.started": "2023-01-09T18:33:37.434279Z"
    },
    "papermill": {
     "duration": 0.083183,
     "end_time": "2023-01-09T19:09:57.886063",
     "exception": false,
     "start_time": "2023-01-09T19:09:57.802880",
     "status": "completed"
    },
    "tags": []
   },
   "outputs": [],
   "source": [
    "result_LR_df = pd.DataFrame({'text':X_test,'Correct_news':y_test, 'Predicted_news':prediction_LR})"
   ]
  },
  {
   "cell_type": "code",
   "execution_count": 22,
   "id": "d58006d8",
   "metadata": {
    "execution": {
     "iopub.execute_input": "2023-01-09T19:09:58.038972Z",
     "iopub.status.busy": "2023-01-09T19:09:58.038023Z",
     "iopub.status.idle": "2023-01-09T19:09:58.044916Z",
     "shell.execute_reply": "2023-01-09T19:09:58.045435Z",
     "shell.execute_reply.started": "2023-01-09T18:33:37.445665Z"
    },
    "papermill": {
     "duration": 0.086616,
     "end_time": "2023-01-09T19:09:58.045621",
     "exception": false,
     "start_time": "2023-01-09T19:09:57.959005",
     "status": "completed"
    },
    "tags": []
   },
   "outputs": [],
   "source": [
    "df_LR_fn = result_LR_df[(result_LR_df['Correct_news'] == 0) & (result_LR_df['Predicted_news'] == 1)]\n",
    "df_LR_fp = result_LR_df[(result_LR_df['Correct_news'] == 1) & (result_LR_df['Predicted_news'] == 0)]"
   ]
  },
  {
   "cell_type": "code",
   "execution_count": 23,
   "id": "38f6a789",
   "metadata": {
    "execution": {
     "iopub.execute_input": "2023-01-09T19:09:58.201632Z",
     "iopub.status.busy": "2023-01-09T19:09:58.200782Z",
     "iopub.status.idle": "2023-01-09T19:09:58.204071Z",
     "shell.execute_reply": "2023-01-09T19:09:58.204587Z",
     "shell.execute_reply.started": "2023-01-09T18:33:37.462624Z"
    },
    "papermill": {
     "duration": 0.08645,
     "end_time": "2023-01-09T19:09:58.204770",
     "exception": false,
     "start_time": "2023-01-09T19:09:58.118320",
     "status": "completed"
    },
    "tags": []
   },
   "outputs": [
    {
     "data": {
      "text/html": [
       "<div>\n",
       "<style scoped>\n",
       "    .dataframe tbody tr th:only-of-type {\n",
       "        vertical-align: middle;\n",
       "    }\n",
       "\n",
       "    .dataframe tbody tr th {\n",
       "        vertical-align: top;\n",
       "    }\n",
       "\n",
       "    .dataframe thead th {\n",
       "        text-align: right;\n",
       "    }\n",
       "</style>\n",
       "<table border=\"1\" class=\"dataframe\">\n",
       "  <thead>\n",
       "    <tr style=\"text-align: right;\">\n",
       "      <th></th>\n",
       "      <th>text</th>\n",
       "      <th>Correct_news</th>\n",
       "      <th>Predicted_news</th>\n",
       "    </tr>\n",
       "  </thead>\n",
       "  <tbody>\n",
       "    <tr>\n",
       "      <th>15465</th>\n",
       "      <td>exclusive: japan to delay multi-billion dollar...</td>\n",
       "      <td>0</td>\n",
       "      <td>1</td>\n",
       "    </tr>\n",
       "    <tr>\n",
       "      <th>46043</th>\n",
       "      <td>letter of recommendation: the useless machine ...</td>\n",
       "      <td>0</td>\n",
       "      <td>1</td>\n",
       "    </tr>\n",
       "    <tr>\n",
       "      <th>68993</th>\n",
       "      <td>hillary’s no slam dunk in 2016 could hillary c...</td>\n",
       "      <td>0</td>\n",
       "      <td>1</td>\n",
       "    </tr>\n",
       "    <tr>\n",
       "      <th>66932</th>\n",
       "      <td>mr. trump goes to washington: the surreal spec...</td>\n",
       "      <td>0</td>\n",
       "      <td>1</td>\n",
       "    </tr>\n",
       "    <tr>\n",
       "      <th>68000</th>\n",
       "      <td>the hunger in our heads - the new york times a...</td>\n",
       "      <td>0</td>\n",
       "      <td>1</td>\n",
       "    </tr>\n",
       "    <tr>\n",
       "      <th>43913</th>\n",
       "      <td>why rachel dolezal's assertion that she is bla...</td>\n",
       "      <td>0</td>\n",
       "      <td>1</td>\n",
       "    </tr>\n",
       "    <tr>\n",
       "      <th>15090</th>\n",
       "      <td>will nancy pelosi miss john boehner? depends. ...</td>\n",
       "      <td>0</td>\n",
       "      <td>1</td>\n",
       "    </tr>\n",
       "    <tr>\n",
       "      <th>66703</th>\n",
       "      <td>anti-trump women marchers threaten to never le...</td>\n",
       "      <td>0</td>\n",
       "      <td>1</td>\n",
       "    </tr>\n",
       "    <tr>\n",
       "      <th>15528</th>\n",
       "      <td>four illegal aliens arrested after ’savage’ ga...</td>\n",
       "      <td>0</td>\n",
       "      <td>1</td>\n",
       "    </tr>\n",
       "    <tr>\n",
       "      <th>11069</th>\n",
       "      <td>as his campaign crumbles, trump is spending hi...</td>\n",
       "      <td>0</td>\n",
       "      <td>1</td>\n",
       "    </tr>\n",
       "  </tbody>\n",
       "</table>\n",
       "</div>"
      ],
      "text/plain": [
       "                                                    text  Correct_news  \\\n",
       "15465  exclusive: japan to delay multi-billion dollar...             0   \n",
       "46043  letter of recommendation: the useless machine ...             0   \n",
       "68993  hillary’s no slam dunk in 2016 could hillary c...             0   \n",
       "66932  mr. trump goes to washington: the surreal spec...             0   \n",
       "68000  the hunger in our heads - the new york times a...             0   \n",
       "43913  why rachel dolezal's assertion that she is bla...             0   \n",
       "15090  will nancy pelosi miss john boehner? depends. ...             0   \n",
       "66703  anti-trump women marchers threaten to never le...             0   \n",
       "15528  four illegal aliens arrested after ’savage’ ga...             0   \n",
       "11069  as his campaign crumbles, trump is spending hi...             0   \n",
       "\n",
       "       Predicted_news  \n",
       "15465               1  \n",
       "46043               1  \n",
       "68993               1  \n",
       "66932               1  \n",
       "68000               1  \n",
       "43913               1  \n",
       "15090               1  \n",
       "66703               1  \n",
       "15528               1  \n",
       "11069               1  "
      ]
     },
     "execution_count": 23,
     "metadata": {},
     "output_type": "execute_result"
    }
   ],
   "source": [
    "df_LR_fn.head(10)"
   ]
  },
  {
   "cell_type": "code",
   "execution_count": 24,
   "id": "a07ea63e",
   "metadata": {
    "execution": {
     "iopub.execute_input": "2023-01-09T19:09:58.358233Z",
     "iopub.status.busy": "2023-01-09T19:09:58.357401Z",
     "iopub.status.idle": "2023-01-09T19:09:58.360622Z",
     "shell.execute_reply": "2023-01-09T19:09:58.361349Z",
     "shell.execute_reply.started": "2023-01-09T18:33:37.480002Z"
    },
    "papermill": {
     "duration": 0.082907,
     "end_time": "2023-01-09T19:09:58.361568",
     "exception": false,
     "start_time": "2023-01-09T19:09:58.278661",
     "status": "completed"
    },
    "tags": []
   },
   "outputs": [
    {
     "name": "stdout",
     "output_type": "stream",
     "text": [
      "exclusive: japan to delay multi-billion dollar fighter jet development - sources tokyo (reuters) - japan will delay a decision to develop a new advanced fighter jet, four sources said, as military planners struggle to settle on a design and officials splash out on new u.s. equipment such as ballistic missile interceptors and f-35 stealth planes. faced with a growing military threat from north korea and increased activity by chinese air force jets over the east china sea, japan is under pressure to improve its defenses on two fronts. any delay to the new fighter, known as the f-3, will raise a question mark over the future of what could be one of the world s most lucrative upcoming military contracts, estimated at more than $40 billion to develop and deploy.  a decision after the first half of 2018 would be too late for it to be included as a core program in a new five-year defense equipment plan beginning april 2019 that japan will reveal at the end of next year.        the direction is for the f-3 decision to be put back,  said one the sources who have knowledge of the discussion. the people who spoke to reuters asked not to be identified because they are not authorized to talk to the media. they said the decision, on whether to forge ahead as a domestic program or seek international collaboration, would now likely come after 2018.          regarding the f-3 decision, including whether we will delay a choice, we have haven t come to any conclusion,  a spokeswoman for the ministry of defence acquisition technology & logistics agency said. analysts estimate developing the f-3 could cost $40 billion, a figure described another source as an  initial cost.   with a defense budget of around $50 billion that has increased in the past few years at just under an annual 1 percent, that outlay, even spread out over years of development, represents a major undertaking.  it would come at a time when japan is spending a record amounts on u.s. equipment, including lockheed martin corp s f-35 jet, raytheon defense missiles and boeing co and textron inc s tilt-rotor osprey troop aircraft.  in 2013, japan procured 118 billion yen ($1 billion) of equipment through the u.s. government s foreign military sales (fms) system. by last year, that outlay had quadrupled to 486 billion yen. president donald trump in tokyo last week called on prime minister shinzo abe to purchase additional u.s.-made weapons as his administration pushes washington s allies to contribute more to their joint defense.     for now, that defense is focused on countering the threat posed by north korean ballistic missiles and nuclear weapons.  japan s defense forces, however, want the f-3 to counter growing chinese air power in the skies over the western pacific and east china sea where tokyo and beijing are locked in a territorial dispute. japanese fighters scrambled a record 806 times to intercept chinese planes in the year that ended march 31.  a second role for the yet-to-be-built fighter is to reinforce japan s defense industry by giving mitsubishi heavy industries (mhi) and its suppliers their first fighter jet program since japan built its f-2 fighter two decades ago.  mitsubishi heavy, the maker of the world war two-era zero fighter, in january 2016 tested a prototype jet, the atd-x. developed for around $350 million, it was seen as the first step toward a new homegrown frontline stealth fighter.  while support for a domestic-only program is strong among some government officials, other bureaucrats are worried about the potentially enormous expense of developing components from scratch. they support international collaboration to share costs with overseas partners and tap their technology.   what we have now is a flying box  without all the systems that constitute a fighter such as weapons and sensors, said another of the sources.  possible overseas partners include bae systems, a leading designer of the high-altitude eurofighter interceptor backed by the british government, f-35 builder lockheed martin and boeing, maker of the f-18 strike fighter. all have responded to initial requests for information from ministry of defence overseeing f-3 plans. \n"
     ]
    }
   ],
   "source": [
    "if not df_LR_fn.empty:\n",
    "    print(df_LR_fn.text.iloc[0])"
   ]
  },
  {
   "cell_type": "markdown",
   "id": "5bdd1fb6",
   "metadata": {
    "papermill": {
     "duration": 0.078121,
     "end_time": "2023-01-09T19:09:58.516174",
     "exception": false,
     "start_time": "2023-01-09T19:09:58.438053",
     "status": "completed"
    },
    "tags": []
   },
   "source": [
    "Creating a wordcloud of the most used words in the false negative"
   ]
  },
  {
   "cell_type": "code",
   "execution_count": 25,
   "id": "8969d72d",
   "metadata": {
    "execution": {
     "iopub.execute_input": "2023-01-09T19:09:58.668707Z",
     "iopub.status.busy": "2023-01-09T19:09:58.667950Z",
     "iopub.status.idle": "2023-01-09T19:10:00.124938Z",
     "shell.execute_reply": "2023-01-09T19:10:00.125503Z",
     "shell.execute_reply.started": "2023-01-09T18:33:37.491815Z"
    },
    "papermill": {
     "duration": 1.535423,
     "end_time": "2023-01-09T19:10:00.125712",
     "exception": false,
     "start_time": "2023-01-09T19:09:58.590289",
     "status": "completed"
    },
    "tags": []
   },
   "outputs": [
    {
     "data": {
      "image/png": "[encoded data removed]",
      "text/plain": [
       "<Figure size 432x288 with 1 Axes>"
      ]
     },
     "metadata": {
      "needs_background": "light"
     },
     "output_type": "display_data"
    }
   ],
   "source": [
    "text = \" \".join(text for text in df_LR_fn.text)\n",
    "stopwords = set(STOPWORDS)\n",
    "wordcloud = WordCloud(stopwords=stopwords, background_color=\"white\").generate(text)\n",
    "\n",
    "# Display the generated image:\n",
    "# the matplotlib way:\n",
    "plt.imshow(wordcloud, interpolation='bilinear')\n",
    "plt.axis(\"off\")\n",
    "plt.show()"
   ]
  },
  {
   "cell_type": "code",
   "execution_count": 26,
   "id": "86d850c0",
   "metadata": {
    "execution": {
     "iopub.execute_input": "2023-01-09T19:10:00.295246Z",
     "iopub.status.busy": "2023-01-09T19:10:00.294539Z",
     "iopub.status.idle": "2023-01-09T19:10:00.304807Z",
     "shell.execute_reply": "2023-01-09T19:10:00.305579Z",
     "shell.execute_reply.started": "2023-01-09T18:33:38.192943Z"
    },
    "papermill": {
     "duration": 0.096792,
     "end_time": "2023-01-09T19:10:00.305765",
     "exception": false,
     "start_time": "2023-01-09T19:10:00.208973",
     "status": "completed"
    },
    "tags": []
   },
   "outputs": [
    {
     "data": {
      "text/html": [
       "<div>\n",
       "<style scoped>\n",
       "    .dataframe tbody tr th:only-of-type {\n",
       "        vertical-align: middle;\n",
       "    }\n",
       "\n",
       "    .dataframe tbody tr th {\n",
       "        vertical-align: top;\n",
       "    }\n",
       "\n",
       "    .dataframe thead th {\n",
       "        text-align: right;\n",
       "    }\n",
       "</style>\n",
       "<table border=\"1\" class=\"dataframe\">\n",
       "  <thead>\n",
       "    <tr style=\"text-align: right;\">\n",
       "      <th></th>\n",
       "      <th>text</th>\n",
       "      <th>Correct_news</th>\n",
       "      <th>Predicted_news</th>\n",
       "    </tr>\n",
       "  </thead>\n",
       "  <tbody>\n",
       "    <tr>\n",
       "      <th>66584</th>\n",
       "      <td>ford’s new ceo snubs president trump…will buil...</td>\n",
       "      <td>1</td>\n",
       "      <td>0</td>\n",
       "    </tr>\n",
       "    <tr>\n",
       "      <th>11186</th>\n",
       "      <td>world’s first zero-emissions hydrogen-powered ...</td>\n",
       "      <td>1</td>\n",
       "      <td>0</td>\n",
       "    </tr>\n",
       "    <tr>\n",
       "      <th>22573</th>\n",
       "      <td>walling them out, or walling us in? walling th...</td>\n",
       "      <td>1</td>\n",
       "      <td>0</td>\n",
       "    </tr>\n",
       "    <tr>\n",
       "      <th>66756</th>\n",
       "      <td>jeb bush receives worst endorsement ever, def...</td>\n",
       "      <td>1</td>\n",
       "      <td>0</td>\n",
       "    </tr>\n",
       "    <tr>\n",
       "      <th>1882</th>\n",
       "      <td>obama inciting a second cold war? 35 russian d...</td>\n",
       "      <td>1</td>\n",
       "      <td>0</td>\n",
       "    </tr>\n",
       "    <tr>\n",
       "      <th>41682</th>\n",
       "      <td>yes, obama can appoint a supreme court justice...</td>\n",
       "      <td>1</td>\n",
       "      <td>0</td>\n",
       "    </tr>\n",
       "    <tr>\n",
       "      <th>38688</th>\n",
       "      <td>trump’s economic program set for rough reality...</td>\n",
       "      <td>1</td>\n",
       "      <td>0</td>\n",
       "    </tr>\n",
       "    <tr>\n",
       "      <th>24378</th>\n",
       "      <td>is fox about to become cnn? leftist wives of l...</td>\n",
       "      <td>1</td>\n",
       "      <td>0</td>\n",
       "    </tr>\n",
       "    <tr>\n",
       "      <th>38404</th>\n",
       "      <td>comment on phallic art stuns residents of new ...</td>\n",
       "      <td>1</td>\n",
       "      <td>0</td>\n",
       "    </tr>\n",
       "    <tr>\n",
       "      <th>3277</th>\n",
       "      <td>john kerry's remarks at the chicago council on...</td>\n",
       "      <td>1</td>\n",
       "      <td>0</td>\n",
       "    </tr>\n",
       "  </tbody>\n",
       "</table>\n",
       "</div>"
      ],
      "text/plain": [
       "                                                    text  Correct_news  \\\n",
       "66584  ford’s new ceo snubs president trump…will buil...             1   \n",
       "11186  world’s first zero-emissions hydrogen-powered ...             1   \n",
       "22573  walling them out, or walling us in? walling th...             1   \n",
       "66756   jeb bush receives worst endorsement ever, def...             1   \n",
       "1882   obama inciting a second cold war? 35 russian d...             1   \n",
       "41682  yes, obama can appoint a supreme court justice...             1   \n",
       "38688  trump’s economic program set for rough reality...             1   \n",
       "24378  is fox about to become cnn? leftist wives of l...             1   \n",
       "38404  comment on phallic art stuns residents of new ...             1   \n",
       "3277   john kerry's remarks at the chicago council on...             1   \n",
       "\n",
       "       Predicted_news  \n",
       "66584               0  \n",
       "11186               0  \n",
       "22573               0  \n",
       "66756               0  \n",
       "1882                0  \n",
       "41682               0  \n",
       "38688               0  \n",
       "24378               0  \n",
       "38404               0  \n",
       "3277                0  "
      ]
     },
     "execution_count": 26,
     "metadata": {},
     "output_type": "execute_result"
    }
   ],
   "source": [
    "df_LR_fp.head(10)"
   ]
  },
  {
   "cell_type": "code",
   "execution_count": 27,
   "id": "7a3392da",
   "metadata": {
    "execution": {
     "iopub.execute_input": "2023-01-09T19:10:00.505347Z",
     "iopub.status.busy": "2023-01-09T19:10:00.504364Z",
     "iopub.status.idle": "2023-01-09T19:10:00.508157Z",
     "shell.execute_reply": "2023-01-09T19:10:00.508719Z",
     "shell.execute_reply.started": "2023-01-09T18:33:38.205808Z"
    },
    "papermill": {
     "duration": 0.106198,
     "end_time": "2023-01-09T19:10:00.508946",
     "exception": false,
     "start_time": "2023-01-09T19:10:00.402748",
     "status": "completed"
    },
    "tags": []
   },
   "outputs": [
    {
     "name": "stdout",
     "output_type": "stream",
     "text": [
      "ford’s new ceo snubs president trump…will build focus in china…export to u.s. ford will export the next-generation focus compact car from china to north america in 2019, rather than from mexico as earlier planned, saving the company $500 million, a top executive said on tuesday.it is the first major manufacturing investment decision made by new chief executive officer jim hackett, who succeeded mark fields in late may.discussion about the small-car production shift from mexico to china began  a couple months ago  under fields, said joe hinrichs, president of global operations.in january, after u.s. president donald trump criticized ford for shipping small-car manufacturing to mexico, ford said it would kill plans to build a $1.8-billion focus plant in san luis potosi and instead produce the new focus at an existing plant in hermosillo.although it is cheaper to build and ship cars to the united states from mexico than china,  this was not a variable cost decision,  hinrichs said in a tuesday morning briefing. it allows us to free up a lot of capital  because ford now has to retool only one plant   the existing focus factory in chongqing   rather than two to supply north america.given dwindling overall u.s. demand for small cars such as the focus,  we thought this was the best balance of that cost/capital tradeoff,  hinrichs said.he said ford planned to inform the white house tuesday.asked if ford was concerned about having to pay a border tax, as trump has threatened on vehicle imports from mexico, hinrichs said  the capital saving outweighs the risk  of a potential tax on the chinese-built focus.ford stock fell 0.8 percent at $11.15.  daily mailhow do you feel about ford s decision to move manufacturing over to china? let us know in the comment section below. \n"
     ]
    }
   ],
   "source": [
    "if not df_LR_fp.empty:\n",
    "    print(df_LR_fp.text.iloc[0])"
   ]
  },
  {
   "cell_type": "markdown",
   "id": "78eb92af",
   "metadata": {
    "papermill": {
     "duration": 0.097888,
     "end_time": "2023-01-09T19:10:00.703866",
     "exception": false,
     "start_time": "2023-01-09T19:10:00.605978",
     "status": "completed"
    },
    "tags": []
   },
   "source": [
    "## DISTILBERT"
   ]
  },
  {
   "cell_type": "markdown",
   "id": "1ca69682",
   "metadata": {
    "papermill": {
     "duration": 0.099713,
     "end_time": "2023-01-09T19:10:00.900948",
     "exception": false,
     "start_time": "2023-01-09T19:10:00.801235",
     "status": "completed"
    },
    "tags": []
   },
   "source": [
    "If we want to use Kaggles TPU, we enable it here"
   ]
  },
  {
   "cell_type": "code",
   "execution_count": 28,
   "id": "eece8f95",
   "metadata": {
    "execution": {
     "iopub.execute_input": "2023-01-09T19:10:01.104902Z",
     "iopub.status.busy": "2023-01-09T19:10:01.104055Z",
     "iopub.status.idle": "2023-01-09T19:10:06.305999Z",
     "shell.execute_reply": "2023-01-09T19:10:06.305430Z",
     "shell.execute_reply.started": "2023-01-09T18:33:38.221723Z"
    },
    "papermill": {
     "duration": 5.3065,
     "end_time": "2023-01-09T19:10:06.306169",
     "exception": false,
     "start_time": "2023-01-09T19:10:00.999669",
     "status": "completed"
    },
    "tags": []
   },
   "outputs": [
    {
     "name": "stdout",
     "output_type": "stream",
     "text": [
      "Running on TPU  grpc://10.0.0.2:8470\n"
     ]
    },
    {
     "name": "stderr",
     "output_type": "stream",
     "text": [
      "2023-01-09 19:10:01.111721: I tensorflow/compiler/jit/xla_gpu_device.cc:99] Not creating XLA devices, tf_xla_enable_xla_devices not set\n",
      "2023-01-09 19:10:01.149802: I tensorflow/core/distributed_runtime/rpc/grpc_channel.cc:301] Initialize GrpcChannelCache for job worker -> {0 -> 10.0.0.2:8470}\n",
      "2023-01-09 19:10:01.149877: I tensorflow/core/distributed_runtime/rpc/grpc_channel.cc:301] Initialize GrpcChannelCache for job localhost -> {0 -> localhost:30019}\n",
      "2023-01-09 19:10:01.171398: I tensorflow/core/distributed_runtime/rpc/grpc_channel.cc:301] Initialize GrpcChannelCache for job worker -> {0 -> 10.0.0.2:8470}\n",
      "2023-01-09 19:10:01.171457: I tensorflow/core/distributed_runtime/rpc/grpc_channel.cc:301] Initialize GrpcChannelCache for job localhost -> {0 -> localhost:30019}\n",
      "2023-01-09 19:10:01.173623: I tensorflow/core/distributed_runtime/rpc/grpc_server_lib.cc:411] Started server with target: grpc://localhost:30019\n"
     ]
    },
    {
     "name": "stdout",
     "output_type": "stream",
     "text": [
      "REPLICAS:  8\n"
     ]
    }
   ],
   "source": [
    "# Detect hardware, return appropriate distribution strategy\n",
    "try:\n",
    "    # TPU detection. No parameters necessary if TPU_NAME environment variable is\n",
    "    # set: this is always the case on Kaggle.\n",
    "    tpu = tf.distribute.cluster_resolver.TPUClusterResolver()\n",
    "    print('Running on TPU ', tpu.master())\n",
    "except ValueError:\n",
    "    tpu = None\n",
    "\n",
    "if tpu:\n",
    "    tf.config.experimental_connect_to_cluster(tpu)\n",
    "    tf.tpu.experimental.initialize_tpu_system(tpu)\n",
    "    strategy = tf.distribute.experimental.TPUStrategy(tpu)\n",
    "else:\n",
    "    # Default distribution strategy in Tensorflow. Works on CPU and single GPU.\n",
    "    strategy = tf.distribute.get_strategy()\n",
    "\n",
    "print(\"REPLICAS: \", strategy.num_replicas_in_sync)"
   ]
  },
  {
   "cell_type": "markdown",
   "id": "7413bf66",
   "metadata": {
    "papermill": {
     "duration": 0.082155,
     "end_time": "2023-01-09T19:10:06.473202",
     "exception": false,
     "start_time": "2023-01-09T19:10:06.391047",
     "status": "completed"
    },
    "tags": []
   },
   "source": [
    "From here, the model and intization of TPU were inspired by https://www.kaggle.com/code/foolofatook/news-classification-using-bert/notebook.\n",
    "I have tweaked the model to perform better with binary labels instead of a vast amount of categories.\n"
   ]
  },
  {
   "cell_type": "code",
   "execution_count": 29,
   "id": "966dac7b",
   "metadata": {
    "execution": {
     "iopub.execute_input": "2023-01-09T19:10:06.645633Z",
     "iopub.status.busy": "2023-01-09T19:10:06.644873Z",
     "iopub.status.idle": "2023-01-09T19:10:06.652452Z",
     "shell.execute_reply": "2023-01-09T19:10:06.653022Z",
     "shell.execute_reply.started": "2023-01-09T18:33:44.406649Z"
    },
    "papermill": {
     "duration": 0.096541,
     "end_time": "2023-01-09T19:10:06.653248",
     "exception": false,
     "start_time": "2023-01-09T19:10:06.556707",
     "status": "completed"
    },
    "tags": []
   },
   "outputs": [],
   "source": [
    "def build_bert_model(transformer,length):\n",
    "    input_ids = tf.keras.layers.Input(shape=(length,), dtype=tf.int32, name=\"input_ids\")\n",
    "    embedding = transformer(input_ids)[0]\n",
    "    cls_token = embedding[:, 0, :]\n",
    "    dropout = tf.keras.layers.Dropout(0.1)(cls_token)\n",
    "    y = tf.keras.layers.Dense(2, activation='sigmoid')(dropout)\n",
    "    model = tf.keras.Model(inputs=input_ids, outputs=y)\n",
    "    model.compile(tf.keras.optimizers.Adam(learning_rate=3e-5, epsilon = 1e-7), loss=tf.keras.losses.BinaryCrossentropy(), metrics=['accuracy'])\n",
    "    return model"
   ]
  },
  {
   "cell_type": "markdown",
   "id": "398a4af3",
   "metadata": {
    "papermill": {
     "duration": 0.081226,
     "end_time": "2023-01-09T19:10:06.816168",
     "exception": false,
     "start_time": "2023-01-09T19:10:06.734942",
     "status": "completed"
    },
    "tags": []
   },
   "source": [
    "If using kaggle TPU \n",
    "From huggingface, we import the Automodel of DistilBERT"
   ]
  },
  {
   "cell_type": "code",
   "execution_count": 30,
   "id": "a2b2bed0",
   "metadata": {
    "execution": {
     "iopub.execute_input": "2023-01-09T19:10:07.020968Z",
     "iopub.status.busy": "2023-01-09T19:10:07.019853Z",
     "iopub.status.idle": "2023-01-09T19:10:35.570722Z",
     "shell.execute_reply": "2023-01-09T19:10:35.569944Z",
     "shell.execute_reply.started": "2023-01-09T18:33:44.416501Z"
    },
    "papermill": {
     "duration": 28.666284,
     "end_time": "2023-01-09T19:10:35.571044",
     "exception": false,
     "start_time": "2023-01-09T19:10:06.904760",
     "status": "completed"
    },
    "tags": []
   },
   "outputs": [
    {
     "data": {
      "application/vnd.jupyter.widget-view+json": {
       "model_id": "2ab23ddc5233495096a224e394ae484b",
       "version_major": 2,
       "version_minor": 0
      },
      "text/plain": [
       "Downloading:   0%|          | 0.00/483 [00:00<?, ?B/s]"
      ]
     },
     "metadata": {},
     "output_type": "display_data"
    },
    {
     "data": {
      "application/vnd.jupyter.widget-view+json": {
       "model_id": "3b6ebad0fe924c0a80f938c6adb13b40",
       "version_major": 2,
       "version_minor": 0
      },
      "text/plain": [
       "Downloading:   0%|          | 0.00/363M [00:00<?, ?B/s]"
      ]
     },
     "metadata": {},
     "output_type": "display_data"
    },
    {
     "name": "stderr",
     "output_type": "stream",
     "text": [
      "2023-01-09 19:10:22.621434: W tensorflow/python/util/util.cc:348] Sets are not currently considered sequences, but this may change in the future, so consider avoiding using them.\n",
      "Some layers from the model checkpoint at distilbert-base-uncased were not used when initializing TFDistilBertModel: ['activation_13', 'vocab_projector', 'vocab_transform', 'vocab_layer_norm']\n",
      "- This IS expected if you are initializing TFDistilBertModel from the checkpoint of a model trained on another task or with another architecture (e.g. initializing a BertForSequenceClassification model from a BertForPreTraining model).\n",
      "- This IS NOT expected if you are initializing TFDistilBertModel from the checkpoint of a model that you expect to be exactly identical (initializing a BertForSequenceClassification model from a BertForSequenceClassification model).\n",
      "All the layers of TFDistilBertModel were initialized from the model checkpoint at distilbert-base-uncased.\n",
      "If your task is similar to the task the model of the checkpoint was trained on, you can already use TFDistilBertModel for predictions without further training.\n"
     ]
    }
   ],
   "source": [
    "with strategy.scope():\n",
    "    transformerModel = transformers.TFAutoModel.from_pretrained('distilbert-base-uncased')\n",
    "    model = build_bert_model(transformerModel,450)\n"
   ]
  },
  {
   "cell_type": "code",
   "execution_count": 31,
   "id": "b1dd279a",
   "metadata": {
    "execution": {
     "iopub.execute_input": "2023-01-09T19:10:35.743653Z",
     "iopub.status.busy": "2023-01-09T19:10:35.742696Z",
     "iopub.status.idle": "2023-01-09T19:10:37.201084Z",
     "shell.execute_reply": "2023-01-09T19:10:37.200357Z",
     "shell.execute_reply.started": "2023-01-09T18:33:54.296954Z"
    },
    "papermill": {
     "duration": 1.543654,
     "end_time": "2023-01-09T19:10:37.201233",
     "exception": false,
     "start_time": "2023-01-09T19:10:35.657579",
     "status": "completed"
    },
    "tags": []
   },
   "outputs": [
    {
     "data": {
      "image/png": "[encoded data removed]",
      "text/plain": [
       "<IPython.core.display.Image object>"
      ]
     },
     "execution_count": 31,
     "metadata": {},
     "output_type": "execute_result"
    }
   ],
   "source": [
    "tf.keras.utils.plot_model(model, show_shapes=True, show_layer_names=True)"
   ]
  },
  {
   "cell_type": "code",
   "execution_count": 32,
   "id": "1cf27ee2",
   "metadata": {
    "execution": {
     "iopub.execute_input": "2023-01-09T19:10:37.379927Z",
     "iopub.status.busy": "2023-01-09T19:10:37.379123Z",
     "iopub.status.idle": "2023-01-09T19:10:37.382101Z",
     "shell.execute_reply": "2023-01-09T19:10:37.381586Z",
     "shell.execute_reply.started": "2023-01-09T18:33:54.629946Z"
    },
    "papermill": {
     "duration": 0.094758,
     "end_time": "2023-01-09T19:10:37.382251",
     "exception": false,
     "start_time": "2023-01-09T19:10:37.287493",
     "status": "completed"
    },
    "tags": []
   },
   "outputs": [],
   "source": [
    "BATCH_SIZE = 32*strategy.num_replicas_in_sync #activated if using kaggle TPU"
   ]
  },
  {
   "cell_type": "code",
   "execution_count": 33,
   "id": "f9d305e8",
   "metadata": {
    "execution": {
     "iopub.execute_input": "2023-01-09T19:10:37.563199Z",
     "iopub.status.busy": "2023-01-09T19:10:37.562125Z",
     "iopub.status.idle": "2023-01-09T19:24:13.287812Z",
     "shell.execute_reply": "2023-01-09T19:24:13.288386Z",
     "shell.execute_reply.started": "2023-01-09T18:33:54.638161Z"
    },
    "papermill": {
     "duration": 815.821564,
     "end_time": "2023-01-09T19:24:13.288622",
     "exception": false,
     "start_time": "2023-01-09T19:10:37.467058",
     "status": "completed"
    },
    "tags": []
   },
   "outputs": [
    {
     "name": "stdout",
     "output_type": "stream",
     "text": [
      "Epoch 1/15\n",
      "221/221 [==============================] - 120s 347ms/step - loss: 0.2097 - accuracy: 0.9007\n",
      "Epoch 2/15\n",
      "221/221 [==============================] - 50s 224ms/step - loss: 0.0141 - accuracy: 0.9951\n",
      "Epoch 3/15\n",
      "221/221 [==============================] - 50s 224ms/step - loss: 0.0068 - accuracy: 0.9979\n",
      "Epoch 4/15\n",
      "221/221 [==============================] - 50s 224ms/step - loss: 0.0035 - accuracy: 0.9989\n",
      "Epoch 5/15\n",
      "221/221 [==============================] - 50s 225ms/step - loss: 0.0026 - accuracy: 0.9992\n",
      "Epoch 6/15\n",
      "221/221 [==============================] - 50s 224ms/step - loss: 0.0011 - accuracy: 0.9997\n",
      "Epoch 7/15\n",
      "221/221 [==============================] - 50s 225ms/step - loss: 0.0049 - accuracy: 0.9983\n",
      "Epoch 8/15\n",
      "221/221 [==============================] - 50s 225ms/step - loss: 0.0012 - accuracy: 0.9998\n",
      "Epoch 9/15\n",
      "221/221 [==============================] - 50s 224ms/step - loss: 0.0015 - accuracy: 0.9996\n",
      "Epoch 10/15\n",
      "221/221 [==============================] - 50s 224ms/step - loss: 0.0012 - accuracy: 0.9997\n",
      "Epoch 11/15\n",
      "221/221 [==============================] - 50s 224ms/step - loss: 0.0014 - accuracy: 0.9994\n",
      "Epoch 12/15\n",
      "221/221 [==============================] - 50s 224ms/step - loss: 4.6872e-04 - accuracy: 0.9998\n",
      "Epoch 13/15\n",
      "221/221 [==============================] - 50s 225ms/step - loss: 8.0729e-04 - accuracy: 0.9997\n",
      "Epoch 14/15\n",
      "221/221 [==============================] - 50s 225ms/step - loss: 0.0015 - accuracy: 0.9994\n",
      "Epoch 15/15\n",
      "221/221 [==============================] - 50s 224ms/step - loss: 0.0013 - accuracy: 0.9996\n"
     ]
    }
   ],
   "source": [
    "n_steps = X_train_encoded.shape[0] // BATCH_SIZE\n",
    "train_history = model.fit(\n",
    "     x = {'input_ids':X_train_encoded}, y = y_train_encoded,\n",
    "    steps_per_epoch=n_steps,\n",
    "    epochs=15\n",
    ")"
   ]
  },
  {
   "cell_type": "markdown",
   "id": "fef72c79",
   "metadata": {
    "papermill": {
     "duration": 1.051715,
     "end_time": "2023-01-09T19:24:15.445678",
     "exception": false,
     "start_time": "2023-01-09T19:24:14.393963",
     "status": "completed"
    },
    "tags": []
   },
   "source": [
    "Code taken from google BERT text classification https://www.tensorflow.org/text/tutorials/classify_text_with_bert"
   ]
  },
  {
   "cell_type": "code",
   "execution_count": 34,
   "id": "eae5b561",
   "metadata": {
    "execution": {
     "iopub.execute_input": "2023-01-09T19:24:17.626636Z",
     "iopub.status.busy": "2023-01-09T19:24:17.625568Z",
     "iopub.status.idle": "2023-01-09T19:24:18.058550Z",
     "shell.execute_reply": "2023-01-09T19:24:18.057866Z",
     "shell.execute_reply.started": "2023-01-09T18:34:46.316396Z"
    },
    "papermill": {
     "duration": 1.498102,
     "end_time": "2023-01-09T19:24:18.058699",
     "exception": false,
     "start_time": "2023-01-09T19:24:16.560597",
     "status": "completed"
    },
    "tags": []
   },
   "outputs": [
    {
     "name": "stdout",
     "output_type": "stream",
     "text": [
      "dict_keys(['loss', 'accuracy'])\n"
     ]
    },
    {
     "data": {
      "text/plain": [
       "<matplotlib.legend.Legend at 0x7f207811ef90>"
      ]
     },
     "execution_count": 34,
     "metadata": {},
     "output_type": "execute_result"
    },
    {
     "data": {
      "image/png": "[encoded data removed]",
      "text/plain": [
       "<Figure size 720x432 with 2 Axes>"
      ]
     },
     "metadata": {
      "needs_background": "light"
     },
     "output_type": "display_data"
    }
   ],
   "source": [
    "history_dict = train_history.history\n",
    "print(history_dict.keys())\n",
    "\n",
    "acc = history_dict['accuracy']\n",
    "loss = history_dict['loss']\n",
    "\n",
    "epochs = range(1, len(acc) + 1)\n",
    "fig = plt.figure(figsize=(10, 6))\n",
    "fig.tight_layout()\n",
    "\n",
    "plt.subplot(2, 1, 1)\n",
    "# r is for \"solid red line\"\n",
    "plt.plot(epochs, loss, 'r', label='Training loss')\n",
    "# plt.xlabel('Epochs')\n",
    "plt.ylabel('Loss')\n",
    "plt.legend()\n",
    "\n",
    "plt.subplot(2, 1, 2)\n",
    "plt.plot(epochs, acc, 'r', label='Training acc')\n",
    "plt.title('Training and validation accuracy')\n",
    "plt.xlabel('Epochs')\n",
    "plt.ylabel('Accuracy')\n",
    "plt.legend(loc='lower right')"
   ]
  },
  {
   "cell_type": "code",
   "execution_count": 35,
   "id": "3cfb2887",
   "metadata": {
    "execution": {
     "iopub.execute_input": "2023-01-09T19:24:20.179209Z",
     "iopub.status.busy": "2023-01-09T19:24:20.178528Z",
     "iopub.status.idle": "2023-01-09T19:24:38.922134Z",
     "shell.execute_reply": "2023-01-09T19:24:38.920587Z",
     "shell.execute_reply.started": "2023-01-09T18:34:48.295832Z"
    },
    "papermill": {
     "duration": 19.798313,
     "end_time": "2023-01-09T19:24:38.922361",
     "exception": false,
     "start_time": "2023-01-09T19:24:19.124048",
     "status": "completed"
    },
    "tags": []
   },
   "outputs": [
    {
     "name": "stdout",
     "output_type": "stream",
     "text": [
      "443/443 [==============================] - 19s 37ms/step\n"
     ]
    }
   ],
   "source": [
    "prediction_DistilBERT = model.predict({'input_ids':X_test_encoded},verbose = 1)\n",
    "\n",
    "prediction_DB = np.argmax(prediction_DistilBERT, axis = 1)"
   ]
  },
  {
   "cell_type": "code",
   "execution_count": 36,
   "id": "fcdfda7b",
   "metadata": {
    "execution": {
     "iopub.execute_input": "2023-01-09T19:24:41.125541Z",
     "iopub.status.busy": "2023-01-09T19:24:41.124435Z",
     "iopub.status.idle": "2023-01-09T19:24:41.164013Z",
     "shell.execute_reply": "2023-01-09T19:24:41.163341Z",
     "shell.execute_reply.started": "2023-01-09T18:34:58.990122Z"
    },
    "papermill": {
     "duration": 1.142772,
     "end_time": "2023-01-09T19:24:41.164163",
     "exception": false,
     "start_time": "2023-01-09T19:24:40.021391",
     "status": "completed"
    },
    "tags": []
   },
   "outputs": [
    {
     "data": {
      "text/html": [
       "<div>\n",
       "<style scoped>\n",
       "    .dataframe tbody tr th:only-of-type {\n",
       "        vertical-align: middle;\n",
       "    }\n",
       "\n",
       "    .dataframe tbody tr th {\n",
       "        vertical-align: top;\n",
       "    }\n",
       "\n",
       "    .dataframe thead th {\n",
       "        text-align: right;\n",
       "    }\n",
       "</style>\n",
       "<table border=\"1\" class=\"dataframe\">\n",
       "  <thead>\n",
       "    <tr style=\"text-align: right;\">\n",
       "      <th></th>\n",
       "      <th>text</th>\n",
       "      <th>Correct_news</th>\n",
       "      <th>Predicted_news</th>\n",
       "    </tr>\n",
       "  </thead>\n",
       "  <tbody>\n",
       "    <tr>\n",
       "      <th>20549</th>\n",
       "      <td>south korea's president says will continue pha...</td>\n",
       "      <td>0</td>\n",
       "      <td>0</td>\n",
       "    </tr>\n",
       "    <tr>\n",
       "      <th>36772</th>\n",
       "      <td>boom! judge napolitano: the only crime committ...</td>\n",
       "      <td>1</td>\n",
       "      <td>1</td>\n",
       "    </tr>\n",
       "    <tr>\n",
       "      <th>24812</th>\n",
       "      <td>trump fights release of video testimony in fra...</td>\n",
       "      <td>0</td>\n",
       "      <td>0</td>\n",
       "    </tr>\n",
       "    <tr>\n",
       "      <th>53955</th>\n",
       "      <td>international air ban over iraqi kurdistan com...</td>\n",
       "      <td>0</td>\n",
       "      <td>0</td>\n",
       "    </tr>\n",
       "    <tr>\n",
       "      <th>1278</th>\n",
       "      <td>democratic u.s. senator questions deutsche ban...</td>\n",
       "      <td>0</td>\n",
       "      <td>0</td>\n",
       "    </tr>\n",
       "    <tr>\n",
       "      <th>6774</th>\n",
       "      <td>trump not now considering value-added tax or c...</td>\n",
       "      <td>0</td>\n",
       "      <td>0</td>\n",
       "    </tr>\n",
       "    <tr>\n",
       "      <th>46258</th>\n",
       "      <td>trump uses policy speech to attack media, prom...</td>\n",
       "      <td>0</td>\n",
       "      <td>0</td>\n",
       "    </tr>\n",
       "    <tr>\n",
       "      <th>71291</th>\n",
       "      <td>atf permanently relocating more agents to viol...</td>\n",
       "      <td>0</td>\n",
       "      <td>0</td>\n",
       "    </tr>\n",
       "    <tr>\n",
       "      <th>49848</th>\n",
       "      <td>senators concerned icahn is influencing regula...</td>\n",
       "      <td>0</td>\n",
       "      <td>0</td>\n",
       "    </tr>\n",
       "    <tr>\n",
       "      <th>45081</th>\n",
       "      <td>socialismo ou barbárie enviar para um amigo no...</td>\n",
       "      <td>1</td>\n",
       "      <td>1</td>\n",
       "    </tr>\n",
       "  </tbody>\n",
       "</table>\n",
       "</div>"
      ],
      "text/plain": [
       "                                                    text  Correct_news  \\\n",
       "20549  south korea's president says will continue pha...             0   \n",
       "36772  boom! judge napolitano: the only crime committ...             1   \n",
       "24812  trump fights release of video testimony in fra...             0   \n",
       "53955  international air ban over iraqi kurdistan com...             0   \n",
       "1278   democratic u.s. senator questions deutsche ban...             0   \n",
       "6774   trump not now considering value-added tax or c...             0   \n",
       "46258  trump uses policy speech to attack media, prom...             0   \n",
       "71291  atf permanently relocating more agents to viol...             0   \n",
       "49848  senators concerned icahn is influencing regula...             0   \n",
       "45081  socialismo ou barbárie enviar para um amigo no...             1   \n",
       "\n",
       "       Predicted_news  \n",
       "20549               0  \n",
       "36772               1  \n",
       "24812               0  \n",
       "53955               0  \n",
       "1278                0  \n",
       "6774                0  \n",
       "46258               0  \n",
       "71291               0  \n",
       "49848               0  \n",
       "45081               1  "
      ]
     },
     "execution_count": 36,
     "metadata": {},
     "output_type": "execute_result"
    }
   ],
   "source": [
    "result_DistilBERT_df = pd.DataFrame({'text':X_test,'Correct_news':y_test, 'Predicted_news':prediction_DB})\n",
    "result_DistilBERT_df.head(10)"
   ]
  },
  {
   "cell_type": "code",
   "execution_count": 37,
   "id": "c9303f0a",
   "metadata": {
    "execution": {
     "iopub.execute_input": "2023-01-09T19:24:43.439310Z",
     "iopub.status.busy": "2023-01-09T19:24:43.438579Z",
     "iopub.status.idle": "2023-01-09T19:24:43.474000Z",
     "shell.execute_reply": "2023-01-09T19:24:43.473234Z",
     "shell.execute_reply.started": "2023-01-09T18:34:59.007336Z"
    },
    "papermill": {
     "duration": 1.186656,
     "end_time": "2023-01-09T19:24:43.474218",
     "exception": false,
     "start_time": "2023-01-09T19:24:42.287562",
     "status": "completed"
    },
    "tags": []
   },
   "outputs": [
    {
     "name": "stdout",
     "output_type": "stream",
     "text": [
      "Accuracy : 0.9963276836158192\n",
      "              precision    recall  f1-score   support\n",
      "\n",
      "           0       1.00      1.00      1.00      7005\n",
      "           1       1.00      1.00      1.00      7155\n",
      "\n",
      "    accuracy                           1.00     14160\n",
      "   macro avg       1.00      1.00      1.00     14160\n",
      "weighted avg       1.00      1.00      1.00     14160\n",
      "\n"
     ]
    }
   ],
   "source": [
    "print(\"Accuracy :\",accuracy_score(result_DistilBERT_df.Correct_news, result_DistilBERT_df.Predicted_news))\n",
    "print(classification_report(result_DistilBERT_df.Correct_news, result_DistilBERT_df.Predicted_news))"
   ]
  },
  {
   "cell_type": "markdown",
   "id": "d85dbc2c",
   "metadata": {
    "papermill": {
     "duration": 1.10052,
     "end_time": "2023-01-09T19:24:45.682154",
     "exception": false,
     "start_time": "2023-01-09T19:24:44.581634",
     "status": "completed"
    },
    "tags": []
   },
   "source": [
    "Look at where the model mismatched"
   ]
  },
  {
   "cell_type": "code",
   "execution_count": 38,
   "id": "e773ff9f",
   "metadata": {
    "execution": {
     "iopub.execute_input": "2023-01-09T19:24:47.906510Z",
     "iopub.status.busy": "2023-01-09T19:24:47.905690Z",
     "iopub.status.idle": "2023-01-09T19:24:47.910659Z",
     "shell.execute_reply": "2023-01-09T19:24:47.911179Z",
     "shell.execute_reply.started": "2023-01-09T18:34:59.025229Z"
    },
    "papermill": {
     "duration": 1.136189,
     "end_time": "2023-01-09T19:24:47.911358",
     "exception": false,
     "start_time": "2023-01-09T19:24:46.775169",
     "status": "completed"
    },
    "tags": []
   },
   "outputs": [],
   "source": [
    "df_DistilBERT_fn = result_DistilBERT_df[(result_DistilBERT_df['Correct_news'] == 0) & (result_DistilBERT_df['Predicted_news'] == 1)]\n",
    "df_DistilBERT_fp = result_DistilBERT_df[(result_DistilBERT_df['Correct_news'] == 1) & (result_DistilBERT_df['Predicted_news'] == 0)]"
   ]
  },
  {
   "cell_type": "code",
   "execution_count": 39,
   "id": "ac780197",
   "metadata": {
    "execution": {
     "iopub.execute_input": "2023-01-09T19:24:50.122678Z",
     "iopub.status.busy": "2023-01-09T19:24:50.121693Z",
     "iopub.status.idle": "2023-01-09T19:24:50.125325Z",
     "shell.execute_reply": "2023-01-09T19:24:50.125842Z",
     "shell.execute_reply.started": "2023-01-09T18:34:59.036436Z"
    },
    "papermill": {
     "duration": 1.107282,
     "end_time": "2023-01-09T19:24:50.126019",
     "exception": false,
     "start_time": "2023-01-09T19:24:49.018737",
     "status": "completed"
    },
    "tags": []
   },
   "outputs": [
    {
     "data": {
      "text/html": [
       "<div>\n",
       "<style scoped>\n",
       "    .dataframe tbody tr th:only-of-type {\n",
       "        vertical-align: middle;\n",
       "    }\n",
       "\n",
       "    .dataframe tbody tr th {\n",
       "        vertical-align: top;\n",
       "    }\n",
       "\n",
       "    .dataframe thead th {\n",
       "        text-align: right;\n",
       "    }\n",
       "</style>\n",
       "<table border=\"1\" class=\"dataframe\">\n",
       "  <thead>\n",
       "    <tr style=\"text-align: right;\">\n",
       "      <th></th>\n",
       "      <th>text</th>\n",
       "      <th>Correct_news</th>\n",
       "      <th>Predicted_news</th>\n",
       "    </tr>\n",
       "  </thead>\n",
       "  <tbody>\n",
       "    <tr>\n",
       "      <th>11069</th>\n",
       "      <td>as his campaign crumbles, trump is spending hi...</td>\n",
       "      <td>0</td>\n",
       "      <td>1</td>\n",
       "    </tr>\n",
       "    <tr>\n",
       "      <th>10909</th>\n",
       "      <td>watch: donald trump is showing a side of the g...</td>\n",
       "      <td>0</td>\n",
       "      <td>1</td>\n",
       "    </tr>\n",
       "    <tr>\n",
       "      <th>50931</th>\n",
       "      <td>the plight of the bitter nerd: why so many awk...</td>\n",
       "      <td>0</td>\n",
       "      <td>1</td>\n",
       "    </tr>\n",
       "    <tr>\n",
       "      <th>48669</th>\n",
       "      <td>donald and billy on the bus\\r\\n its billy bush...</td>\n",
       "      <td>0</td>\n",
       "      <td>1</td>\n",
       "    </tr>\n",
       "    <tr>\n",
       "      <th>69321</th>\n",
       "      <td>exclusive: kentucky clerk: 'this is a fight wo...</td>\n",
       "      <td>0</td>\n",
       "      <td>1</td>\n",
       "    </tr>\n",
       "    <tr>\n",
       "      <th>17826</th>\n",
       "      <td>rush limbaugh: left has 'fear and hatred of ch...</td>\n",
       "      <td>0</td>\n",
       "      <td>1</td>\n",
       "    </tr>\n",
       "    <tr>\n",
       "      <th>22333</th>\n",
       "      <td>welcome to trump county, u.s.a. it is a little...</td>\n",
       "      <td>0</td>\n",
       "      <td>1</td>\n",
       "    </tr>\n",
       "    <tr>\n",
       "      <th>4889</th>\n",
       "      <td>dear gop: hire me and i’ll give you the debate...</td>\n",
       "      <td>0</td>\n",
       "      <td>1</td>\n",
       "    </tr>\n",
       "    <tr>\n",
       "      <th>16724</th>\n",
       "      <td>macedonia's parliament adopts 2018 budget, opp...</td>\n",
       "      <td>0</td>\n",
       "      <td>1</td>\n",
       "    </tr>\n",
       "    <tr>\n",
       "      <th>63384</th>\n",
       "      <td>donald trump and the $12.7 million ukraine con...</td>\n",
       "      <td>0</td>\n",
       "      <td>1</td>\n",
       "    </tr>\n",
       "  </tbody>\n",
       "</table>\n",
       "</div>"
      ],
      "text/plain": [
       "                                                    text  Correct_news  \\\n",
       "11069  as his campaign crumbles, trump is spending hi...             0   \n",
       "10909  watch: donald trump is showing a side of the g...             0   \n",
       "50931  the plight of the bitter nerd: why so many awk...             0   \n",
       "48669  donald and billy on the bus\\r\\n its billy bush...             0   \n",
       "69321  exclusive: kentucky clerk: 'this is a fight wo...             0   \n",
       "17826  rush limbaugh: left has 'fear and hatred of ch...             0   \n",
       "22333  welcome to trump county, u.s.a. it is a little...             0   \n",
       "4889   dear gop: hire me and i’ll give you the debate...             0   \n",
       "16724  macedonia's parliament adopts 2018 budget, opp...             0   \n",
       "63384  donald trump and the $12.7 million ukraine con...             0   \n",
       "\n",
       "       Predicted_news  \n",
       "11069               1  \n",
       "10909               1  \n",
       "50931               1  \n",
       "48669               1  \n",
       "69321               1  \n",
       "17826               1  \n",
       "22333               1  \n",
       "4889                1  \n",
       "16724               1  \n",
       "63384               1  "
      ]
     },
     "execution_count": 39,
     "metadata": {},
     "output_type": "execute_result"
    }
   ],
   "source": [
    "df_DistilBERT_fn.head(10)"
   ]
  },
  {
   "cell_type": "code",
   "execution_count": 40,
   "id": "3efcee8d",
   "metadata": {
    "execution": {
     "iopub.execute_input": "2023-01-09T19:24:52.397724Z",
     "iopub.status.busy": "2023-01-09T19:24:52.397054Z",
     "iopub.status.idle": "2023-01-09T19:24:52.402401Z",
     "shell.execute_reply": "2023-01-09T19:24:52.403049Z",
     "shell.execute_reply.started": "2023-01-09T18:34:59.054731Z"
    },
    "papermill": {
     "duration": 1.115921,
     "end_time": "2023-01-09T19:24:52.403226",
     "exception": false,
     "start_time": "2023-01-09T19:24:51.287305",
     "status": "completed"
    },
    "tags": []
   },
   "outputs": [
    {
     "name": "stdout",
     "output_type": "stream",
     "text": [
      "as his campaign crumbles, trump is spending his day fighting with msnbc's joe scarborough donald trump’s presidential campaign is literally losing red states by the day, so what is the republican presidential nominee doing? he is sending angry tweets to msnbc’s joe scarborough.\n",
      "\n",
      "instead of dealing with the fact that his campaign is literally burning to the ground, donald trump is once again planted in front of his tv obsessing over his media coverage.\n",
      "\n",
      "in case anybody thought that trump’s tweet at scarborough was one-off today, the republican nominee also attacked cnn’s don lemon:\n",
      "\n",
      "a day after threatening the life of his democratic opponent, donald trump isn’t trying to fix his campaign. instead, trump is whining about the media and his coverage.\n",
      "\n",
      "trump exists in his own universe. the presidential campaign is a distant second in his mind to his endless cravings for positive attention and publicity. hillary clinton is making a play for the deep red state of utah, while donald trump is busy angry tweeting at joe scarborough and don lemon.\n",
      "\n",
      "the republican party might have been better off with no nominee at all because they are being run into the ground by fraudulent businessman donald j. trump.\n"
     ]
    }
   ],
   "source": [
    "if not df_DistilBERT_fn.empty:\n",
    "    print(df_DistilBERT_fn.text.iloc[0])"
   ]
  },
  {
   "cell_type": "code",
   "execution_count": 41,
   "id": "ab525d88",
   "metadata": {
    "execution": {
     "iopub.execute_input": "2023-01-09T19:24:54.611089Z",
     "iopub.status.busy": "2023-01-09T19:24:54.600242Z",
     "iopub.status.idle": "2023-01-09T19:24:55.329664Z",
     "shell.execute_reply": "2023-01-09T19:24:55.330820Z",
     "shell.execute_reply.started": "2023-01-09T18:34:59.067420Z"
    },
    "papermill": {
     "duration": 1.836388,
     "end_time": "2023-01-09T19:24:55.331169",
     "exception": false,
     "start_time": "2023-01-09T19:24:53.494781",
     "status": "completed"
    },
    "tags": []
   },
   "outputs": [
    {
     "data": {
      "image/png": "[encoded data removed]",
      "text/plain": [
       "<Figure size 432x288 with 1 Axes>"
      ]
     },
     "metadata": {
      "needs_background": "light"
     },
     "output_type": "display_data"
    }
   ],
   "source": [
    "text = \" \".join(text for text in df_DistilBERT_fn.text)\n",
    "stopwords = set(STOPWORDS)\n",
    "wordcloud = WordCloud(stopwords=stopwords, background_color=\"white\").generate(text)\n",
    "\n",
    "\n",
    "plt.imshow(wordcloud, interpolation='bilinear')\n",
    "plt.axis(\"off\")\n",
    "plt.show()"
   ]
  },
  {
   "cell_type": "code",
   "execution_count": 42,
   "id": "1585e26a",
   "metadata": {
    "execution": {
     "iopub.execute_input": "2023-01-09T19:24:57.620270Z",
     "iopub.status.busy": "2023-01-09T19:24:57.619567Z",
     "iopub.status.idle": "2023-01-09T19:24:57.629166Z",
     "shell.execute_reply": "2023-01-09T19:24:57.629675Z",
     "shell.execute_reply.started": "2023-01-09T18:34:59.751224Z"
    },
    "papermill": {
     "duration": 1.116573,
     "end_time": "2023-01-09T19:24:57.629862",
     "exception": false,
     "start_time": "2023-01-09T19:24:56.513289",
     "status": "completed"
    },
    "tags": []
   },
   "outputs": [
    {
     "data": {
      "text/html": [
       "<div>\n",
       "<style scoped>\n",
       "    .dataframe tbody tr th:only-of-type {\n",
       "        vertical-align: middle;\n",
       "    }\n",
       "\n",
       "    .dataframe tbody tr th {\n",
       "        vertical-align: top;\n",
       "    }\n",
       "\n",
       "    .dataframe thead th {\n",
       "        text-align: right;\n",
       "    }\n",
       "</style>\n",
       "<table border=\"1\" class=\"dataframe\">\n",
       "  <thead>\n",
       "    <tr style=\"text-align: right;\">\n",
       "      <th></th>\n",
       "      <th>text</th>\n",
       "      <th>Correct_news</th>\n",
       "      <th>Predicted_news</th>\n",
       "    </tr>\n",
       "  </thead>\n",
       "  <tbody>\n",
       "    <tr>\n",
       "      <th>10058</th>\n",
       "      <td>thanks to trump, ‘local milk people’ is trend...</td>\n",
       "      <td>1</td>\n",
       "      <td>0</td>\n",
       "    </tr>\n",
       "    <tr>\n",
       "      <th>856</th>\n",
       "      <td>michael moore wants a spot in hillary’s cabine...</td>\n",
       "      <td>1</td>\n",
       "      <td>0</td>\n",
       "    </tr>\n",
       "    <tr>\n",
       "      <th>38688</th>\n",
       "      <td>trump’s economic program set for rough reality...</td>\n",
       "      <td>1</td>\n",
       "      <td>0</td>\n",
       "    </tr>\n",
       "    <tr>\n",
       "      <th>24633</th>\n",
       "      <td>just another day in the life of the clinton cr...</td>\n",
       "      <td>1</td>\n",
       "      <td>0</td>\n",
       "    </tr>\n",
       "    <tr>\n",
       "      <th>2906</th>\n",
       "      <td>islamophobia must be fought and defeated when ...</td>\n",
       "      <td>1</td>\n",
       "      <td>0</td>\n",
       "    </tr>\n",
       "    <tr>\n",
       "      <th>21878</th>\n",
       "      <td>best description ever of liberalism in one par...</td>\n",
       "      <td>1</td>\n",
       "      <td>0</td>\n",
       "    </tr>\n",
       "    <tr>\n",
       "      <th>65824</th>\n",
       "      <td>boom! ted cruz, desantis push for term limits:...</td>\n",
       "      <td>1</td>\n",
       "      <td>0</td>\n",
       "    </tr>\n",
       "    <tr>\n",
       "      <th>46956</th>\n",
       "      <td>what would happen if the u.s. was nuked? ever ...</td>\n",
       "      <td>1</td>\n",
       "      <td>0</td>\n",
       "    </tr>\n",
       "    <tr>\n",
       "      <th>16419</th>\n",
       "      <td>just another day in the life of the clinton cr...</td>\n",
       "      <td>1</td>\n",
       "      <td>0</td>\n",
       "    </tr>\n",
       "    <tr>\n",
       "      <th>33279</th>\n",
       "      <td>was martin luther king jr. a republican? the ...</td>\n",
       "      <td>1</td>\n",
       "      <td>0</td>\n",
       "    </tr>\n",
       "  </tbody>\n",
       "</table>\n",
       "</div>"
      ],
      "text/plain": [
       "                                                    text  Correct_news  \\\n",
       "10058   thanks to trump, ‘local milk people’ is trend...             1   \n",
       "856    michael moore wants a spot in hillary’s cabine...             1   \n",
       "38688  trump’s economic program set for rough reality...             1   \n",
       "24633  just another day in the life of the clinton cr...             1   \n",
       "2906   islamophobia must be fought and defeated when ...             1   \n",
       "21878  best description ever of liberalism in one par...             1   \n",
       "65824  boom! ted cruz, desantis push for term limits:...             1   \n",
       "46956  what would happen if the u.s. was nuked? ever ...             1   \n",
       "16419  just another day in the life of the clinton cr...             1   \n",
       "33279   was martin luther king jr. a republican? the ...             1   \n",
       "\n",
       "       Predicted_news  \n",
       "10058               0  \n",
       "856                 0  \n",
       "38688               0  \n",
       "24633               0  \n",
       "2906                0  \n",
       "21878               0  \n",
       "65824               0  \n",
       "46956               0  \n",
       "16419               0  \n",
       "33279               0  "
      ]
     },
     "execution_count": 42,
     "metadata": {},
     "output_type": "execute_result"
    }
   ],
   "source": [
    "df_DistilBERT_fp.head(10)"
   ]
  },
  {
   "cell_type": "code",
   "execution_count": 43,
   "id": "b435e035",
   "metadata": {
    "execution": {
     "iopub.execute_input": "2023-01-09T19:24:59.876085Z",
     "iopub.status.busy": "2023-01-09T19:24:59.873600Z",
     "iopub.status.idle": "2023-01-09T19:24:59.879072Z",
     "shell.execute_reply": "2023-01-09T19:24:59.878516Z",
     "shell.execute_reply.started": "2023-01-09T18:34:59.763552Z"
    },
    "papermill": {
     "duration": 1.117515,
     "end_time": "2023-01-09T19:24:59.879246",
     "exception": false,
     "start_time": "2023-01-09T19:24:58.761731",
     "status": "completed"
    },
    "tags": []
   },
   "outputs": [],
   "source": [
    "if not df_DistilBERT_fp.empty:\n",
    "    df_DistilBERT_fp.text.iloc[0]"
   ]
  },
  {
   "cell_type": "markdown",
   "id": "5b2937e1",
   "metadata": {
    "papermill": {
     "duration": 1.102411,
     "end_time": "2023-01-09T19:25:02.122594",
     "exception": false,
     "start_time": "2023-01-09T19:25:01.020183",
     "status": "completed"
    },
    "tags": []
   },
   "source": [
    "## Testing DistilBERT using mask layer\n",
    "We are creating a model very alike the last one. However, instead of one input to the transfomer, we have two.\n",
    "\n",
    "Also, we are extending the model to one more dense layer"
   ]
  },
  {
   "cell_type": "code",
   "execution_count": 44,
   "id": "fa705d98",
   "metadata": {
    "execution": {
     "iopub.execute_input": "2023-01-09T19:25:04.323778Z",
     "iopub.status.busy": "2023-01-09T19:25:04.323042Z",
     "iopub.status.idle": "2023-01-09T19:50:31.568191Z",
     "shell.execute_reply": "2023-01-09T19:50:31.567171Z",
     "shell.execute_reply.started": "2023-01-09T18:35:46.375108Z"
    },
    "papermill": {
     "duration": 1528.351304,
     "end_time": "2023-01-09T19:50:31.568502",
     "exception": false,
     "start_time": "2023-01-09T19:25:03.217198",
     "status": "completed"
    },
    "tags": []
   },
   "outputs": [],
   "source": [
    "X_train_encoded = tokenizer.batch_encode_plus(X_train, return_token_type_ids=False, return_attention_mask=True,\n",
    "        max_length=450, return_tensors = 'tf', padding=True, truncation=True)\n",
    "X_test_encoded = tokenizer.batch_encode_plus(X_test, return_token_type_ids=False, return_attention_mask=True,\n",
    "        max_length=450, return_tensors = 'tf', padding=True, truncation=True)\n",
    "\n",
    "y_train_encoded = tf.keras.utils.to_categorical(y_train, num_classes=2,dtype = 'int32')\n",
    "y_test_encoded = tf.keras.utils.to_categorical(y_test, num_classes=2,dtype = 'int32')"
   ]
  },
  {
   "cell_type": "code",
   "execution_count": 45,
   "id": "e7f8689f",
   "metadata": {
    "execution": {
     "iopub.execute_input": "2023-01-09T19:50:33.856216Z",
     "iopub.status.busy": "2023-01-09T19:50:33.855506Z",
     "iopub.status.idle": "2023-01-09T19:50:34.420012Z",
     "shell.execute_reply": "2023-01-09T19:50:34.420586Z",
     "shell.execute_reply.started": "2023-01-09T18:36:12.845891Z"
    },
    "papermill": {
     "duration": 1.737819,
     "end_time": "2023-01-09T19:50:34.420781",
     "exception": false,
     "start_time": "2023-01-09T19:50:32.682962",
     "status": "completed"
    },
    "tags": []
   },
   "outputs": [],
   "source": [
    "X_train_encoded_ids = np.array(X_train_encoded['input_ids'])\n",
    "X_test_encoded_ids = np.array(X_test_encoded['input_ids'])\n",
    "X_train_encoded_ids_mask = np.array(X_train_encoded['attention_mask'])\n",
    "X_test_encoded_ids_mask = np.array(X_test_encoded['attention_mask'])"
   ]
  },
  {
   "attachments": {},
   "cell_type": "markdown",
   "id": "69369439",
   "metadata": {},
   "source": [
    "Like in the other model, it was inspired by https://www.kaggle.com/code/foolofatook/news-classification-using-bert/notebook\n",
    "Modified to work with binary classification and input mas"
   ]
  },
  {
   "cell_type": "code",
   "execution_count": 46,
   "id": "bd079e22",
   "metadata": {
    "execution": {
     "iopub.execute_input": "2023-01-09T19:50:36.649717Z",
     "iopub.status.busy": "2023-01-09T19:50:36.648661Z",
     "iopub.status.idle": "2023-01-09T19:50:36.651093Z",
     "shell.execute_reply": "2023-01-09T19:50:36.651729Z",
     "shell.execute_reply.started": "2023-01-09T18:36:12.883928Z"
    },
    "papermill": {
     "duration": 1.116178,
     "end_time": "2023-01-09T19:50:36.651916",
     "exception": false,
     "start_time": "2023-01-09T19:50:35.535738",
     "status": "completed"
    },
    "tags": []
   },
   "outputs": [],
   "source": [
    " def build_bert_model_mask(transformer, length):\n",
    "    input_ids = tf.keras.layers.Input(shape=(length,), dtype=tf.int32, name=\"input_ids\")\n",
    "    input_mask = tf.keras.layers.Input(shape = (length,), dtype = tf.int32, name = 'input_mask')\n",
    "    embedding = transformer([input_ids,input_mask])[0]\n",
    "    cls_token = embedding[:, 0, :]\n",
    "    out = tf.keras.layers.Dropout(0.1)(cls_token)\n",
    "    y = tf.keras.layers.Dense(2,activation = 'sigmoid')(out)\n",
    "    model = tf.keras.Model(inputs=[input_ids, input_mask], outputs=y)\n",
    "    model.layers[2].trainable = True\n",
    "    model.compile(tf.keras.optimizers.Adam(learning_rate=3e-5, epsilon = 1e-7), loss=tf.keras.losses.BinaryCrossentropy(), metrics=['accuracy'])\n",
    "    return model"
   ]
  },
  {
   "cell_type": "code",
   "execution_count": 47,
   "id": "f88eef46",
   "metadata": {
    "execution": {
     "iopub.execute_input": "2023-01-09T19:50:38.909433Z",
     "iopub.status.busy": "2023-01-09T19:50:38.908432Z",
     "iopub.status.idle": "2023-01-09T19:50:50.125731Z",
     "shell.execute_reply": "2023-01-09T19:50:50.125022Z",
     "shell.execute_reply.started": "2023-01-09T18:36:21.327709Z"
    },
    "papermill": {
     "duration": 12.35952,
     "end_time": "2023-01-09T19:50:50.125911",
     "exception": false,
     "start_time": "2023-01-09T19:50:37.766391",
     "status": "completed"
    },
    "tags": []
   },
   "outputs": [
    {
     "name": "stderr",
     "output_type": "stream",
     "text": [
      "Some layers from the model checkpoint at distilbert-base-uncased were not used when initializing TFDistilBertModel: ['activation_13', 'vocab_projector', 'vocab_transform', 'vocab_layer_norm']\n",
      "- This IS expected if you are initializing TFDistilBertModel from the checkpoint of a model trained on another task or with another architecture (e.g. initializing a BertForSequenceClassification model from a BertForPreTraining model).\n",
      "- This IS NOT expected if you are initializing TFDistilBertModel from the checkpoint of a model that you expect to be exactly identical (initializing a BertForSequenceClassification model from a BertForSequenceClassification model).\n",
      "All the layers of TFDistilBertModel were initialized from the model checkpoint at distilbert-base-uncased.\n",
      "If your task is similar to the task the model of the checkpoint was trained on, you can already use TFDistilBertModel for predictions without further training.\n"
     ]
    }
   ],
   "source": [
    "with strategy.scope():\n",
    "    transformerModel = transformers.TFAutoModel.from_pretrained('distilbert-base-uncased')\n",
    "    model = build_bert_model_mask(transformerModel,450 )"
   ]
  },
  {
   "cell_type": "code",
   "execution_count": 48,
   "id": "71693252",
   "metadata": {
    "execution": {
     "iopub.execute_input": "2023-01-09T19:50:52.399118Z",
     "iopub.status.busy": "2023-01-09T19:50:52.398104Z",
     "iopub.status.idle": "2023-01-09T19:50:52.709568Z",
     "shell.execute_reply": "2023-01-09T19:50:52.708991Z",
     "shell.execute_reply.started": "2023-01-09T18:35:33.126962Z"
    },
    "papermill": {
     "duration": 1.445809,
     "end_time": "2023-01-09T19:50:52.709723",
     "exception": false,
     "start_time": "2023-01-09T19:50:51.263914",
     "status": "completed"
    },
    "tags": []
   },
   "outputs": [
    {
     "data": {
      "image/png": "[encoded data removed]",
      "text/plain": [
       "<IPython.core.display.Image object>"
      ]
     },
     "execution_count": 48,
     "metadata": {},
     "output_type": "execute_result"
    }
   ],
   "source": [
    "tf.keras.utils.plot_model(model, show_shapes=True, show_layer_names=True)"
   ]
  },
  {
   "cell_type": "code",
   "execution_count": 49,
   "id": "681ff973",
   "metadata": {
    "execution": {
     "iopub.execute_input": "2023-01-09T19:50:55.152204Z",
     "iopub.status.busy": "2023-01-09T19:50:55.151294Z",
     "iopub.status.idle": "2023-01-09T20:04:35.477979Z",
     "shell.execute_reply": "2023-01-09T20:04:35.478561Z",
     "shell.execute_reply.started": "2023-01-09T18:36:29.611033Z"
    },
    "papermill": {
     "duration": 821.544739,
     "end_time": "2023-01-09T20:04:35.478811",
     "exception": false,
     "start_time": "2023-01-09T19:50:53.934072",
     "status": "completed"
    },
    "tags": []
   },
   "outputs": [
    {
     "name": "stdout",
     "output_type": "stream",
     "text": [
      "Epoch 1/15\n",
      "221/221 [==============================] - 122s 347ms/step - loss: 0.1903 - accuracy: 0.9095\n",
      "Epoch 2/15\n",
      "221/221 [==============================] - 50s 225ms/step - loss: 0.0141 - accuracy: 0.9945\n",
      "Epoch 3/15\n",
      "221/221 [==============================] - 50s 225ms/step - loss: 0.0055 - accuracy: 0.9984\n",
      "Epoch 4/15\n",
      "221/221 [==============================] - 50s 225ms/step - loss: 0.0020 - accuracy: 0.9993\n",
      "Epoch 5/15\n",
      "221/221 [==============================] - 50s 225ms/step - loss: 0.0037 - accuracy: 0.9988\n",
      "Epoch 6/15\n",
      "221/221 [==============================] - 50s 225ms/step - loss: 0.0020 - accuracy: 0.9994\n",
      "Epoch 7/15\n",
      "221/221 [==============================] - 50s 225ms/step - loss: 3.8552e-04 - accuracy: 0.9999\n",
      "Epoch 8/15\n",
      "221/221 [==============================] - 50s 225ms/step - loss: 0.0017 - accuracy: 0.9995\n",
      "Epoch 9/15\n",
      "221/221 [==============================] - 50s 225ms/step - loss: 0.0014 - accuracy: 0.9996\n",
      "Epoch 10/15\n",
      "221/221 [==============================] - 50s 225ms/step - loss: 1.9590e-04 - accuracy: 1.0000\n",
      "Epoch 11/15\n",
      "221/221 [==============================] - 50s 225ms/step - loss: 9.3029e-04 - accuracy: 0.9997\n",
      "Epoch 12/15\n",
      "221/221 [==============================] - 50s 225ms/step - loss: 0.0018 - accuracy: 0.9994\n",
      "Epoch 13/15\n",
      "221/221 [==============================] - 50s 225ms/step - loss: 0.0013 - accuracy: 0.9996\n",
      "Epoch 14/15\n",
      "221/221 [==============================] - 50s 225ms/step - loss: 4.1548e-05 - accuracy: 1.0000\n",
      "Epoch 15/15\n",
      "221/221 [==============================] - 50s 225ms/step - loss: 1.9263e-04 - accuracy: 0.9999\n"
     ]
    }
   ],
   "source": [
    "n_steps = X_train_encoded_ids.shape[0] // BATCH_SIZE\n",
    "train_history = model.fit(\n",
    "    x = {'input_ids':X_train_encoded_ids,'input_mask':X_train_encoded_ids_mask}, y = y_train_encoded,\n",
    "    steps_per_epoch=n_steps,\n",
    "    epochs=15\n",
    ")"
   ]
  },
  {
   "cell_type": "code",
   "execution_count": 50,
   "id": "28dd433b",
   "metadata": {
    "execution": {
     "iopub.execute_input": "2023-01-09T20:04:39.723154Z",
     "iopub.status.busy": "2023-01-09T20:04:39.722449Z",
     "iopub.status.idle": "2023-01-09T20:04:40.154489Z",
     "shell.execute_reply": "2023-01-09T20:04:40.155284Z",
     "shell.execute_reply.started": "2023-01-09T18:37:26.511509Z"
    },
    "papermill": {
     "duration": 2.598419,
     "end_time": "2023-01-09T20:04:40.155514",
     "exception": false,
     "start_time": "2023-01-09T20:04:37.557095",
     "status": "completed"
    },
    "tags": []
   },
   "outputs": [
    {
     "name": "stdout",
     "output_type": "stream",
     "text": [
      "dict_keys(['loss', 'accuracy'])\n"
     ]
    },
    {
     "data": {
      "text/plain": [
       "<matplotlib.legend.Legend at 0x7f1fddc27950>"
      ]
     },
     "execution_count": 50,
     "metadata": {},
     "output_type": "execute_result"
    },
    {
     "data": {
      "image/png": "[encoded data removed]",
      "text/plain": [
       "<Figure size 720x432 with 2 Axes>"
      ]
     },
     "metadata": {
      "needs_background": "light"
     },
     "output_type": "display_data"
    }
   ],
   "source": [
    "history_dict = train_history.history\n",
    "print(history_dict.keys())\n",
    "\n",
    "acc = history_dict['accuracy']\n",
    "loss = history_dict['loss']\n",
    "\n",
    "epochs = range(1, len(acc) + 1)\n",
    "fig = plt.figure(figsize=(10, 6))\n",
    "fig.tight_layout()\n",
    "\n",
    "plt.subplot(2, 1, 1)\n",
    "# r is for \"solid red line\"\n",
    "plt.plot(epochs, loss, 'r', label='Training loss')\n",
    "# plt.xlabel('Epochs')\n",
    "plt.ylabel('Loss')\n",
    "plt.legend()\n",
    "\n",
    "plt.subplot(2, 1, 2)\n",
    "plt.plot(epochs, acc, 'r', label='Training acc')\n",
    "plt.title('Training and validation accuracy')\n",
    "plt.xlabel('Epochs')\n",
    "plt.ylabel('Accuracy')\n",
    "plt.legend(loc='lower right')"
   ]
  },
  {
   "cell_type": "code",
   "execution_count": 51,
   "id": "1c932524",
   "metadata": {
    "execution": {
     "iopub.execute_input": "2023-01-09T20:04:44.317151Z",
     "iopub.status.busy": "2023-01-09T20:04:44.316330Z",
     "iopub.status.idle": "2023-01-09T20:05:02.065915Z",
     "shell.execute_reply": "2023-01-09T20:05:02.064964Z",
     "shell.execute_reply.started": "2023-01-09T18:37:26.953334Z"
    },
    "papermill": {
     "duration": 19.834863,
     "end_time": "2023-01-09T20:05:02.066105",
     "exception": false,
     "start_time": "2023-01-09T20:04:42.231242",
     "status": "completed"
    },
    "tags": []
   },
   "outputs": [],
   "source": [
    "prediction_DistilBERTMask = model.predict({'input_ids':X_test_encoded_ids,'input_mask':X_test_encoded_ids_mask})\n",
    "prediction_DBM = np.argmax(prediction_DistilBERTMask, axis = 1)"
   ]
  },
  {
   "cell_type": "code",
   "execution_count": 52,
   "id": "d5fd4a53",
   "metadata": {
    "execution": {
     "iopub.execute_input": "2023-01-09T20:05:06.254147Z",
     "iopub.status.busy": "2023-01-09T20:05:06.253141Z",
     "iopub.status.idle": "2023-01-09T20:05:06.293267Z",
     "shell.execute_reply": "2023-01-09T20:05:06.293814Z",
     "shell.execute_reply.started": "2023-01-09T18:37:38.056531Z"
    },
    "papermill": {
     "duration": 2.093255,
     "end_time": "2023-01-09T20:05:06.293996",
     "exception": false,
     "start_time": "2023-01-09T20:05:04.200741",
     "status": "completed"
    },
    "tags": []
   },
   "outputs": [
    {
     "data": {
      "text/html": [
       "<div>\n",
       "<style scoped>\n",
       "    .dataframe tbody tr th:only-of-type {\n",
       "        vertical-align: middle;\n",
       "    }\n",
       "\n",
       "    .dataframe tbody tr th {\n",
       "        vertical-align: top;\n",
       "    }\n",
       "\n",
       "    .dataframe thead th {\n",
       "        text-align: right;\n",
       "    }\n",
       "</style>\n",
       "<table border=\"1\" class=\"dataframe\">\n",
       "  <thead>\n",
       "    <tr style=\"text-align: right;\">\n",
       "      <th></th>\n",
       "      <th>text</th>\n",
       "      <th>Correct_news</th>\n",
       "      <th>Predicted_news</th>\n",
       "    </tr>\n",
       "  </thead>\n",
       "  <tbody>\n",
       "    <tr>\n",
       "      <th>20549</th>\n",
       "      <td>south korea's president says will continue pha...</td>\n",
       "      <td>0</td>\n",
       "      <td>0</td>\n",
       "    </tr>\n",
       "    <tr>\n",
       "      <th>36772</th>\n",
       "      <td>boom! judge napolitano: the only crime committ...</td>\n",
       "      <td>1</td>\n",
       "      <td>1</td>\n",
       "    </tr>\n",
       "    <tr>\n",
       "      <th>24812</th>\n",
       "      <td>trump fights release of video testimony in fra...</td>\n",
       "      <td>0</td>\n",
       "      <td>0</td>\n",
       "    </tr>\n",
       "    <tr>\n",
       "      <th>53955</th>\n",
       "      <td>international air ban over iraqi kurdistan com...</td>\n",
       "      <td>0</td>\n",
       "      <td>0</td>\n",
       "    </tr>\n",
       "    <tr>\n",
       "      <th>1278</th>\n",
       "      <td>democratic u.s. senator questions deutsche ban...</td>\n",
       "      <td>0</td>\n",
       "      <td>0</td>\n",
       "    </tr>\n",
       "    <tr>\n",
       "      <th>6774</th>\n",
       "      <td>trump not now considering value-added tax or c...</td>\n",
       "      <td>0</td>\n",
       "      <td>0</td>\n",
       "    </tr>\n",
       "    <tr>\n",
       "      <th>46258</th>\n",
       "      <td>trump uses policy speech to attack media, prom...</td>\n",
       "      <td>0</td>\n",
       "      <td>0</td>\n",
       "    </tr>\n",
       "    <tr>\n",
       "      <th>71291</th>\n",
       "      <td>atf permanently relocating more agents to viol...</td>\n",
       "      <td>0</td>\n",
       "      <td>0</td>\n",
       "    </tr>\n",
       "    <tr>\n",
       "      <th>49848</th>\n",
       "      <td>senators concerned icahn is influencing regula...</td>\n",
       "      <td>0</td>\n",
       "      <td>0</td>\n",
       "    </tr>\n",
       "    <tr>\n",
       "      <th>45081</th>\n",
       "      <td>socialismo ou barbárie enviar para um amigo no...</td>\n",
       "      <td>1</td>\n",
       "      <td>1</td>\n",
       "    </tr>\n",
       "  </tbody>\n",
       "</table>\n",
       "</div>"
      ],
      "text/plain": [
       "                                                    text  Correct_news  \\\n",
       "20549  south korea's president says will continue pha...             0   \n",
       "36772  boom! judge napolitano: the only crime committ...             1   \n",
       "24812  trump fights release of video testimony in fra...             0   \n",
       "53955  international air ban over iraqi kurdistan com...             0   \n",
       "1278   democratic u.s. senator questions deutsche ban...             0   \n",
       "6774   trump not now considering value-added tax or c...             0   \n",
       "46258  trump uses policy speech to attack media, prom...             0   \n",
       "71291  atf permanently relocating more agents to viol...             0   \n",
       "49848  senators concerned icahn is influencing regula...             0   \n",
       "45081  socialismo ou barbárie enviar para um amigo no...             1   \n",
       "\n",
       "       Predicted_news  \n",
       "20549               0  \n",
       "36772               1  \n",
       "24812               0  \n",
       "53955               0  \n",
       "1278                0  \n",
       "6774                0  \n",
       "46258               0  \n",
       "71291               0  \n",
       "49848               0  \n",
       "45081               1  "
      ]
     },
     "execution_count": 52,
     "metadata": {},
     "output_type": "execute_result"
    }
   ],
   "source": [
    "result_DBM_df = pd.DataFrame({'text':X_test,'Correct_news':y_test, 'Predicted_news':prediction_DBM})\n",
    "result_DBM_df.head(10)"
   ]
  },
  {
   "cell_type": "code",
   "execution_count": 53,
   "id": "ca0b8ae5",
   "metadata": {
    "execution": {
     "iopub.execute_input": "2023-01-09T20:05:10.472761Z",
     "iopub.status.busy": "2023-01-09T20:05:10.471746Z",
     "iopub.status.idle": "2023-01-09T20:05:10.506978Z",
     "shell.execute_reply": "2023-01-09T20:05:10.506281Z",
     "shell.execute_reply.started": "2023-01-09T18:37:38.073139Z"
    },
    "papermill": {
     "duration": 2.143217,
     "end_time": "2023-01-09T20:05:10.507126",
     "exception": false,
     "start_time": "2023-01-09T20:05:08.363909",
     "status": "completed"
    },
    "tags": []
   },
   "outputs": [
    {
     "name": "stdout",
     "output_type": "stream",
     "text": [
      "Accuracy : 0.9927966101694915\n",
      "              precision    recall  f1-score   support\n",
      "\n",
      "           0       0.99      1.00      0.99      7005\n",
      "           1       1.00      0.99      0.99      7155\n",
      "\n",
      "    accuracy                           0.99     14160\n",
      "   macro avg       0.99      0.99      0.99     14160\n",
      "weighted avg       0.99      0.99      0.99     14160\n",
      "\n"
     ]
    }
   ],
   "source": [
    "print(\"Accuracy :\",accuracy_score(result_DBM_df.Correct_news, result_DBM_df.Predicted_news))\n",
    "print(classification_report(result_DBM_df.Correct_news, result_DBM_df.Predicted_news))"
   ]
  },
  {
   "cell_type": "code",
   "execution_count": 54,
   "id": "918d2607",
   "metadata": {
    "execution": {
     "iopub.execute_input": "2023-01-09T20:05:14.780897Z",
     "iopub.status.busy": "2023-01-09T20:05:14.780060Z",
     "iopub.status.idle": "2023-01-09T20:05:14.784770Z",
     "shell.execute_reply": "2023-01-09T20:05:14.785370Z",
     "shell.execute_reply.started": "2023-01-09T18:38:06.427105Z"
    },
    "papermill": {
     "duration": 2.092173,
     "end_time": "2023-01-09T20:05:14.785572",
     "exception": false,
     "start_time": "2023-01-09T20:05:12.693399",
     "status": "completed"
    },
    "tags": []
   },
   "outputs": [],
   "source": [
    "df_DBM_fn = result_DBM_df[(result_DBM_df['Correct_news'] == 0) & (result_DBM_df['Predicted_news'] == 1)]\n",
    "df_DBM_fp = result_DBM_df[(result_DBM_df['Correct_news'] == 1) & (result_DBM_df['Predicted_news'] == 0)]"
   ]
  },
  {
   "cell_type": "code",
   "execution_count": 55,
   "id": "2e6cf21d",
   "metadata": {
    "execution": {
     "iopub.execute_input": "2023-01-09T20:05:18.986090Z",
     "iopub.status.busy": "2023-01-09T20:05:18.985269Z",
     "iopub.status.idle": "2023-01-09T20:05:18.995682Z",
     "shell.execute_reply": "2023-01-09T20:05:18.996271Z",
     "shell.execute_reply.started": "2023-01-09T18:38:09.306963Z"
    },
    "papermill": {
     "duration": 2.130232,
     "end_time": "2023-01-09T20:05:18.996457",
     "exception": false,
     "start_time": "2023-01-09T20:05:16.866225",
     "status": "completed"
    },
    "tags": []
   },
   "outputs": [
    {
     "data": {
      "text/html": [
       "<div>\n",
       "<style scoped>\n",
       "    .dataframe tbody tr th:only-of-type {\n",
       "        vertical-align: middle;\n",
       "    }\n",
       "\n",
       "    .dataframe tbody tr th {\n",
       "        vertical-align: top;\n",
       "    }\n",
       "\n",
       "    .dataframe thead th {\n",
       "        text-align: right;\n",
       "    }\n",
       "</style>\n",
       "<table border=\"1\" class=\"dataframe\">\n",
       "  <thead>\n",
       "    <tr style=\"text-align: right;\">\n",
       "      <th></th>\n",
       "      <th>text</th>\n",
       "      <th>Correct_news</th>\n",
       "      <th>Predicted_news</th>\n",
       "    </tr>\n",
       "  </thead>\n",
       "  <tbody>\n",
       "    <tr>\n",
       "      <th>48669</th>\n",
       "      <td>donald and billy on the bus\\r\\n its billy bush...</td>\n",
       "      <td>0</td>\n",
       "      <td>1</td>\n",
       "    </tr>\n",
       "    <tr>\n",
       "      <th>22952</th>\n",
       "      <td>california’s first dog passes away - breitbart...</td>\n",
       "      <td>0</td>\n",
       "      <td>1</td>\n",
       "    </tr>\n",
       "    <tr>\n",
       "      <th>49348</th>\n",
       "      <td>spanish pm, in catalonia, calls for big turnou...</td>\n",
       "      <td>0</td>\n",
       "      <td>1</td>\n",
       "    </tr>\n",
       "    <tr>\n",
       "      <th>47000</th>\n",
       "      <td>trump called it months ago: anthony weiner thr...</td>\n",
       "      <td>0</td>\n",
       "      <td>1</td>\n",
       "    </tr>\n",
       "    <tr>\n",
       "      <th>9218</th>\n",
       "      <td>gas prices could drop toward $1 a gallon in so...</td>\n",
       "      <td>0</td>\n",
       "      <td>1</td>\n",
       "    </tr>\n",
       "    <tr>\n",
       "      <th>48963</th>\n",
       "      <td>the adoration of kim jong un pyongyang - north...</td>\n",
       "      <td>0</td>\n",
       "      <td>1</td>\n",
       "    </tr>\n",
       "    <tr>\n",
       "      <th>17721</th>\n",
       "      <td>factbox: what do laws say about catalan self-d...</td>\n",
       "      <td>0</td>\n",
       "      <td>1</td>\n",
       "    </tr>\n",
       "    <tr>\n",
       "      <th>25644</th>\n",
       "      <td>black millennials: don’t help donald trump ok,...</td>\n",
       "      <td>0</td>\n",
       "      <td>1</td>\n",
       "    </tr>\n",
       "    <tr>\n",
       "      <th>38605</th>\n",
       "      <td>run or wait? tokyo's koike faces dilemma ahead...</td>\n",
       "      <td>0</td>\n",
       "      <td>1</td>\n",
       "    </tr>\n",
       "  </tbody>\n",
       "</table>\n",
       "</div>"
      ],
      "text/plain": [
       "                                                    text  Correct_news  \\\n",
       "48669  donald and billy on the bus\\r\\n its billy bush...             0   \n",
       "22952  california’s first dog passes away - breitbart...             0   \n",
       "49348  spanish pm, in catalonia, calls for big turnou...             0   \n",
       "47000  trump called it months ago: anthony weiner thr...             0   \n",
       "9218   gas prices could drop toward $1 a gallon in so...             0   \n",
       "48963  the adoration of kim jong un pyongyang - north...             0   \n",
       "17721  factbox: what do laws say about catalan self-d...             0   \n",
       "25644  black millennials: don’t help donald trump ok,...             0   \n",
       "38605  run or wait? tokyo's koike faces dilemma ahead...             0   \n",
       "\n",
       "       Predicted_news  \n",
       "48669               1  \n",
       "22952               1  \n",
       "49348               1  \n",
       "47000               1  \n",
       "9218                1  \n",
       "48963               1  \n",
       "17721               1  \n",
       "25644               1  \n",
       "38605               1  "
      ]
     },
     "execution_count": 55,
     "metadata": {},
     "output_type": "execute_result"
    }
   ],
   "source": [
    "df_DBM_fn.head(10)"
   ]
  },
  {
   "cell_type": "code",
   "execution_count": 56,
   "id": "aeff52e2",
   "metadata": {
    "execution": {
     "iopub.execute_input": "2023-01-09T20:05:23.188678Z",
     "iopub.status.busy": "2023-01-09T20:05:23.187950Z",
     "iopub.status.idle": "2023-01-09T20:05:23.193409Z",
     "shell.execute_reply": "2023-01-09T20:05:23.194028Z",
     "shell.execute_reply.started": "2023-01-09T18:38:13.715022Z"
    },
    "papermill": {
     "duration": 2.103484,
     "end_time": "2023-01-09T20:05:23.194230",
     "exception": false,
     "start_time": "2023-01-09T20:05:21.090746",
     "status": "completed"
    },
    "tags": []
   },
   "outputs": [
    {
     "name": "stdout",
     "output_type": "stream",
     "text": [
      "donald and billy on the bus\r\n",
      " its billy bushs snickering that really gets to me. in the video from 2005, published friday by the washington post, you can hear mr. bush (first cousin to george w.) wheezing ecstatically as donald j. trump brags, inadvertently into a hot mic, about sexually harassing and groping women. the pair, along with a passel of unidentified men, are on a bus en route to film an access hollywood segment with the actress arianne zucker.\r\n",
      "\r\n",
      "through the window of the bus, mr. bush seems to spot ms. zucker first, as she waits to greet them. sheesh, he blurts, breathless, telling mr. trump how hot your girl is. you can feel mr. bushs giddiness, a contact high, at getting to join a more powerful man in the oldest and most sacred of male bonding exercises: objectifying women.\r\n",
      "\r\n",
      "mr. trump spies ms. zucker too. whoa!\r\n",
      "\r\n",
      "yes! mr. bush grunts, beavis-esque, yes, the donald has scored!\r\n",
      "\r\n",
      "of course, the donald has not scored. the donald is on the nbc lot to shoot a guest appearance on days of our lives at the behest of his employer to promote his reality show, the apprentice, while access hollywood produces an accompanying puff piece. this is work within work within work. mr. bush is at work. mr. trump is at work. ms. zucker is at work, and not only is she not mr. trumps girl, she is a complete stranger who is also on camera and being paid to smile.\r\n",
      "\r\n",
      "continue reading the main story\r\n",
      "related coverage\r\n",
      "\r\n",
      "\r\n",
      "opinion nicholas kristof\r\n",
      "donald trump, groper in chief oct. 7, 2016\r\n",
      "\r\n",
      "opinion editorial\r\n",
      "the sleaziness of donald trump oct. 7, 2016\r\n",
      "\r\n",
      "why republicans are probably stuck with donald trump oct. 8, 2016\r\n",
      "\r\n",
      "donald trump apology caps day of outrage over lewd tape oct. 7, 2016\r\n",
      "heh heh heh, mr. bush snickers. my man!\r\n",
      "\r\n",
      "such has it always been: powerful men sorting womens bodies into property and trash and good guys, average guys, guys you know, guys you love, guys on the today show, going along with it. snickering. licking a boot here and there, joining in if theyre feeling especially bitter or transgressive or insecure or far from the cameras that day. perhaps, at their most noble, staying silent. never speaking up, because the social cost is too high. its easier to leave that for the victims to bear. after all, theyre used to it.\r\n",
      "\r\n",
      " \r\n",
      " 3:02\r\n",
      "donald trumps lewd comments about women\r\n",
      "video\r\n",
      "donald trumps lewd comments about women\r\n",
      "publish date october 7, 2016. photo by mark makela for the new york times. watch in times video \r\n",
      "i gotta use some tic tacs, mr. trump says, still inside the bus, just in case i start kissing her. you know im automatically attracted to beautiful  i just start kissing them, its like a magnet. just kiss. i dont even wait. and when youre a star, they let you do it. you can do anything. grab them by the pussy. you can do anything. mr. bush and the bus toadies laugh.\r\n",
      "\r\n",
      "you cant do anything, actually. this might be a challenging concept for someone running a campaign so socially retrograde its practically medieval, but women are allowed to own property now. that includes our own bodies, whether you feel automatically entitled to pieces of us or not.\r\n",
      "\r\n",
      "every woman knows a version of donald trump. most of us have known more of them than we can (or care to) recall. hes the boss who thinks you owe him something; the date who thinks that silence means yes and no means try harder; the stranger who thinks your bodys mere existence constitutes an invitation to touch, take, own and destroy. hes every deadbeat hookup, every narcissistic loser, every man whos ever tried to leverage power, money, fame, credibility or physical strength to snap your boundaries like matchsticks. he is hot fear and cold dread and a pit in your stomach. hes the man who held you back, who never took you seriously, who treated you like nothing until you started to believe it, who raped you and told you it was your fault and whose daddy was a cop so who would believe you anyway?\r\n",
      "\r\n",
      "come on, women. you know this man. i can name the ones in my past  name yours and imagine each as president, with every womans life in his care. would you even trust him to watch your dog? (thats a trick question because he would never do it. his defining characteristic is that he does not care about you.)\r\n",
      "\r\n",
      "when mr. trump tells mr. bush that hes gotta use a tic tac just in case he cannot restrain himself from non-consensually affixing his perfectly round, gasping lamprey mouth over ms. zuckers, he is talking about sexually assaulting a co-worker.\r\n",
      "\r\n",
      "when he says he grabs womens genitals, he is talking about sexually assaulting anyone he feels like, at any time. female trump voters: its fine if youve come to terms with not being a full human being in the eyes of your party, but what about your daughters? is that the life you want for them? you want old men to grab their genitals? you want the president of the united states to go around grabbing genitals?\r\n",
      "\r\n",
      "mr. trump is rape cultures blathering id, and sunday night hillary clinton (who, no doubt, has just as many man-made scars as the rest of us) has to stand next to him on a stage, and remain unflappable as shes held to an astronomically higher standard, and pretend that he is her equal while his followers persist in howling that sexism is a feminist myth. while mr. trump boasts about sexual assault and vows to suppress disobedient media, cable news pundits spend their time taking a protractor to mrs. clintons smile  a constant, churning, microanalysis of nothing.\r\n",
      "\r\n",
      "many people, well, many men, are expressing their disgust with mr. trump the only way they know how: by invoking their mothers and daughters and sisters  people, presumably, with the anatomy mr. trump feels free to assess and knead. hillary clinton has been showing us all year, and all her life, that, sure, women can be cherished if you want, but they also can be president.\r\n",
      "\r\n",
      "meanwhile, right-wing lawmakers are scrambling, sanctimonious and pathetic, to distance themselves from their own hideous progeny, clearly hoping to salvage some personal credibility and perhaps even save their party. but here is the thing, the big thing, that paul d. ryan and reince priebus and mike pence and all the spineless billy bushes of the world (and plenty of progressive men too, for that matter) dont understand: most of you are no better than mr. trump; you are just more subtle.\r\n",
      "\r\n",
      "if you have spent your career brutalizing and dehumanizing women legislatively rather than personally, you are no better. if you were happy to overlook months of violent racism, xenophobia, transphobia and islamophobia from the trump campaign, but now youre mad that he used a bad word and tried to sleep with another mans wife, you are no better. if you have derided and stigmatized identity politics in an effort to keep the marginalized from organizing, you are no better. if you snicker or say nothing while your fellow men behave like donald trump, you are no better.\r\n",
      "\r\n",
      "the truth is that all of you have failed women for generations, and you deserve to lose our votes. next month we will grab you where it hurts. by your ballots.\n"
     ]
    }
   ],
   "source": [
    "if not df_DBM_fn.empty:\n",
    "    print(df_DBM_fn.text.iloc[0])\n"
   ]
  },
  {
   "cell_type": "code",
   "execution_count": 57,
   "id": "f609c6e4",
   "metadata": {
    "execution": {
     "iopub.execute_input": "2023-01-09T20:05:27.417646Z",
     "iopub.status.busy": "2023-01-09T20:05:27.416900Z",
     "iopub.status.idle": "2023-01-09T20:05:28.170698Z",
     "shell.execute_reply": "2023-01-09T20:05:28.169890Z",
     "shell.execute_reply.started": "2023-01-09T18:38:17.238381Z"
    },
    "papermill": {
     "duration": 2.850264,
     "end_time": "2023-01-09T20:05:28.170877",
     "exception": false,
     "start_time": "2023-01-09T20:05:25.320613",
     "status": "completed"
    },
    "tags": []
   },
   "outputs": [
    {
     "data": {
      "image/png": "[encoded data removed]",
      "text/plain": [
       "<Figure size 432x288 with 1 Axes>"
      ]
     },
     "metadata": {
      "needs_background": "light"
     },
     "output_type": "display_data"
    }
   ],
   "source": [
    "text = \" \".join(text for text in df_DBM_fn.text)\n",
    "stopwords = set(STOPWORDS)\n",
    "wordcloud = WordCloud(stopwords=stopwords, background_color=\"white\").generate(text)\n",
    "\n",
    "# Display the generated image:\n",
    "# the matplotlib way:\n",
    "plt.imshow(wordcloud, interpolation='bilinear')\n",
    "plt.axis(\"off\")\n",
    "plt.show()"
   ]
  },
  {
   "cell_type": "code",
   "execution_count": 58,
   "id": "e8415780",
   "metadata": {
    "execution": {
     "iopub.execute_input": "2023-01-09T20:05:32.468239Z",
     "iopub.status.busy": "2023-01-09T20:05:32.467456Z",
     "iopub.status.idle": "2023-01-09T20:05:32.470564Z",
     "shell.execute_reply": "2023-01-09T20:05:32.471206Z",
     "shell.execute_reply.started": "2023-01-09T18:38:22.192008Z"
    },
    "papermill": {
     "duration": 2.10658,
     "end_time": "2023-01-09T20:05:32.471402",
     "exception": false,
     "start_time": "2023-01-09T20:05:30.364822",
     "status": "completed"
    },
    "tags": []
   },
   "outputs": [
    {
     "data": {
      "text/html": [
       "<div>\n",
       "<style scoped>\n",
       "    .dataframe tbody tr th:only-of-type {\n",
       "        vertical-align: middle;\n",
       "    }\n",
       "\n",
       "    .dataframe tbody tr th {\n",
       "        vertical-align: top;\n",
       "    }\n",
       "\n",
       "    .dataframe thead th {\n",
       "        text-align: right;\n",
       "    }\n",
       "</style>\n",
       "<table border=\"1\" class=\"dataframe\">\n",
       "  <thead>\n",
       "    <tr style=\"text-align: right;\">\n",
       "      <th></th>\n",
       "      <th>text</th>\n",
       "      <th>Correct_news</th>\n",
       "      <th>Predicted_news</th>\n",
       "    </tr>\n",
       "  </thead>\n",
       "  <tbody>\n",
       "    <tr>\n",
       "      <th>29326</th>\n",
       "      <td>clinton investigation re-opened due to emails ...</td>\n",
       "      <td>1</td>\n",
       "      <td>0</td>\n",
       "    </tr>\n",
       "    <tr>\n",
       "      <th>856</th>\n",
       "      <td>michael moore wants a spot in hillary’s cabine...</td>\n",
       "      <td>1</td>\n",
       "      <td>0</td>\n",
       "    </tr>\n",
       "    <tr>\n",
       "      <th>67535</th>\n",
       "      <td>cambodia – a thorny path to elections | new ea...</td>\n",
       "      <td>1</td>\n",
       "      <td>0</td>\n",
       "    </tr>\n",
       "    <tr>\n",
       "      <th>38688</th>\n",
       "      <td>trump’s economic program set for rough reality...</td>\n",
       "      <td>1</td>\n",
       "      <td>0</td>\n",
       "    </tr>\n",
       "    <tr>\n",
       "      <th>24633</th>\n",
       "      <td>just another day in the life of the clinton cr...</td>\n",
       "      <td>1</td>\n",
       "      <td>0</td>\n",
       "    </tr>\n",
       "    <tr>\n",
       "      <th>16789</th>\n",
       "      <td>george soros funds anti-trump riots similarly ...</td>\n",
       "      <td>1</td>\n",
       "      <td>0</td>\n",
       "    </tr>\n",
       "    <tr>\n",
       "      <th>63146</th>\n",
       "      <td>hollywood darling sandra bullock to play “abor...</td>\n",
       "      <td>1</td>\n",
       "      <td>0</td>\n",
       "    </tr>\n",
       "    <tr>\n",
       "      <th>59670</th>\n",
       "      <td>actor mark ruffalo returns from standing rock ...</td>\n",
       "      <td>1</td>\n",
       "      <td>0</td>\n",
       "    </tr>\n",
       "    <tr>\n",
       "      <th>8643</th>\n",
       "      <td>deterioration of interracial relations during ...</td>\n",
       "      <td>1</td>\n",
       "      <td>0</td>\n",
       "    </tr>\n",
       "    <tr>\n",
       "      <th>6424</th>\n",
       "      <td>we told you so! the zika virus is harmless in ...</td>\n",
       "      <td>1</td>\n",
       "      <td>0</td>\n",
       "    </tr>\n",
       "  </tbody>\n",
       "</table>\n",
       "</div>"
      ],
      "text/plain": [
       "                                                    text  Correct_news  \\\n",
       "29326  clinton investigation re-opened due to emails ...             1   \n",
       "856    michael moore wants a spot in hillary’s cabine...             1   \n",
       "67535  cambodia – a thorny path to elections | new ea...             1   \n",
       "38688  trump’s economic program set for rough reality...             1   \n",
       "24633  just another day in the life of the clinton cr...             1   \n",
       "16789  george soros funds anti-trump riots similarly ...             1   \n",
       "63146  hollywood darling sandra bullock to play “abor...             1   \n",
       "59670  actor mark ruffalo returns from standing rock ...             1   \n",
       "8643   deterioration of interracial relations during ...             1   \n",
       "6424   we told you so! the zika virus is harmless in ...             1   \n",
       "\n",
       "       Predicted_news  \n",
       "29326               0  \n",
       "856                 0  \n",
       "67535               0  \n",
       "38688               0  \n",
       "24633               0  \n",
       "16789               0  \n",
       "63146               0  \n",
       "59670               0  \n",
       "8643                0  \n",
       "6424                0  "
      ]
     },
     "execution_count": 58,
     "metadata": {},
     "output_type": "execute_result"
    }
   ],
   "source": [
    "df_DBM_fp.head(10)"
   ]
  },
  {
   "cell_type": "code",
   "execution_count": 59,
   "id": "79e5e434",
   "metadata": {
    "execution": {
     "iopub.execute_input": "2023-01-09T20:05:36.743160Z",
     "iopub.status.busy": "2023-01-09T20:05:36.742149Z",
     "iopub.status.idle": "2023-01-09T20:05:36.748025Z",
     "shell.execute_reply": "2023-01-09T20:05:36.748614Z",
     "shell.execute_reply.started": "2023-01-09T18:38:24.484514Z"
    },
    "papermill": {
     "duration": 2.093659,
     "end_time": "2023-01-09T20:05:36.748789",
     "exception": false,
     "start_time": "2023-01-09T20:05:34.655130",
     "status": "completed"
    },
    "tags": []
   },
   "outputs": [
    {
     "name": "stdout",
     "output_type": "stream",
     "text": [
      "clinton investigation re-opened due to emails uncovered in weiner sexting case \n",
      "during an investigation into former new york congressman anthony weiner’s lewd texting with an underage girl, new communications were uncovered on the congressman’s computer which have given fbi director james comey cause to re-open the investigation into hillary clinton’s handling of classified information.\n",
      "on friday, comey notified the leaders of the congressional oversight committees that the investigation has been re-opened. in his letter, he wrote:\n",
      "in connection with an unrelated case, the fbi has learned of the existence of emails that appear to be pertinent to the investigation. i am writing to inform you that the investigative team briefed me on this yesterday, and i agreed that the fbi should take appropriate investigative steps designed to allow investigators to review these emails to determine whether they contain classified information, as well as to assess their importance to our investigation.\n",
      "according to fbi officials, the emails were discovered after the bureau seized a device which was used by both the former congressman and his estranged wife, huma abedin, a top aide to the clinton campaign, which contained related information to their investigation into weiner’s “sexting” escapade with a 15-year-old girl in north carolina.\n",
      "hillary clinton seems to be confident that the fbi will not bring charges against her.\n",
      "“[fbi director james comey] himself has said he doesn’t know whether the emails… are significant or not,” clinton said to reporters on friday. “i’m confident whatever they are will not change the conclusion reached in july. therefore it’s imperative that the bureau explain this issue in question, whatever it is, without any delay.”\n",
      "donald trump, speaking to a crowd in new hampshire on friday afternoon, tipped his hat to the fbi for having the “courage” to correct “the horrible mistake that they made.”\n",
      "“hillary clinton’s corruption is on a scale we have never seen before,” trump said. “we must not let her take her criminal scheme into the oval office.” delivered by the daily sheeple \n",
      "we encourage you to share and republish our reports, analyses, breaking news and videos ( click for details ). \n",
      "contributed by the daily sheeple of www.thedailysheeple.com . \n",
      "this content may be freely reproduced in full or in part in digital form with full attribution to the author and a link to www.thedailysheeple.com. \n"
     ]
    }
   ],
   "source": [
    "if not df_DBM_fp.empty: \n",
    "    print(df_DBM_fp.text.iloc[0])"
   ]
  },
  {
   "cell_type": "markdown",
   "id": "20f90736",
   "metadata": {
    "papermill": {
     "duration": 2.080582,
     "end_time": "2023-01-09T20:05:40.921696",
     "exception": false,
     "start_time": "2023-01-09T20:05:38.841114",
     "status": "completed"
    },
    "tags": []
   },
   "source": [
    "## Confusion matrix of Logistic regression, DistilBERT and DistilBERT with attention mask"
   ]
  },
  {
   "cell_type": "markdown",
   "id": "0e1265a6",
   "metadata": {
    "papermill": {
     "duration": 2.113274,
     "end_time": "2023-01-09T20:05:45.151909",
     "exception": false,
     "start_time": "2023-01-09T20:05:43.038635",
     "status": "completed"
    },
    "tags": []
   },
   "source": [
    "### Logistic regression"
   ]
  },
  {
   "cell_type": "code",
   "execution_count": 60,
   "id": "2adeb03d",
   "metadata": {
    "execution": {
     "iopub.execute_input": "2023-01-09T20:05:49.318039Z",
     "iopub.status.busy": "2023-01-09T20:05:49.317010Z",
     "iopub.status.idle": "2023-01-09T20:05:49.603831Z",
     "shell.execute_reply": "2023-01-09T20:05:49.603180Z",
     "shell.execute_reply.started": "2023-01-09T18:38:26.918363Z"
    },
    "papermill": {
     "duration": 2.361996,
     "end_time": "2023-01-09T20:05:49.603989",
     "exception": false,
     "start_time": "2023-01-09T20:05:47.241993",
     "status": "completed"
    },
    "tags": []
   },
   "outputs": [
    {
     "data": {
      "text/plain": [
       "<sklearn.metrics._plot.confusion_matrix.ConfusionMatrixDisplay at 0x7f1fdbe13210>"
      ]
     },
     "execution_count": 60,
     "metadata": {},
     "output_type": "execute_result"
    },
    {
     "data": {
      "image/png": "[encoded data removed]",
      "text/plain": [
       "<Figure size 432x288 with 2 Axes>"
      ]
     },
     "metadata": {
      "needs_background": "light"
     },
     "output_type": "display_data"
    }
   ],
   "source": [
    "cm = confusion_matrix(y_test, prediction_LR, normalize='all')\n",
    "cmd = ConfusionMatrixDisplay(cm, display_labels=['False','True'])\n",
    "cmd.plot()"
   ]
  },
  {
   "cell_type": "markdown",
   "id": "a5d04e89",
   "metadata": {
    "papermill": {
     "duration": 2.078489,
     "end_time": "2023-01-09T20:05:53.815688",
     "exception": false,
     "start_time": "2023-01-09T20:05:51.737199",
     "status": "completed"
    },
    "tags": []
   },
   "source": [
    "### DistilBERT"
   ]
  },
  {
   "cell_type": "code",
   "execution_count": 61,
   "id": "7b4f5c61",
   "metadata": {
    "execution": {
     "iopub.execute_input": "2023-01-09T20:05:58.057289Z",
     "iopub.status.busy": "2023-01-09T20:05:58.056303Z",
     "iopub.status.idle": "2023-01-09T20:05:58.342302Z",
     "shell.execute_reply": "2023-01-09T20:05:58.341639Z",
     "shell.execute_reply.started": "2023-01-09T18:38:30.682243Z"
    },
    "papermill": {
     "duration": 2.431455,
     "end_time": "2023-01-09T20:05:58.342451",
     "exception": false,
     "start_time": "2023-01-09T20:05:55.910996",
     "status": "completed"
    },
    "tags": []
   },
   "outputs": [
    {
     "data": {
      "text/plain": [
       "<sklearn.metrics._plot.confusion_matrix.ConfusionMatrixDisplay at 0x7f1fdb8ace50>"
      ]
     },
     "execution_count": 61,
     "metadata": {},
     "output_type": "execute_result"
    },
    {
     "data": {
      "image/png": "[encoded data removed]",
      "text/plain": [
       "<Figure size 432x288 with 2 Axes>"
      ]
     },
     "metadata": {
      "needs_background": "light"
     },
     "output_type": "display_data"
    }
   ],
   "source": [
    "cm = confusion_matrix(y_test, prediction_DB, normalize='all')\n",
    "cmd = ConfusionMatrixDisplay(cm, display_labels=['False','True'])\n",
    "cmd.plot()"
   ]
  },
  {
   "cell_type": "markdown",
   "id": "f63f2e81",
   "metadata": {
    "papermill": {
     "duration": 2.093526,
     "end_time": "2023-01-09T20:06:02.592408",
     "exception": false,
     "start_time": "2023-01-09T20:06:00.498882",
     "status": "completed"
    },
    "tags": []
   },
   "source": [
    "### DistilBERT with attention mask"
   ]
  },
  {
   "cell_type": "code",
   "execution_count": 62,
   "id": "d1246fe4",
   "metadata": {
    "execution": {
     "iopub.execute_input": "2023-01-09T20:06:06.850831Z",
     "iopub.status.busy": "2023-01-09T20:06:06.850084Z",
     "iopub.status.idle": "2023-01-09T20:06:07.130245Z",
     "shell.execute_reply": "2023-01-09T20:06:07.129681Z",
     "shell.execute_reply.started": "2023-01-09T18:38:36.491309Z"
    },
    "papermill": {
     "duration": 2.451815,
     "end_time": "2023-01-09T20:06:07.130417",
     "exception": false,
     "start_time": "2023-01-09T20:06:04.678602",
     "status": "completed"
    },
    "tags": []
   },
   "outputs": [
    {
     "data": {
      "text/plain": [
       "<sklearn.metrics._plot.confusion_matrix.ConfusionMatrixDisplay at 0x7f1fdb8b3f10>"
      ]
     },
     "execution_count": 62,
     "metadata": {},
     "output_type": "execute_result"
    },
    {
     "data": {
      "image/png": "[encoded data removed]",
      "text/plain": [
       "<Figure size 432x288 with 2 Axes>"
      ]
     },
     "metadata": {
      "needs_background": "light"
     },
     "output_type": "display_data"
    }
   ],
   "source": [
    "cm = confusion_matrix(y_test, prediction_DBM, normalize='all')\n",
    "cmd = ConfusionMatrixDisplay(cm, display_labels=['False','True'])\n",
    "cmd.plot()"
   ]
  }
 ],
 "metadata": {
  "kernelspec": {
   "display_name": "Python 3",
   "language": "python",
   "name": "python3"
  },
  "language_info": {
   "codemirror_mode": {
    "name": "ipython",
    "version": 3
   },
   "file_extension": ".py",
   "mimetype": "text/x-python",
   "name": "python",
   "nbconvert_exporter": "python",
   "pygments_lexer": "ipython3",
   "version": "3.7.10"
  },
  "papermill": {
   "default_parameters": {},
   "duration": 5090.266065,
   "end_time": "2023-01-09T20:06:12.720389",
   "environment_variables": {},
   "exception": null,
   "input_path": "__notebook__.ipynb",
   "output_path": "__notebook__.ipynb",
   "parameters": {},
   "start_time": "2023-01-09T18:41:22.454324",
   "version": "2.3.3"
  },
  "widgets": {
   "application/vnd.jupyter.widget-state+json": {
    "state": {
     "008f81a9f4bf4575b278591d79ac0c38": {
      "model_module": "@jupyter-widgets/controls",
      "model_module_version": "1.5.0",
      "model_name": "DescriptionStyleModel",
      "state": {
       "_model_module": "@jupyter-widgets/controls",
       "_model_module_version": "1.5.0",
       "_model_name": "DescriptionStyleModel",
       "_view_count": null,
       "_view_module": "@jupyter-widgets/base",
       "_view_module_version": "1.2.0",
       "_view_name": "StyleView",
       "description_width": ""
      }
     },
     "022b81baa81349099ac9371541a38d23": {
      "model_module": "@jupyter-widgets/controls",
      "model_module_version": "1.5.0",
      "model_name": "HTMLModel",
      "state": {
       "_dom_classes": [],
       "_model_module": "@jupyter-widgets/controls",
       "_model_module_version": "1.5.0",
       "_model_name": "HTMLModel",
       "_view_count": null,
       "_view_module": "@jupyter-widgets/controls",
       "_view_module_version": "1.5.0",
       "_view_name": "HTMLView",
       "description": "",
       "description_tooltip": null,
       "layout": "IPY_MODEL_d2d5704f79c14c5e966629366da1aa6d",
       "placeholder": "​",
       "style": "IPY_MODEL_e773fcadde064e14a9d7f8c266e1547e",
       "value": "Downloading: 100%"
      }
     },
     "0f60f0a286594464a04b03b6e194c459": {
      "model_module": "@jupyter-widgets/base",
      "model_module_version": "1.2.0",
      "model_name": "LayoutModel",
      "state": {
       "_model_module": "@jupyter-widgets/base",
       "_model_module_version": "1.2.0",
       "_model_name": "LayoutModel",
       "_view_count": null,
       "_view_module": "@jupyter-widgets/base",
       "_view_module_version": "1.2.0",
       "_view_name": "LayoutView",
       "align_content": null,
       "align_items": null,
       "align_self": null,
       "border": null,
       "bottom": null,
       "display": null,
       "flex": null,
       "flex_flow": null,
       "grid_area": null,
       "grid_auto_columns": null,
       "grid_auto_flow": null,
       "grid_auto_rows": null,
       "grid_column": null,
       "grid_gap": null,
       "grid_row": null,
       "grid_template_areas": null,
       "grid_template_columns": null,
       "grid_template_rows": null,
       "height": null,
       "justify_content": null,
       "justify_items": null,
       "left": null,
       "margin": null,
       "max_height": null,
       "max_width": null,
       "min_height": null,
       "min_width": null,
       "object_fit": null,
       "object_position": null,
       "order": null,
       "overflow": null,
       "overflow_x": null,
       "overflow_y": null,
       "padding": null,
       "right": null,
       "top": null,
       "visibility": null,
       "width": null
      }
     },
     "10f7822443174f57b1dba2fe3700fe5e": {
      "model_module": "@jupyter-widgets/controls",
      "model_module_version": "1.5.0",
      "model_name": "DescriptionStyleModel",
      "state": {
       "_model_module": "@jupyter-widgets/controls",
       "_model_module_version": "1.5.0",
       "_model_name": "DescriptionStyleModel",
       "_view_count": null,
       "_view_module": "@jupyter-widgets/base",
       "_view_module_version": "1.2.0",
       "_view_name": "StyleView",
       "description_width": ""
      }
     },
     "152a587c8b1a46e7bfccb7ea9d1d034b": {
      "model_module": "@jupyter-widgets/controls",
      "model_module_version": "1.5.0",
      "model_name": "HTMLModel",
      "state": {
       "_dom_classes": [],
       "_model_module": "@jupyter-widgets/controls",
       "_model_module_version": "1.5.0",
       "_model_name": "HTMLModel",
       "_view_count": null,
       "_view_module": "@jupyter-widgets/controls",
       "_view_module_version": "1.5.0",
       "_view_name": "HTMLView",
       "description": "",
       "description_tooltip": null,
       "layout": "IPY_MODEL_296e0883c67a46b78ad83f8bfe3488bb",
       "placeholder": "​",
       "style": "IPY_MODEL_389151e4f78e44f4a99a6b0fbd1d05c6",
       "value": " 466k/466k [00:00&lt;00:00, 1.36MB/s]"
      }
     },
     "189ad03dda784684b2d91a02ea00b317": {
      "model_module": "@jupyter-widgets/controls",
      "model_module_version": "1.5.0",
      "model_name": "HTMLModel",
      "state": {
       "_dom_classes": [],
       "_model_module": "@jupyter-widgets/controls",
       "_model_module_version": "1.5.0",
       "_model_name": "HTMLModel",
       "_view_count": null,
       "_view_module": "@jupyter-widgets/controls",
       "_view_module_version": "1.5.0",
       "_view_name": "HTMLView",
       "description": "",
       "description_tooltip": null,
       "layout": "IPY_MODEL_c100b5e48d334bb49c08770ad26a8332",
       "placeholder": "​",
       "style": "IPY_MODEL_10f7822443174f57b1dba2fe3700fe5e",
       "value": " 232k/232k [00:00&lt;00:00, 1.13MB/s]"
      }
     },
     "1f01e54f926f44de933b2b3c04488dcc": {
      "model_module": "@jupyter-widgets/controls",
      "model_module_version": "1.5.0",
      "model_name": "DescriptionStyleModel",
      "state": {
       "_model_module": "@jupyter-widgets/controls",
       "_model_module_version": "1.5.0",
       "_model_name": "DescriptionStyleModel",
       "_view_count": null,
       "_view_module": "@jupyter-widgets/base",
       "_view_module_version": "1.2.0",
       "_view_name": "StyleView",
       "description_width": ""
      }
     },
     "2803912076af4fc79d8c8904acd56a80": {
      "model_module": "@jupyter-widgets/controls",
      "model_module_version": "1.5.0",
      "model_name": "HBoxModel",
      "state": {
       "_dom_classes": [],
       "_model_module": "@jupyter-widgets/controls",
       "_model_module_version": "1.5.0",
       "_model_name": "HBoxModel",
       "_view_count": null,
       "_view_module": "@jupyter-widgets/controls",
       "_view_module_version": "1.5.0",
       "_view_name": "HBoxView",
       "box_style": "",
       "children": [
        "IPY_MODEL_ff5425cb22a14234a3f8de73aca1fb4b",
        "IPY_MODEL_fa418fe9a28d4ca99f5f9e3a3f7a675f",
        "IPY_MODEL_189ad03dda784684b2d91a02ea00b317"
       ],
       "layout": "IPY_MODEL_c341528478eb4285870c7dd400034090"
      }
     },
     "296e0883c67a46b78ad83f8bfe3488bb": {
      "model_module": "@jupyter-widgets/base",
      "model_module_version": "1.2.0",
      "model_name": "LayoutModel",
      "state": {
       "_model_module": "@jupyter-widgets/base",
       "_model_module_version": "1.2.0",
       "_model_name": "LayoutModel",
       "_view_count": null,
       "_view_module": "@jupyter-widgets/base",
       "_view_module_version": "1.2.0",
       "_view_name": "LayoutView",
       "align_content": null,
       "align_items": null,
       "align_self": null,
       "border": null,
       "bottom": null,
       "display": null,
       "flex": null,
       "flex_flow": null,
       "grid_area": null,
       "grid_auto_columns": null,
       "grid_auto_flow": null,
       "grid_auto_rows": null,
       "grid_column": null,
       "grid_gap": null,
       "grid_row": null,
       "grid_template_areas": null,
       "grid_template_columns": null,
       "grid_template_rows": null,
       "height": null,
       "justify_content": null,
       "justify_items": null,
       "left": null,
       "margin": null,
       "max_height": null,
       "max_width": null,
       "min_height": null,
       "min_width": null,
       "object_fit": null,
       "object_position": null,
       "order": null,
       "overflow": null,
       "overflow_x": null,
       "overflow_y": null,
       "padding": null,
       "right": null,
       "top": null,
       "visibility": null,
       "width": null
      }
     },
     "2ab23ddc5233495096a224e394ae484b": {
      "model_module": "@jupyter-widgets/controls",
      "model_module_version": "1.5.0",
      "model_name": "HBoxModel",
      "state": {
       "_dom_classes": [],
       "_model_module": "@jupyter-widgets/controls",
       "_model_module_version": "1.5.0",
       "_model_name": "HBoxModel",
       "_view_count": null,
       "_view_module": "@jupyter-widgets/controls",
       "_view_module_version": "1.5.0",
       "_view_name": "HBoxView",
       "box_style": "",
       "children": [
        "IPY_MODEL_a56dd2f1190e4f38bc1ec52620e0c3e2",
        "IPY_MODEL_73e41f153988447faa8e593d1ef09b29",
        "IPY_MODEL_50a34e1a27c34f67871ae838bedefc8d"
       ],
       "layout": "IPY_MODEL_2ce65ca9f62548f69363ed2e139563b8"
      }
     },
     "2b81d6af37b145f294a104f32ce81eb3": {
      "model_module": "@jupyter-widgets/controls",
      "model_module_version": "1.5.0",
      "model_name": "DescriptionStyleModel",
      "state": {
       "_model_module": "@jupyter-widgets/controls",
       "_model_module_version": "1.5.0",
       "_model_name": "DescriptionStyleModel",
       "_view_count": null,
       "_view_module": "@jupyter-widgets/base",
       "_view_module_version": "1.2.0",
       "_view_name": "StyleView",
       "description_width": ""
      }
     },
     "2ce65ca9f62548f69363ed2e139563b8": {
      "model_module": "@jupyter-widgets/base",
      "model_module_version": "1.2.0",
      "model_name": "LayoutModel",
      "state": {
       "_model_module": "@jupyter-widgets/base",
       "_model_module_version": "1.2.0",
       "_model_name": "LayoutModel",
       "_view_count": null,
       "_view_module": "@jupyter-widgets/base",
       "_view_module_version": "1.2.0",
       "_view_name": "LayoutView",
       "align_content": null,
       "align_items": null,
       "align_self": null,
       "border": null,
       "bottom": null,
       "display": null,
       "flex": null,
       "flex_flow": null,
       "grid_area": null,
       "grid_auto_columns": null,
       "grid_auto_flow": null,
       "grid_auto_rows": null,
       "grid_column": null,
       "grid_gap": null,
       "grid_row": null,
       "grid_template_areas": null,
       "grid_template_columns": null,
       "grid_template_rows": null,
       "height": null,
       "justify_content": null,
       "justify_items": null,
       "left": null,
       "margin": null,
       "max_height": null,
       "max_width": null,
       "min_height": null,
       "min_width": null,
       "object_fit": null,
       "object_position": null,
       "order": null,
       "overflow": null,
       "overflow_x": null,
       "overflow_y": null,
       "padding": null,
       "right": null,
       "top": null,
       "visibility": null,
       "width": null
      }
     },
     "2f418fc4c09d42178b5349ed115bd20a": {
      "model_module": "@jupyter-widgets/controls",
      "model_module_version": "1.5.0",
      "model_name": "FloatProgressModel",
      "state": {
       "_dom_classes": [],
       "_model_module": "@jupyter-widgets/controls",
       "_model_module_version": "1.5.0",
       "_model_name": "FloatProgressModel",
       "_view_count": null,
       "_view_module": "@jupyter-widgets/controls",
       "_view_module_version": "1.5.0",
       "_view_name": "ProgressView",
       "bar_style": "success",
       "description": "",
       "description_tooltip": null,
       "layout": "IPY_MODEL_7914cb97ddae4488be335677c42c75e5",
       "max": 363423424,
       "min": 0,
       "orientation": "horizontal",
       "style": "IPY_MODEL_d2340d6062304b3a92eda6e57ddf3e12",
       "value": 363423424
      }
     },
     "30c2a29e3eb54700bd93c949d04a86ac": {
      "model_module": "@jupyter-widgets/controls",
      "model_module_version": "1.5.0",
      "model_name": "HTMLModel",
      "state": {
       "_dom_classes": [],
       "_model_module": "@jupyter-widgets/controls",
       "_model_module_version": "1.5.0",
       "_model_name": "HTMLModel",
       "_view_count": null,
       "_view_module": "@jupyter-widgets/controls",
       "_view_module_version": "1.5.0",
       "_view_name": "HTMLView",
       "description": "",
       "description_tooltip": null,
       "layout": "IPY_MODEL_5bfdb8907ef54fcf878a582d747ae0f9",
       "placeholder": "​",
       "style": "IPY_MODEL_2b81d6af37b145f294a104f32ce81eb3",
       "value": " 28.0/28.0 [00:00&lt;00:00, 895B/s]"
      }
     },
     "334688a88b834e20b9cc9faa60bd6913": {
      "model_module": "@jupyter-widgets/controls",
      "model_module_version": "1.5.0",
      "model_name": "FloatProgressModel",
      "state": {
       "_dom_classes": [],
       "_model_module": "@jupyter-widgets/controls",
       "_model_module_version": "1.5.0",
       "_model_name": "FloatProgressModel",
       "_view_count": null,
       "_view_module": "@jupyter-widgets/controls",
       "_view_module_version": "1.5.0",
       "_view_name": "ProgressView",
       "bar_style": "success",
       "description": "",
       "description_tooltip": null,
       "layout": "IPY_MODEL_957e7f6a09cf4efa9f9035776d598c32",
       "max": 28,
       "min": 0,
       "orientation": "horizontal",
       "style": "IPY_MODEL_d7ad402caadd4a829996905168beeb0f",
       "value": 28
      }
     },
     "372aa583e7904f2cbdac5ea8f95b840c": {
      "model_module": "@jupyter-widgets/base",
      "model_module_version": "1.2.0",
      "model_name": "LayoutModel",
      "state": {
       "_model_module": "@jupyter-widgets/base",
       "_model_module_version": "1.2.0",
       "_model_name": "LayoutModel",
       "_view_count": null,
       "_view_module": "@jupyter-widgets/base",
       "_view_module_version": "1.2.0",
       "_view_name": "LayoutView",
       "align_content": null,
       "align_items": null,
       "align_self": null,
       "border": null,
       "bottom": null,
       "display": null,
       "flex": null,
       "flex_flow": null,
       "grid_area": null,
       "grid_auto_columns": null,
       "grid_auto_flow": null,
       "grid_auto_rows": null,
       "grid_column": null,
       "grid_gap": null,
       "grid_row": null,
       "grid_template_areas": null,
       "grid_template_columns": null,
       "grid_template_rows": null,
       "height": null,
       "justify_content": null,
       "justify_items": null,
       "left": null,
       "margin": null,
       "max_height": null,
       "max_width": null,
       "min_height": null,
       "min_width": null,
       "object_fit": null,
       "object_position": null,
       "order": null,
       "overflow": null,
       "overflow_x": null,
       "overflow_y": null,
       "padding": null,
       "right": null,
       "top": null,
       "visibility": null,
       "width": null
      }
     },
     "389151e4f78e44f4a99a6b0fbd1d05c6": {
      "model_module": "@jupyter-widgets/controls",
      "model_module_version": "1.5.0",
      "model_name": "DescriptionStyleModel",
      "state": {
       "_model_module": "@jupyter-widgets/controls",
       "_model_module_version": "1.5.0",
       "_model_name": "DescriptionStyleModel",
       "_view_count": null,
       "_view_module": "@jupyter-widgets/base",
       "_view_module_version": "1.2.0",
       "_view_name": "StyleView",
       "description_width": ""
      }
     },
     "3b07ef2c01f548ec981265ddac50079a": {
      "model_module": "@jupyter-widgets/controls",
      "model_module_version": "1.5.0",
      "model_name": "HBoxModel",
      "state": {
       "_dom_classes": [],
       "_model_module": "@jupyter-widgets/controls",
       "_model_module_version": "1.5.0",
       "_model_name": "HBoxModel",
       "_view_count": null,
       "_view_module": "@jupyter-widgets/controls",
       "_view_module_version": "1.5.0",
       "_view_name": "HBoxView",
       "box_style": "",
       "children": [
        "IPY_MODEL_ea374fe899164f1abb3f74b473f95390",
        "IPY_MODEL_334688a88b834e20b9cc9faa60bd6913",
        "IPY_MODEL_30c2a29e3eb54700bd93c949d04a86ac"
       ],
       "layout": "IPY_MODEL_0f60f0a286594464a04b03b6e194c459"
      }
     },
     "3b6ebad0fe924c0a80f938c6adb13b40": {
      "model_module": "@jupyter-widgets/controls",
      "model_module_version": "1.5.0",
      "model_name": "HBoxModel",
      "state": {
       "_dom_classes": [],
       "_model_module": "@jupyter-widgets/controls",
       "_model_module_version": "1.5.0",
       "_model_name": "HBoxModel",
       "_view_count": null,
       "_view_module": "@jupyter-widgets/controls",
       "_view_module_version": "1.5.0",
       "_view_name": "HBoxView",
       "box_style": "",
       "children": [
        "IPY_MODEL_022b81baa81349099ac9371541a38d23",
        "IPY_MODEL_2f418fc4c09d42178b5349ed115bd20a",
        "IPY_MODEL_cfde4ab0bdcf4ba9b7c63476126de3bc"
       ],
       "layout": "IPY_MODEL_372aa583e7904f2cbdac5ea8f95b840c"
      }
     },
     "435ed6fd03044351be508e5c30ed534a": {
      "model_module": "@jupyter-widgets/controls",
      "model_module_version": "1.5.0",
      "model_name": "ProgressStyleModel",
      "state": {
       "_model_module": "@jupyter-widgets/controls",
       "_model_module_version": "1.5.0",
       "_model_name": "ProgressStyleModel",
       "_view_count": null,
       "_view_module": "@jupyter-widgets/base",
       "_view_module_version": "1.2.0",
       "_view_name": "StyleView",
       "bar_color": null,
       "description_width": ""
      }
     },
     "4d3d6421b0194261bb9704d4016d019e": {
      "model_module": "@jupyter-widgets/base",
      "model_module_version": "1.2.0",
      "model_name": "LayoutModel",
      "state": {
       "_model_module": "@jupyter-widgets/base",
       "_model_module_version": "1.2.0",
       "_model_name": "LayoutModel",
       "_view_count": null,
       "_view_module": "@jupyter-widgets/base",
       "_view_module_version": "1.2.0",
       "_view_name": "LayoutView",
       "align_content": null,
       "align_items": null,
       "align_self": null,
       "border": null,
       "bottom": null,
       "display": null,
       "flex": null,
       "flex_flow": null,
       "grid_area": null,
       "grid_auto_columns": null,
       "grid_auto_flow": null,
       "grid_auto_rows": null,
       "grid_column": null,
       "grid_gap": null,
       "grid_row": null,
       "grid_template_areas": null,
       "grid_template_columns": null,
       "grid_template_rows": null,
       "height": null,
       "justify_content": null,
       "justify_items": null,
       "left": null,
       "margin": null,
       "max_height": null,
       "max_width": null,
       "min_height": null,
       "min_width": null,
       "object_fit": null,
       "object_position": null,
       "order": null,
       "overflow": null,
       "overflow_x": null,
       "overflow_y": null,
       "padding": null,
       "right": null,
       "top": null,
       "visibility": null,
       "width": null
      }
     },
     "50a34e1a27c34f67871ae838bedefc8d": {
      "model_module": "@jupyter-widgets/controls",
      "model_module_version": "1.5.0",
      "model_name": "HTMLModel",
      "state": {
       "_dom_classes": [],
       "_model_module": "@jupyter-widgets/controls",
       "_model_module_version": "1.5.0",
       "_model_name": "HTMLModel",
       "_view_count": null,
       "_view_module": "@jupyter-widgets/controls",
       "_view_module_version": "1.5.0",
       "_view_name": "HTMLView",
       "description": "",
       "description_tooltip": null,
       "layout": "IPY_MODEL_cb1d6998d1bf413483f807133aba698f",
       "placeholder": "​",
       "style": "IPY_MODEL_8e28bbc1b8254c648ea28c36656ca035",
       "value": " 483/483 [00:00&lt;00:00, 14.2kB/s]"
      }
     },
     "5749f3a1774545258865ee96dc51c681": {
      "model_module": "@jupyter-widgets/controls",
      "model_module_version": "1.5.0",
      "model_name": "ProgressStyleModel",
      "state": {
       "_model_module": "@jupyter-widgets/controls",
       "_model_module_version": "1.5.0",
       "_model_name": "ProgressStyleModel",
       "_view_count": null,
       "_view_module": "@jupyter-widgets/base",
       "_view_module_version": "1.2.0",
       "_view_name": "StyleView",
       "bar_color": null,
       "description_width": ""
      }
     },
     "5bfdb8907ef54fcf878a582d747ae0f9": {
      "model_module": "@jupyter-widgets/base",
      "model_module_version": "1.2.0",
      "model_name": "LayoutModel",
      "state": {
       "_model_module": "@jupyter-widgets/base",
       "_model_module_version": "1.2.0",
       "_model_name": "LayoutModel",
       "_view_count": null,
       "_view_module": "@jupyter-widgets/base",
       "_view_module_version": "1.2.0",
       "_view_name": "LayoutView",
       "align_content": null,
       "align_items": null,
       "align_self": null,
       "border": null,
       "bottom": null,
       "display": null,
       "flex": null,
       "flex_flow": null,
       "grid_area": null,
       "grid_auto_columns": null,
       "grid_auto_flow": null,
       "grid_auto_rows": null,
       "grid_column": null,
       "grid_gap": null,
       "grid_row": null,
       "grid_template_areas": null,
       "grid_template_columns": null,
       "grid_template_rows": null,
       "height": null,
       "justify_content": null,
       "justify_items": null,
       "left": null,
       "margin": null,
       "max_height": null,
       "max_width": null,
       "min_height": null,
       "min_width": null,
       "object_fit": null,
       "object_position": null,
       "order": null,
       "overflow": null,
       "overflow_x": null,
       "overflow_y": null,
       "padding": null,
       "right": null,
       "top": null,
       "visibility": null,
       "width": null
      }
     },
     "6d973ea4940c4e75aa115b87601cec62": {
      "model_module": "@jupyter-widgets/controls",
      "model_module_version": "1.5.0",
      "model_name": "DescriptionStyleModel",
      "state": {
       "_model_module": "@jupyter-widgets/controls",
       "_model_module_version": "1.5.0",
       "_model_name": "DescriptionStyleModel",
       "_view_count": null,
       "_view_module": "@jupyter-widgets/base",
       "_view_module_version": "1.2.0",
       "_view_name": "StyleView",
       "description_width": ""
      }
     },
     "73e41f153988447faa8e593d1ef09b29": {
      "model_module": "@jupyter-widgets/controls",
      "model_module_version": "1.5.0",
      "model_name": "FloatProgressModel",
      "state": {
       "_dom_classes": [],
       "_model_module": "@jupyter-widgets/controls",
       "_model_module_version": "1.5.0",
       "_model_name": "FloatProgressModel",
       "_view_count": null,
       "_view_module": "@jupyter-widgets/controls",
       "_view_module_version": "1.5.0",
       "_view_name": "ProgressView",
       "bar_style": "success",
       "description": "",
       "description_tooltip": null,
       "layout": "IPY_MODEL_b7e58fe5198a462580192a175e89a6cf",
       "max": 483,
       "min": 0,
       "orientation": "horizontal",
       "style": "IPY_MODEL_5749f3a1774545258865ee96dc51c681",
       "value": 483
      }
     },
     "7914cb97ddae4488be335677c42c75e5": {
      "model_module": "@jupyter-widgets/base",
      "model_module_version": "1.2.0",
      "model_name": "LayoutModel",
      "state": {
       "_model_module": "@jupyter-widgets/base",
       "_model_module_version": "1.2.0",
       "_model_name": "LayoutModel",
       "_view_count": null,
       "_view_module": "@jupyter-widgets/base",
       "_view_module_version": "1.2.0",
       "_view_name": "LayoutView",
       "align_content": null,
       "align_items": null,
       "align_self": null,
       "border": null,
       "bottom": null,
       "display": null,
       "flex": null,
       "flex_flow": null,
       "grid_area": null,
       "grid_auto_columns": null,
       "grid_auto_flow": null,
       "grid_auto_rows": null,
       "grid_column": null,
       "grid_gap": null,
       "grid_row": null,
       "grid_template_areas": null,
       "grid_template_columns": null,
       "grid_template_rows": null,
       "height": null,
       "justify_content": null,
       "justify_items": null,
       "left": null,
       "margin": null,
       "max_height": null,
       "max_width": null,
       "min_height": null,
       "min_width": null,
       "object_fit": null,
       "object_position": null,
       "order": null,
       "overflow": null,
       "overflow_x": null,
       "overflow_y": null,
       "padding": null,
       "right": null,
       "top": null,
       "visibility": null,
       "width": null
      }
     },
     "855f71d46cb44d5eb123bf9152afee88": {
      "model_module": "@jupyter-widgets/base",
      "model_module_version": "1.2.0",
      "model_name": "LayoutModel",
      "state": {
       "_model_module": "@jupyter-widgets/base",
       "_model_module_version": "1.2.0",
       "_model_name": "LayoutModel",
       "_view_count": null,
       "_view_module": "@jupyter-widgets/base",
       "_view_module_version": "1.2.0",
       "_view_name": "LayoutView",
       "align_content": null,
       "align_items": null,
       "align_self": null,
       "border": null,
       "bottom": null,
       "display": null,
       "flex": null,
       "flex_flow": null,
       "grid_area": null,
       "grid_auto_columns": null,
       "grid_auto_flow": null,
       "grid_auto_rows": null,
       "grid_column": null,
       "grid_gap": null,
       "grid_row": null,
       "grid_template_areas": null,
       "grid_template_columns": null,
       "grid_template_rows": null,
       "height": null,
       "justify_content": null,
       "justify_items": null,
       "left": null,
       "margin": null,
       "max_height": null,
       "max_width": null,
       "min_height": null,
       "min_width": null,
       "object_fit": null,
       "object_position": null,
       "order": null,
       "overflow": null,
       "overflow_x": null,
       "overflow_y": null,
       "padding": null,
       "right": null,
       "top": null,
       "visibility": null,
       "width": null
      }
     },
     "866225a07eec404c96e4b5957b868e70": {
      "model_module": "@jupyter-widgets/base",
      "model_module_version": "1.2.0",
      "model_name": "LayoutModel",
      "state": {
       "_model_module": "@jupyter-widgets/base",
       "_model_module_version": "1.2.0",
       "_model_name": "LayoutModel",
       "_view_count": null,
       "_view_module": "@jupyter-widgets/base",
       "_view_module_version": "1.2.0",
       "_view_name": "LayoutView",
       "align_content": null,
       "align_items": null,
       "align_self": null,
       "border": null,
       "bottom": null,
       "display": null,
       "flex": null,
       "flex_flow": null,
       "grid_area": null,
       "grid_auto_columns": null,
       "grid_auto_flow": null,
       "grid_auto_rows": null,
       "grid_column": null,
       "grid_gap": null,
       "grid_row": null,
       "grid_template_areas": null,
       "grid_template_columns": null,
       "grid_template_rows": null,
       "height": null,
       "justify_content": null,
       "justify_items": null,
       "left": null,
       "margin": null,
       "max_height": null,
       "max_width": null,
       "min_height": null,
       "min_width": null,
       "object_fit": null,
       "object_position": null,
       "order": null,
       "overflow": null,
       "overflow_x": null,
       "overflow_y": null,
       "padding": null,
       "right": null,
       "top": null,
       "visibility": null,
       "width": null
      }
     },
     "8a77bb61e232448c9ad77ff539af4d2c": {
      "model_module": "@jupyter-widgets/controls",
      "model_module_version": "1.5.0",
      "model_name": "HTMLModel",
      "state": {
       "_dom_classes": [],
       "_model_module": "@jupyter-widgets/controls",
       "_model_module_version": "1.5.0",
       "_model_name": "HTMLModel",
       "_view_count": null,
       "_view_module": "@jupyter-widgets/controls",
       "_view_module_version": "1.5.0",
       "_view_name": "HTMLView",
       "description": "",
       "description_tooltip": null,
       "layout": "IPY_MODEL_8df608ac40b34b41aee60fd050d9cda8",
       "placeholder": "​",
       "style": "IPY_MODEL_1f01e54f926f44de933b2b3c04488dcc",
       "value": "Downloading: 100%"
      }
     },
     "8df608ac40b34b41aee60fd050d9cda8": {
      "model_module": "@jupyter-widgets/base",
      "model_module_version": "1.2.0",
      "model_name": "LayoutModel",
      "state": {
       "_model_module": "@jupyter-widgets/base",
       "_model_module_version": "1.2.0",
       "_model_name": "LayoutModel",
       "_view_count": null,
       "_view_module": "@jupyter-widgets/base",
       "_view_module_version": "1.2.0",
       "_view_name": "LayoutView",
       "align_content": null,
       "align_items": null,
       "align_self": null,
       "border": null,
       "bottom": null,
       "display": null,
       "flex": null,
       "flex_flow": null,
       "grid_area": null,
       "grid_auto_columns": null,
       "grid_auto_flow": null,
       "grid_auto_rows": null,
       "grid_column": null,
       "grid_gap": null,
       "grid_row": null,
       "grid_template_areas": null,
       "grid_template_columns": null,
       "grid_template_rows": null,
       "height": null,
       "justify_content": null,
       "justify_items": null,
       "left": null,
       "margin": null,
       "max_height": null,
       "max_width": null,
       "min_height": null,
       "min_width": null,
       "object_fit": null,
       "object_position": null,
       "order": null,
       "overflow": null,
       "overflow_x": null,
       "overflow_y": null,
       "padding": null,
       "right": null,
       "top": null,
       "visibility": null,
       "width": null
      }
     },
     "8e28bbc1b8254c648ea28c36656ca035": {
      "model_module": "@jupyter-widgets/controls",
      "model_module_version": "1.5.0",
      "model_name": "DescriptionStyleModel",
      "state": {
       "_model_module": "@jupyter-widgets/controls",
       "_model_module_version": "1.5.0",
       "_model_name": "DescriptionStyleModel",
       "_view_count": null,
       "_view_module": "@jupyter-widgets/base",
       "_view_module_version": "1.2.0",
       "_view_name": "StyleView",
       "description_width": ""
      }
     },
     "91baaeb46591443c99a3279196c82ce6": {
      "model_module": "@jupyter-widgets/controls",
      "model_module_version": "1.5.0",
      "model_name": "ProgressStyleModel",
      "state": {
       "_model_module": "@jupyter-widgets/controls",
       "_model_module_version": "1.5.0",
       "_model_name": "ProgressStyleModel",
       "_view_count": null,
       "_view_module": "@jupyter-widgets/base",
       "_view_module_version": "1.2.0",
       "_view_name": "StyleView",
       "bar_color": null,
       "description_width": ""
      }
     },
     "957e7f6a09cf4efa9f9035776d598c32": {
      "model_module": "@jupyter-widgets/base",
      "model_module_version": "1.2.0",
      "model_name": "LayoutModel",
      "state": {
       "_model_module": "@jupyter-widgets/base",
       "_model_module_version": "1.2.0",
       "_model_name": "LayoutModel",
       "_view_count": null,
       "_view_module": "@jupyter-widgets/base",
       "_view_module_version": "1.2.0",
       "_view_name": "LayoutView",
       "align_content": null,
       "align_items": null,
       "align_self": null,
       "border": null,
       "bottom": null,
       "display": null,
       "flex": null,
       "flex_flow": null,
       "grid_area": null,
       "grid_auto_columns": null,
       "grid_auto_flow": null,
       "grid_auto_rows": null,
       "grid_column": null,
       "grid_gap": null,
       "grid_row": null,
       "grid_template_areas": null,
       "grid_template_columns": null,
       "grid_template_rows": null,
       "height": null,
       "justify_content": null,
       "justify_items": null,
       "left": null,
       "margin": null,
       "max_height": null,
       "max_width": null,
       "min_height": null,
       "min_width": null,
       "object_fit": null,
       "object_position": null,
       "order": null,
       "overflow": null,
       "overflow_x": null,
       "overflow_y": null,
       "padding": null,
       "right": null,
       "top": null,
       "visibility": null,
       "width": null
      }
     },
     "9be65329137b4565b686ed314f5e1435": {
      "model_module": "@jupyter-widgets/controls",
      "model_module_version": "1.5.0",
      "model_name": "DescriptionStyleModel",
      "state": {
       "_model_module": "@jupyter-widgets/controls",
       "_model_module_version": "1.5.0",
       "_model_name": "DescriptionStyleModel",
       "_view_count": null,
       "_view_module": "@jupyter-widgets/base",
       "_view_module_version": "1.2.0",
       "_view_name": "StyleView",
       "description_width": ""
      }
     },
     "a56dd2f1190e4f38bc1ec52620e0c3e2": {
      "model_module": "@jupyter-widgets/controls",
      "model_module_version": "1.5.0",
      "model_name": "HTMLModel",
      "state": {
       "_dom_classes": [],
       "_model_module": "@jupyter-widgets/controls",
       "_model_module_version": "1.5.0",
       "_model_name": "HTMLModel",
       "_view_count": null,
       "_view_module": "@jupyter-widgets/controls",
       "_view_module_version": "1.5.0",
       "_view_name": "HTMLView",
       "description": "",
       "description_tooltip": null,
       "layout": "IPY_MODEL_4d3d6421b0194261bb9704d4016d019e",
       "placeholder": "​",
       "style": "IPY_MODEL_008f81a9f4bf4575b278591d79ac0c38",
       "value": "Downloading: 100%"
      }
     },
     "a814d7544cbe4f1a9f78ba6f8988e95a": {
      "model_module": "@jupyter-widgets/controls",
      "model_module_version": "1.5.0",
      "model_name": "FloatProgressModel",
      "state": {
       "_dom_classes": [],
       "_model_module": "@jupyter-widgets/controls",
       "_model_module_version": "1.5.0",
       "_model_name": "FloatProgressModel",
       "_view_count": null,
       "_view_module": "@jupyter-widgets/controls",
       "_view_module_version": "1.5.0",
       "_view_name": "ProgressView",
       "bar_style": "success",
       "description": "",
       "description_tooltip": null,
       "layout": "IPY_MODEL_ea90b77c05ef4fde8f57be7da202b25f",
       "max": 466062,
       "min": 0,
       "orientation": "horizontal",
       "style": "IPY_MODEL_91baaeb46591443c99a3279196c82ce6",
       "value": 466062
      }
     },
     "aef783b858404283bf1654a8d9a05f66": {
      "model_module": "@jupyter-widgets/base",
      "model_module_version": "1.2.0",
      "model_name": "LayoutModel",
      "state": {
       "_model_module": "@jupyter-widgets/base",
       "_model_module_version": "1.2.0",
       "_model_name": "LayoutModel",
       "_view_count": null,
       "_view_module": "@jupyter-widgets/base",
       "_view_module_version": "1.2.0",
       "_view_name": "LayoutView",
       "align_content": null,
       "align_items": null,
       "align_self": null,
       "border": null,
       "bottom": null,
       "display": null,
       "flex": null,
       "flex_flow": null,
       "grid_area": null,
       "grid_auto_columns": null,
       "grid_auto_flow": null,
       "grid_auto_rows": null,
       "grid_column": null,
       "grid_gap": null,
       "grid_row": null,
       "grid_template_areas": null,
       "grid_template_columns": null,
       "grid_template_rows": null,
       "height": null,
       "justify_content": null,
       "justify_items": null,
       "left": null,
       "margin": null,
       "max_height": null,
       "max_width": null,
       "min_height": null,
       "min_width": null,
       "object_fit": null,
       "object_position": null,
       "order": null,
       "overflow": null,
       "overflow_x": null,
       "overflow_y": null,
       "padding": null,
       "right": null,
       "top": null,
       "visibility": null,
       "width": null
      }
     },
     "b7e58fe5198a462580192a175e89a6cf": {
      "model_module": "@jupyter-widgets/base",
      "model_module_version": "1.2.0",
      "model_name": "LayoutModel",
      "state": {
       "_model_module": "@jupyter-widgets/base",
       "_model_module_version": "1.2.0",
       "_model_name": "LayoutModel",
       "_view_count": null,
       "_view_module": "@jupyter-widgets/base",
       "_view_module_version": "1.2.0",
       "_view_name": "LayoutView",
       "align_content": null,
       "align_items": null,
       "align_self": null,
       "border": null,
       "bottom": null,
       "display": null,
       "flex": null,
       "flex_flow": null,
       "grid_area": null,
       "grid_auto_columns": null,
       "grid_auto_flow": null,
       "grid_auto_rows": null,
       "grid_column": null,
       "grid_gap": null,
       "grid_row": null,
       "grid_template_areas": null,
       "grid_template_columns": null,
       "grid_template_rows": null,
       "height": null,
       "justify_content": null,
       "justify_items": null,
       "left": null,
       "margin": null,
       "max_height": null,
       "max_width": null,
       "min_height": null,
       "min_width": null,
       "object_fit": null,
       "object_position": null,
       "order": null,
       "overflow": null,
       "overflow_x": null,
       "overflow_y": null,
       "padding": null,
       "right": null,
       "top": null,
       "visibility": null,
       "width": null
      }
     },
     "b975c8bb2cdb4d04bfacbb747d3f7d40": {
      "model_module": "@jupyter-widgets/controls",
      "model_module_version": "1.5.0",
      "model_name": "HBoxModel",
      "state": {
       "_dom_classes": [],
       "_model_module": "@jupyter-widgets/controls",
       "_model_module_version": "1.5.0",
       "_model_name": "HBoxModel",
       "_view_count": null,
       "_view_module": "@jupyter-widgets/controls",
       "_view_module_version": "1.5.0",
       "_view_name": "HBoxView",
       "box_style": "",
       "children": [
        "IPY_MODEL_8a77bb61e232448c9ad77ff539af4d2c",
        "IPY_MODEL_a814d7544cbe4f1a9f78ba6f8988e95a",
        "IPY_MODEL_152a587c8b1a46e7bfccb7ea9d1d034b"
       ],
       "layout": "IPY_MODEL_b9e1119cb66f41b69914a8faedcdcada"
      }
     },
     "b9e1119cb66f41b69914a8faedcdcada": {
      "model_module": "@jupyter-widgets/base",
      "model_module_version": "1.2.0",
      "model_name": "LayoutModel",
      "state": {
       "_model_module": "@jupyter-widgets/base",
       "_model_module_version": "1.2.0",
       "_model_name": "LayoutModel",
       "_view_count": null,
       "_view_module": "@jupyter-widgets/base",
       "_view_module_version": "1.2.0",
       "_view_name": "LayoutView",
       "align_content": null,
       "align_items": null,
       "align_self": null,
       "border": null,
       "bottom": null,
       "display": null,
       "flex": null,
       "flex_flow": null,
       "grid_area": null,
       "grid_auto_columns": null,
       "grid_auto_flow": null,
       "grid_auto_rows": null,
       "grid_column": null,
       "grid_gap": null,
       "grid_row": null,
       "grid_template_areas": null,
       "grid_template_columns": null,
       "grid_template_rows": null,
       "height": null,
       "justify_content": null,
       "justify_items": null,
       "left": null,
       "margin": null,
       "max_height": null,
       "max_width": null,
       "min_height": null,
       "min_width": null,
       "object_fit": null,
       "object_position": null,
       "order": null,
       "overflow": null,
       "overflow_x": null,
       "overflow_y": null,
       "padding": null,
       "right": null,
       "top": null,
       "visibility": null,
       "width": null
      }
     },
     "c100b5e48d334bb49c08770ad26a8332": {
      "model_module": "@jupyter-widgets/base",
      "model_module_version": "1.2.0",
      "model_name": "LayoutModel",
      "state": {
       "_model_module": "@jupyter-widgets/base",
       "_model_module_version": "1.2.0",
       "_model_name": "LayoutModel",
       "_view_count": null,
       "_view_module": "@jupyter-widgets/base",
       "_view_module_version": "1.2.0",
       "_view_name": "LayoutView",
       "align_content": null,
       "align_items": null,
       "align_self": null,
       "border": null,
       "bottom": null,
       "display": null,
       "flex": null,
       "flex_flow": null,
       "grid_area": null,
       "grid_auto_columns": null,
       "grid_auto_flow": null,
       "grid_auto_rows": null,
       "grid_column": null,
       "grid_gap": null,
       "grid_row": null,
       "grid_template_areas": null,
       "grid_template_columns": null,
       "grid_template_rows": null,
       "height": null,
       "justify_content": null,
       "justify_items": null,
       "left": null,
       "margin": null,
       "max_height": null,
       "max_width": null,
       "min_height": null,
       "min_width": null,
       "object_fit": null,
       "object_position": null,
       "order": null,
       "overflow": null,
       "overflow_x": null,
       "overflow_y": null,
       "padding": null,
       "right": null,
       "top": null,
       "visibility": null,
       "width": null
      }
     },
     "c341528478eb4285870c7dd400034090": {
      "model_module": "@jupyter-widgets/base",
      "model_module_version": "1.2.0",
      "model_name": "LayoutModel",
      "state": {
       "_model_module": "@jupyter-widgets/base",
       "_model_module_version": "1.2.0",
       "_model_name": "LayoutModel",
       "_view_count": null,
       "_view_module": "@jupyter-widgets/base",
       "_view_module_version": "1.2.0",
       "_view_name": "LayoutView",
       "align_content": null,
       "align_items": null,
       "align_self": null,
       "border": null,
       "bottom": null,
       "display": null,
       "flex": null,
       "flex_flow": null,
       "grid_area": null,
       "grid_auto_columns": null,
       "grid_auto_flow": null,
       "grid_auto_rows": null,
       "grid_column": null,
       "grid_gap": null,
       "grid_row": null,
       "grid_template_areas": null,
       "grid_template_columns": null,
       "grid_template_rows": null,
       "height": null,
       "justify_content": null,
       "justify_items": null,
       "left": null,
       "margin": null,
       "max_height": null,
       "max_width": null,
       "min_height": null,
       "min_width": null,
       "object_fit": null,
       "object_position": null,
       "order": null,
       "overflow": null,
       "overflow_x": null,
       "overflow_y": null,
       "padding": null,
       "right": null,
       "top": null,
       "visibility": null,
       "width": null
      }
     },
     "c84cc1c031fd4c0a826829a2e10d2b64": {
      "model_module": "@jupyter-widgets/base",
      "model_module_version": "1.2.0",
      "model_name": "LayoutModel",
      "state": {
       "_model_module": "@jupyter-widgets/base",
       "_model_module_version": "1.2.0",
       "_model_name": "LayoutModel",
       "_view_count": null,
       "_view_module": "@jupyter-widgets/base",
       "_view_module_version": "1.2.0",
       "_view_name": "LayoutView",
       "align_content": null,
       "align_items": null,
       "align_self": null,
       "border": null,
       "bottom": null,
       "display": null,
       "flex": null,
       "flex_flow": null,
       "grid_area": null,
       "grid_auto_columns": null,
       "grid_auto_flow": null,
       "grid_auto_rows": null,
       "grid_column": null,
       "grid_gap": null,
       "grid_row": null,
       "grid_template_areas": null,
       "grid_template_columns": null,
       "grid_template_rows": null,
       "height": null,
       "justify_content": null,
       "justify_items": null,
       "left": null,
       "margin": null,
       "max_height": null,
       "max_width": null,
       "min_height": null,
       "min_width": null,
       "object_fit": null,
       "object_position": null,
       "order": null,
       "overflow": null,
       "overflow_x": null,
       "overflow_y": null,
       "padding": null,
       "right": null,
       "top": null,
       "visibility": null,
       "width": null
      }
     },
     "cb1d6998d1bf413483f807133aba698f": {
      "model_module": "@jupyter-widgets/base",
      "model_module_version": "1.2.0",
      "model_name": "LayoutModel",
      "state": {
       "_model_module": "@jupyter-widgets/base",
       "_model_module_version": "1.2.0",
       "_model_name": "LayoutModel",
       "_view_count": null,
       "_view_module": "@jupyter-widgets/base",
       "_view_module_version": "1.2.0",
       "_view_name": "LayoutView",
       "align_content": null,
       "align_items": null,
       "align_self": null,
       "border": null,
       "bottom": null,
       "display": null,
       "flex": null,
       "flex_flow": null,
       "grid_area": null,
       "grid_auto_columns": null,
       "grid_auto_flow": null,
       "grid_auto_rows": null,
       "grid_column": null,
       "grid_gap": null,
       "grid_row": null,
       "grid_template_areas": null,
       "grid_template_columns": null,
       "grid_template_rows": null,
       "height": null,
       "justify_content": null,
       "justify_items": null,
       "left": null,
       "margin": null,
       "max_height": null,
       "max_width": null,
       "min_height": null,
       "min_width": null,
       "object_fit": null,
       "object_position": null,
       "order": null,
       "overflow": null,
       "overflow_x": null,
       "overflow_y": null,
       "padding": null,
       "right": null,
       "top": null,
       "visibility": null,
       "width": null
      }
     },
     "cfde4ab0bdcf4ba9b7c63476126de3bc": {
      "model_module": "@jupyter-widgets/controls",
      "model_module_version": "1.5.0",
      "model_name": "HTMLModel",
      "state": {
       "_dom_classes": [],
       "_model_module": "@jupyter-widgets/controls",
       "_model_module_version": "1.5.0",
       "_model_name": "HTMLModel",
       "_view_count": null,
       "_view_module": "@jupyter-widgets/controls",
       "_view_module_version": "1.5.0",
       "_view_name": "HTMLView",
       "description": "",
       "description_tooltip": null,
       "layout": "IPY_MODEL_c84cc1c031fd4c0a826829a2e10d2b64",
       "placeholder": "​",
       "style": "IPY_MODEL_9be65329137b4565b686ed314f5e1435",
       "value": " 363M/363M [00:12&lt;00:00, 30.3MB/s]"
      }
     },
     "d2340d6062304b3a92eda6e57ddf3e12": {
      "model_module": "@jupyter-widgets/controls",
      "model_module_version": "1.5.0",
      "model_name": "ProgressStyleModel",
      "state": {
       "_model_module": "@jupyter-widgets/controls",
       "_model_module_version": "1.5.0",
       "_model_name": "ProgressStyleModel",
       "_view_count": null,
       "_view_module": "@jupyter-widgets/base",
       "_view_module_version": "1.2.0",
       "_view_name": "StyleView",
       "bar_color": null,
       "description_width": ""
      }
     },
     "d2d5704f79c14c5e966629366da1aa6d": {
      "model_module": "@jupyter-widgets/base",
      "model_module_version": "1.2.0",
      "model_name": "LayoutModel",
      "state": {
       "_model_module": "@jupyter-widgets/base",
       "_model_module_version": "1.2.0",
       "_model_name": "LayoutModel",
       "_view_count": null,
       "_view_module": "@jupyter-widgets/base",
       "_view_module_version": "1.2.0",
       "_view_name": "LayoutView",
       "align_content": null,
       "align_items": null,
       "align_self": null,
       "border": null,
       "bottom": null,
       "display": null,
       "flex": null,
       "flex_flow": null,
       "grid_area": null,
       "grid_auto_columns": null,
       "grid_auto_flow": null,
       "grid_auto_rows": null,
       "grid_column": null,
       "grid_gap": null,
       "grid_row": null,
       "grid_template_areas": null,
       "grid_template_columns": null,
       "grid_template_rows": null,
       "height": null,
       "justify_content": null,
       "justify_items": null,
       "left": null,
       "margin": null,
       "max_height": null,
       "max_width": null,
       "min_height": null,
       "min_width": null,
       "object_fit": null,
       "object_position": null,
       "order": null,
       "overflow": null,
       "overflow_x": null,
       "overflow_y": null,
       "padding": null,
       "right": null,
       "top": null,
       "visibility": null,
       "width": null
      }
     },
     "d7ad402caadd4a829996905168beeb0f": {
      "model_module": "@jupyter-widgets/controls",
      "model_module_version": "1.5.0",
      "model_name": "ProgressStyleModel",
      "state": {
       "_model_module": "@jupyter-widgets/controls",
       "_model_module_version": "1.5.0",
       "_model_name": "ProgressStyleModel",
       "_view_count": null,
       "_view_module": "@jupyter-widgets/base",
       "_view_module_version": "1.2.0",
       "_view_name": "StyleView",
       "bar_color": null,
       "description_width": ""
      }
     },
     "dce02752700d44e3ad0701a774995b87": {
      "model_module": "@jupyter-widgets/controls",
      "model_module_version": "1.5.0",
      "model_name": "DescriptionStyleModel",
      "state": {
       "_model_module": "@jupyter-widgets/controls",
       "_model_module_version": "1.5.0",
       "_model_name": "DescriptionStyleModel",
       "_view_count": null,
       "_view_module": "@jupyter-widgets/base",
       "_view_module_version": "1.2.0",
       "_view_name": "StyleView",
       "description_width": ""
      }
     },
     "e773fcadde064e14a9d7f8c266e1547e": {
      "model_module": "@jupyter-widgets/controls",
      "model_module_version": "1.5.0",
      "model_name": "DescriptionStyleModel",
      "state": {
       "_model_module": "@jupyter-widgets/controls",
       "_model_module_version": "1.5.0",
       "_model_name": "DescriptionStyleModel",
       "_view_count": null,
       "_view_module": "@jupyter-widgets/base",
       "_view_module_version": "1.2.0",
       "_view_name": "StyleView",
       "description_width": ""
      }
     },
     "ea374fe899164f1abb3f74b473f95390": {
      "model_module": "@jupyter-widgets/controls",
      "model_module_version": "1.5.0",
      "model_name": "HTMLModel",
      "state": {
       "_dom_classes": [],
       "_model_module": "@jupyter-widgets/controls",
       "_model_module_version": "1.5.0",
       "_model_name": "HTMLModel",
       "_view_count": null,
       "_view_module": "@jupyter-widgets/controls",
       "_view_module_version": "1.5.0",
       "_view_name": "HTMLView",
       "description": "",
       "description_tooltip": null,
       "layout": "IPY_MODEL_aef783b858404283bf1654a8d9a05f66",
       "placeholder": "​",
       "style": "IPY_MODEL_6d973ea4940c4e75aa115b87601cec62",
       "value": "Downloading: 100%"
      }
     },
     "ea90b77c05ef4fde8f57be7da202b25f": {
      "model_module": "@jupyter-widgets/base",
      "model_module_version": "1.2.0",
      "model_name": "LayoutModel",
      "state": {
       "_model_module": "@jupyter-widgets/base",
       "_model_module_version": "1.2.0",
       "_model_name": "LayoutModel",
       "_view_count": null,
       "_view_module": "@jupyter-widgets/base",
       "_view_module_version": "1.2.0",
       "_view_name": "LayoutView",
       "align_content": null,
       "align_items": null,
       "align_self": null,
       "border": null,
       "bottom": null,
       "display": null,
       "flex": null,
       "flex_flow": null,
       "grid_area": null,
       "grid_auto_columns": null,
       "grid_auto_flow": null,
       "grid_auto_rows": null,
       "grid_column": null,
       "grid_gap": null,
       "grid_row": null,
       "grid_template_areas": null,
       "grid_template_columns": null,
       "grid_template_rows": null,
       "height": null,
       "justify_content": null,
       "justify_items": null,
       "left": null,
       "margin": null,
       "max_height": null,
       "max_width": null,
       "min_height": null,
       "min_width": null,
       "object_fit": null,
       "object_position": null,
       "order": null,
       "overflow": null,
       "overflow_x": null,
       "overflow_y": null,
       "padding": null,
       "right": null,
       "top": null,
       "visibility": null,
       "width": null
      }
     },
     "fa418fe9a28d4ca99f5f9e3a3f7a675f": {
      "model_module": "@jupyter-widgets/controls",
      "model_module_version": "1.5.0",
      "model_name": "FloatProgressModel",
      "state": {
       "_dom_classes": [],
       "_model_module": "@jupyter-widgets/controls",
       "_model_module_version": "1.5.0",
       "_model_name": "FloatProgressModel",
       "_view_count": null,
       "_view_module": "@jupyter-widgets/controls",
       "_view_module_version": "1.5.0",
       "_view_name": "ProgressView",
       "bar_style": "success",
       "description": "",
       "description_tooltip": null,
       "layout": "IPY_MODEL_855f71d46cb44d5eb123bf9152afee88",
       "max": 231508,
       "min": 0,
       "orientation": "horizontal",
       "style": "IPY_MODEL_435ed6fd03044351be508e5c30ed534a",
       "value": 231508
      }
     },
     "ff5425cb22a14234a3f8de73aca1fb4b": {
      "model_module": "@jupyter-widgets/controls",
      "model_module_version": "1.5.0",
      "model_name": "HTMLModel",
      "state": {
       "_dom_classes": [],
       "_model_module": "@jupyter-widgets/controls",
       "_model_module_version": "1.5.0",
       "_model_name": "HTMLModel",
       "_view_count": null,
       "_view_module": "@jupyter-widgets/controls",
       "_view_module_version": "1.5.0",
       "_view_name": "HTMLView",
       "description": "",
       "description_tooltip": null,
       "layout": "IPY_MODEL_866225a07eec404c96e4b5957b868e70",
       "placeholder": "​",
       "style": "IPY_MODEL_dce02752700d44e3ad0701a774995b87",
       "value": "Downloading: 100%"
      }
     }
    },
    "version_major": 2,
    "version_minor": 0
   }
  }
 },
 "nbformat": 4,
 "nbformat_minor": 5
}
